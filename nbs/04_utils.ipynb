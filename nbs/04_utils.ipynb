{
 "cells": [
  {
   "cell_type": "code",
   "execution_count": null,
   "metadata": {},
   "outputs": [],
   "source": [
    "# default_exp utils"
   ]
  },
  {
   "cell_type": "code",
   "execution_count": null,
   "metadata": {},
   "outputs": [],
   "source": [
    "%matplotlib inline\n",
    "%reload_ext autoreload\n",
    "%autoreload 2"
   ]
  },
  {
   "cell_type": "markdown",
   "metadata": {},
   "source": [
    "# Utils\n",
    "\n",
    "> API details."
   ]
  },
  {
   "cell_type": "code",
   "execution_count": null,
   "metadata": {},
   "outputs": [],
   "source": [
    "#hide\n",
    "from nbdev.showdoc import *"
   ]
  },
  {
   "cell_type": "code",
   "execution_count": null,
   "metadata": {},
   "outputs": [],
   "source": [
    "# export\n",
    "import torch\n",
    "from torch import Tensor\n",
    "from torch.nn import init\n",
    "import torch.nn as nn\n",
    "\n",
    "from typing import Union, List\n",
    "import numpy as np"
   ]
  },
  {
   "cell_type": "code",
   "execution_count": null,
   "metadata": {},
   "outputs": [],
   "source": [
    "# export\n",
    "device = torch.device('cuda') if torch.cuda.is_available() else torch.device('cpu')\n",
    "\n",
    "def to_device(x:Union[Tensor,List[Tensor]], device:torch.device=device) -> Union[Tensor,List[Tensor]]:\n",
    "    r'''\n",
    "    Recursively place Tensor(s) onto device\n",
    "\n",
    "    Arguments:\n",
    "        x: Tensor(s) to place on device\n",
    "\n",
    "    Returns:\n",
    "        Tensor(s) on device\n",
    "    '''\n",
    "\n",
    "    if x is None: return x\n",
    "    if isinstance(x, list): return [to_device(o, device) for o in x]\n",
    "    return x.to(device)"
   ]
  },
  {
   "cell_type": "code",
   "execution_count": null,
   "metadata": {},
   "outputs": [],
   "source": [
    "# export\n",
    "def to_np(x:Tensor) -> np.ndarray:\n",
    "    r'''\n",
    "    Convert Tensor x to a Numpy array\n",
    "\n",
    "    Arguments:\n",
    "        x: Tensor to convert\n",
    "\n",
    "    Returns:\n",
    "        x as a Numpy array\n",
    "    '''\n",
    "    \n",
    "    return x.cpu().detach().numpy()"
   ]
  },
  {
   "cell_type": "code",
   "execution_count": null,
   "metadata": {},
   "outputs": [],
   "source": [
    "# export\n",
    "def init_net(model:nn.Module):\n",
    "    if isinstance(model,nn.Linear):\n",
    "        init.kaiming_normal_(model.weight, nonlinearity='relu')\n",
    "        init.zeros_(model.bias)\n",
    "    for l in model.children(): init_net(l)"
   ]
  }
 ],
 "metadata": {
  "kernelspec": {
   "display_name": "Python 3",
   "language": "python",
   "name": "python3"
  }
 },
 "nbformat": 4,
 "nbformat_minor": 2
}
