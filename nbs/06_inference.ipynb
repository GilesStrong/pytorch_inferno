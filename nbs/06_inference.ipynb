{
 "cells": [
  {
   "cell_type": "code",
   "execution_count": null,
   "metadata": {},
   "outputs": [],
   "source": [
    "# default_exp inference"
   ]
  },
  {
   "cell_type": "code",
   "execution_count": null,
   "metadata": {},
   "outputs": [],
   "source": [
    "%matplotlib inline\n",
    "%reload_ext autoreload\n",
    "%autoreload 2"
   ]
  },
  {
   "cell_type": "markdown",
   "metadata": {},
   "source": [
    "# Inference\n",
    "\n",
    "> API details."
   ]
  },
  {
   "cell_type": "code",
   "execution_count": null,
   "metadata": {},
   "outputs": [],
   "source": [
    "# export\n",
    "from pytorch_inferno.model_wrapper import ModelWrapper\n",
    "from pytorch_inferno.callback import PaperSystMod, PredHandler\n",
    "\n",
    "import pandas as pd\n",
    "import numpy as np\n",
    "from typing import *\n",
    "from collections import OrderedDict\n",
    "from scipy.interpolate import InterpolatedUnivariateSpline\n",
    "import itertools\n",
    "from fastcore.all import partialler\n",
    "from fastprogress import progress_bar\n",
    "import math\n",
    "\n",
    "from torch import Tensor\n",
    "import torch\n",
    "from torch import autograd"
   ]
  },
  {
   "cell_type": "code",
   "execution_count": null,
   "metadata": {},
   "outputs": [],
   "source": [
    "# export\n",
    "def bin_preds(df:pd.DataFrame, bins:np.ndarray=np.linspace(0.,1.,11), pred_name='pred') -> None:\n",
    "    df[f'{pred_name}_bin'] = np.digitize(df[pred_name], bins)-1"
   ]
  },
  {
   "cell_type": "code",
   "execution_count": null,
   "metadata": {},
   "outputs": [],
   "source": [
    "# export\n",
    "def get_shape(df:pd.DataFrame, targ:int, pred_name:str='pred_bin') -> Tensor:\n",
    "    f = df.loc[df.gen_target == targ, pred_name].value_counts()\n",
    "    f.sort_index(inplace=True)\n",
    "    f /= f.sum()\n",
    "    return Tensor(f.values)"
   ]
  },
  {
   "cell_type": "code",
   "execution_count": null,
   "metadata": {},
   "outputs": [],
   "source": [
    "# export\n",
    "def get_paper_syst_shapes(bkg_data:np.ndarray, df:pd.DataFrame, model:ModelWrapper, pred_cb:Optional[PredHandler]=None,\n",
    "                          r_vals:Tuple[float,float,float]=[-0.2,0,0.2], l_vals:Tuple[float]=[2.5,3,3.5]) -> OrderedDict:\n",
    "    def _get_shape(r,l):\n",
    "        bp = model.predict(bkg_data, pred_cb=pred_cb, cbs=PaperSystMod(r=r,l=l))\n",
    "        n = f'pred_{r}_{l}'\n",
    "        df[n] = df.pred\n",
    "        df.loc[df.gen_target == 0, n] = bp\n",
    "        bin_preds(df, pred_name=n)\n",
    "        return get_shape(df, 0, f'{n}_bin')\n",
    "    \n",
    "    shapes = OrderedDict()\n",
    "    for i,r in enumerate(r_vals):\n",
    "        print(f'Running: r={r}')\n",
    "        shapes[f'{i}_{1}'] = _get_shape(r,l_vals[1])\n",
    "    for i,l in enumerate(l_vals):\n",
    "        print(f'Running: l={l}')\n",
    "        shapes[f'{1}_{i}'] = _get_shape(r_vals[1],l)\n",
    "    return OrderedDict((('f_b_nom',shapes['1_1']),\n",
    "                        ('f_b_up', torch.stack((shapes['2_1'],shapes['1_2']))),\n",
    "                        ('f_b_dw', torch.stack((shapes['0_1'],shapes['1_0'])))))"
   ]
  },
  {
   "cell_type": "code",
   "execution_count": null,
   "metadata": {},
   "outputs": [],
   "source": [
    "# export\n",
    "def get_likelihood_width(nll:np.ndarray, mu_scan:np.ndarray, val:float=0.5) -> float:\n",
    "    r = InterpolatedUnivariateSpline(mu_scan, nll-val-nll.min()).roots()\n",
    "    if len(r) != 2: raise ValueError(f'No roots found at {val}, set val to a smaller value.')\n",
    "    return (r[1]-r[0])/2"
   ]
  },
  {
   "cell_type": "code",
   "execution_count": null,
   "metadata": {},
   "outputs": [],
   "source": [
    "# export\n",
    "def interp_shape(alpha:Tensor, f_b_nom:Tensor, f_b_up:Tensor, f_b_dw:Tensor):\n",
    "    alpha_t = torch.repeat_interleave(alpha.unsqueeze(-1), repeats=f_b_nom.shape[-1], dim=-1)\n",
    "    a = 0.5*(f_b_up+f_b_dw)[None,:]-f_b_nom\n",
    "    b = 0.5*(f_b_up-f_b_dw)[None,:]\n",
    "\n",
    "    switch = torch.where(alpha_t < 0., f_b_dw - f_b_nom, f_b_up - f_b_nom)\n",
    "    abs_var = torch.where(torch.abs(alpha_t) > 1.,\n",
    "                          (2 * b + torch.sign(alpha_t) * a) *\n",
    "                          (alpha_t - torch.sign(alpha_t)) + switch,\n",
    "                          a*torch.pow(alpha_t, 2)+ b * alpha_t)\n",
    "    return (f_b_nom + abs_var.sum(1, keepdim=True)).squeeze(1)"
   ]
  },
  {
   "cell_type": "code",
   "execution_count": null,
   "metadata": {},
   "outputs": [],
   "source": [
    "# export\n",
    "def calc_nll(s_true:float, b_true:float, s_exp:Tensor, f_s:Tensor, alpha:Tensor,\n",
    "             f_b_nom:Tensor, f_b_up:Tensor, f_b_dw:Tensor) -> Tensor:\n",
    "    f_b = interp_shape(alpha, f_b_nom, f_b_up, f_b_dw)\n",
    "    t_exp = (s_exp[:,None]*f_s[None,])+(b_true*f_b)\n",
    "    asimov = (s_true*f_s)+(b_true*f_b_nom)\n",
    "    p = torch.distributions.Poisson(t_exp)\n",
    "    return -p.log_prob(asimov).sum(1)"
   ]
  },
  {
   "cell_type": "code",
   "execution_count": null,
   "metadata": {},
   "outputs": [],
   "source": [
    "# export\n",
    "def calc_grad_hesse(nll:Tensor, alpha:Tensor) -> Tuple[Tensor,Tensor]:\n",
    "    grad = autograd.grad(nll, alpha, torch.ones_like(nll, device=nll.device), create_graph=True)[0]\n",
    "    hesse = autograd.grad(grad, alpha, torch.ones_like(alpha, device=nll.device), create_graph=True, retain_graph=True)[0]\n",
    "    alpha.grad=None\n",
    "    return grad, hesse"
   ]
  },
  {
   "cell_type": "code",
   "execution_count": null,
   "metadata": {},
   "outputs": [],
   "source": [
    "# export\n",
    "def calc_profile(f_s:Tensor, f_b_nom:Tensor, f_b_up:Tensor, f_b_dw:Tensor, n:int,\n",
    "                 mu_scan:Tensor, true_mu:int, n_steps:int=100, lr:float=0.1,  verbose:bool=True) -> Tensor:\n",
    "    alpha = torch.zeros((len(mu_scan),f_b_up.shape[0]), requires_grad=True, device=f_b_nom.device)\n",
    "    f_b_nom = f_b_nom.unsqueeze(0)\n",
    "    get_nll = partialler(calc_nll, s_true=true_mu, b_true=n-true_mu, s_exp=mu_scan,\n",
    "                         f_s=f_s, f_b_nom=f_b_nom, f_b_up=f_b_up, f_b_dw=f_b_dw)\n",
    "    for i in range(n_steps):  # Newton optimise nuisances\n",
    "        nll = get_nll(alpha=alpha)\n",
    "        grad, hesse = calc_grad_hesse(nll, alpha)\n",
    "        step = torch.clamp(lr*grad.detach()/(hesse+1e-7), -100, 100)\n",
    "        alpha = alpha-step\n",
    "    return get_nll(alpha=alpha), alpha"
   ]
  },
  {
   "cell_type": "code",
   "execution_count": null,
   "metadata": {},
   "outputs": [],
   "source": []
  }
 ],
 "metadata": {
  "kernelspec": {
   "display_name": "Python 3",
   "language": "python",
   "name": "python3"
  }
 },
 "nbformat": 4,
 "nbformat_minor": 2
}
