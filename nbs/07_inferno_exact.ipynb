{
 "cells": [
  {
   "cell_type": "code",
   "execution_count": null,
   "metadata": {},
   "outputs": [],
   "source": [
    "# default_exp inferno"
   ]
  },
  {
   "cell_type": "code",
   "execution_count": null,
   "metadata": {},
   "outputs": [],
   "source": [
    "%matplotlib inline\n",
    "%reload_ext autoreload\n",
    "%autoreload 2"
   ]
  },
  {
   "cell_type": "markdown",
   "metadata": {},
   "source": [
    "# Exact INFERNO loss\n",
    "\n",
    "Attempted reproduction INFERNO following TF1 & TF2 implementations with exact effect of nuisances being passed through model\n",
    "Runs but doesn't reproduce paper results"
   ]
  },
  {
   "cell_type": "code",
   "execution_count": null,
   "metadata": {},
   "outputs": [],
   "source": [
    "#hide\n",
    "from nbdev.showdoc import *"
   ]
  },
  {
   "cell_type": "code",
   "execution_count": null,
   "metadata": {},
   "outputs": [],
   "source": [
    "#export\n",
    "from pytorch_inferno.callback import AbsCallback, PredHandler\n",
    "\n",
    "import numpy as np\n",
    "from abc import abstractmethod\n",
    "from typing import Tuple, Optional\n",
    "\n",
    "import torch.nn as nn\n",
    "from torch import Tensor"
   ]
  },
  {
   "cell_type": "code",
   "execution_count": null,
   "metadata": {},
   "outputs": [],
   "source": [
    "from pytorch_inferno.model_wrapper import ModelWrapper\n",
    "from pytorch_inferno.callback import *\n",
    "from pytorch_inferno.data import get_paper_data\n",
    "from pytorch_inferno.plotting import *\n",
    "from pytorch_inferno.inference import *\n",
    "from pytorch_inferno.utils import *\n",
    "\n",
    "from fastcore.all import partialler\n",
    "import pandas as pd\n",
    "import matplotlib.pyplot as plt\n",
    "import seaborn as sns\n",
    "import itertools\n",
    "from typing import *\n",
    "from collections import OrderedDict\n",
    "from fastcore.all import store_attr\n",
    "\n",
    "import torch.nn.functional as F\n",
    "from torch import optim\n",
    "import torch\n",
    "from torch import autograd"
   ]
  },
  {
   "cell_type": "markdown",
   "metadata": {},
   "source": [
    "# Network"
   ]
  },
  {
   "cell_type": "code",
   "execution_count": null,
   "metadata": {},
   "outputs": [],
   "source": [
    "bs = 2000\n",
    "data, test = get_paper_data(200000, bs=bs, n_test=1000000)"
   ]
  },
  {
   "cell_type": "code",
   "execution_count": null,
   "metadata": {},
   "outputs": [],
   "source": [
    "# export\n",
    "class VariableSoftmax(nn.Softmax):\n",
    "    r'''Softmax with temperature'''\n",
    "    def __init__(self, temp:float=1, dim:int=-1):\n",
    "        super().__init__(dim=dim)\n",
    "        self.temp = temp\n",
    "        \n",
    "    def forward(self, x:Tensor) -> Tensor: return super().forward(x/self.temp)"
   ]
  },
  {
   "cell_type": "code",
   "execution_count": null,
   "metadata": {},
   "outputs": [],
   "source": [
    "x = torch.randn((1,10))"
   ]
  },
  {
   "cell_type": "code",
   "execution_count": null,
   "metadata": {},
   "outputs": [
    {
     "data": {
      "text/plain": [
       "(tensor([[8.8535e-14, 4.8634e-14, 1.4559e-17, 6.6387e-08, 7.5505e-01, 2.3809e-06,\n",
       "          3.5060e-05, 1.4489e-13, 2.4489e-01, 2.0102e-05]]),\n",
       " tensor([[1.1882e-03, 1.0541e-03, 2.0802e-04, 1.7779e-02, 4.5822e-01, 3.6377e-02,\n",
       "          6.2294e-02, 1.3113e-03, 3.6583e-01, 5.5735e-02]]),\n",
       " tensor([[0.0156, 0.0147, 0.0065, 0.0604, 0.3064, 0.0863, 0.1130, 0.0164, 0.2738,\n",
       "          0.1069]]))"
      ]
     },
     "execution_count": null,
     "metadata": {},
     "output_type": "execute_result"
    }
   ],
   "source": [
    "VariableSoftmax(0.1)(x), VariableSoftmax(0.5)(x), VariableSoftmax(1)(x)"
   ]
  },
  {
   "cell_type": "code",
   "execution_count": null,
   "metadata": {},
   "outputs": [],
   "source": [
    "net = nn.Sequential(nn.Linear(3,100),  nn.ReLU(),\n",
    "                    nn.Linear(100,100),nn.ReLU(),\n",
    "                    nn.Linear(100,10), VariableSoftmax(0.1))\n",
    "init_net(net)"
   ]
  },
  {
   "cell_type": "markdown",
   "metadata": {},
   "source": [
    "# Loss"
   ]
  },
  {
   "cell_type": "code",
   "execution_count": null,
   "metadata": {},
   "outputs": [],
   "source": [
    "x,y,w = next(iter(data.trn_dl))\n",
    "preds = net(x)\n",
    "assert preds.shape == (bs,10)"
   ]
  },
  {
   "cell_type": "code",
   "execution_count": null,
   "metadata": {},
   "outputs": [],
   "source": [
    "def to_shape(p:Tensor) -> Tensor:\n",
    "    f = p.sum(0)\n",
    "    f = f/f.sum()\n",
    "    return f"
   ]
  },
  {
   "cell_type": "code",
   "execution_count": null,
   "metadata": {},
   "outputs": [],
   "source": [
    "m = y.squeeze()==0\n",
    "f_s = to_shape(preds[~m])\n",
    "f_b = to_shape(preds[m])"
   ]
  },
  {
   "cell_type": "code",
   "execution_count": null,
   "metadata": {},
   "outputs": [
    {
     "data": {
      "text/plain": [
       "[<matplotlib.lines.Line2D at 0x7f185f97b668>]"
      ]
     },
     "execution_count": null,
     "metadata": {},
     "output_type": "execute_result"
    },
    {
     "data": {
      "image/png": "[encoded data removed]",
      "text/plain": [
       "<Figure size 432x288 with 1 Axes>"
      ]
     },
     "metadata": {},
     "output_type": "display_data"
    }
   ],
   "source": [
    "plt.plot(to_np(f_s))\n",
    "plt.plot(to_np(f_b))"
   ]
  },
  {
   "cell_type": "markdown",
   "metadata": {},
   "source": [
    "Class initialised with a true number of signal events $\\mu$ and a true number of events $n$. The true number of background events is then computed as $n-mu$. The number of nuisance parameters must also be passed. \n",
    "\n",
    "This process includes the analytical effect of the nuisances, and their interdependence, since the augmented batch is passed through the model. This does, however, require that the effect of each nuisance on the input features is accurately parameterised.\n",
    "\n",
    "Running cycle is:\n",
    "1. on_train_begin: set alpha as tensor with gradient and `n_alpha+1` elements. Set element zero to $\\mu$.\n",
    "1. for e in #epochs:\n",
    "    1. for b in #batches:\n",
    "        1. on_batch_begin: add relevant nuisances to incoming batch of inputs (as implemented in inheriting function)\n",
    "        1. on_forwards_end:\n",
    "            1. compute the full hessian of the negative log-likelihood w.r.t alpha (shape systematics included since they're added to the input data and passed through the model)\n",
    "            1. invert hessian , and set the diagonal element corresponding to $\\mu$ as the loss value\n",
    "        1. on_batch_end: zero gradient of alpha"
   ]
  },
  {
   "cell_type": "code",
   "execution_count": null,
   "metadata": {},
   "outputs": [],
   "source": [
    "#export\n",
    "class AbsInferno(AbsCallback):\n",
    "    r'''Attempted reproduction of TF1 & TF2 INFERNO with exact effect of nuisances being passed through model\n",
    "    Runs but doesn't reproduce paper results; values are off and display strong changes between benchmarks\n",
    "    Includes option to randomise params per batch, but results in worse performance'''\n",
    "    def __init__(self, n:int, true_mu:float, n_alphas:int=0, aug_alpha:bool=False):\n",
    "        super().__init__()\n",
    "        store_attr()\n",
    "        self.true_b = self.n-self.true_mu\n",
    "        \n",
    "    def on_train_begin(self) -> None:\n",
    "        self.wrapper.loss_func = None  # Ensure loss function is skipped, callback computes loss value in `on_forwards_end`\n",
    "        for c in self.wrapper.cbs:\n",
    "            if hasattr(c, 'loss_is_meaned'): c.loss_is_meaned = False  # Ensure that average losses are correct\n",
    "        self.alpha = torch.zeros((self.n_alphas+1), requires_grad=True, device=self.wrapper.device)  #  Nuisances set to zero (true values)\n",
    "        with torch.no_grad(): self.alpha[0] = self.true_mu  # POI set to true value\n",
    "                \n",
    "    def on_batch_begin(self) -> None:\n",
    "        if self.aug_alpha:\n",
    "            self.rand = torch.randn_like(self.alpha, device=self.wrapper.device)/10\n",
    "            with torch.no_grad(): self.alpha += self.rand\n",
    "        self.b_mask = self.wrapper.y.squeeze() == 0\n",
    "        self.aug_data(self.wrapper.x)\n",
    "    \n",
    "    def on_batch_end(self) -> None:\n",
    "        if self.aug_alpha:\n",
    "             with torch.no_grad(): self.alpha -= self.rand\n",
    "        self.alpha.grad.data.zero_()\n",
    "    \n",
    "    @abstractmethod\n",
    "    def aug_data(self, x:Tensor) -> Tensor:\n",
    "        r'''Include nuisances in input data. Overide this for specific problem.'''\n",
    "        pass\n",
    "    \n",
    "    def get_inv_ikk(self, f_s:Tensor, f_b:Tensor) -> Tensor:\n",
    "        r'''Compute full hessian at true param values'''\n",
    "        nll = calc_nll(s_exp=self.alpha[0], alpha=self.alpha[1:], s_true=self.true_mu, b_true=self.true_b,\n",
    "                       f_s=f_s, f_b_nom=f_b, f_b_up=None, f_b_dw=None)\n",
    "        _,h = calc_grad_hesse(nll, self.alpha, create_graph=True)\n",
    "#         print('hess', h)\n",
    "#         print('inverse', torch.inverse(h))\n",
    "#         print('reciprocal', 1/h)\n",
    "        return torch.inverse(h)[0,0]\n",
    "        \n",
    "    def on_forwards_end(self) -> None:\n",
    "        r'''Compute loss and replace wrapper loss value'''\n",
    "        def to_shape(p:Tensor) -> Tensor:\n",
    "            f = p.sum(0)+1e-7\n",
    "            return f/f.sum()\n",
    "        \n",
    "        f_s = to_shape(self.wrapper.y_pred[~self.b_mask])\n",
    "        f_b = to_shape(self.wrapper.y_pred[self.b_mask])\n",
    "        self.wrapper.loss_val = self.get_inv_ikk(f_s=f_s, f_b=f_b)"
   ]
  },
  {
   "cell_type": "code",
   "execution_count": null,
   "metadata": {},
   "outputs": [],
   "source": [
    "#export\n",
    "class PaperInferno(AbsInferno):\n",
    "    r'''Inheriting class for dealing with INFERNO paper synthetic problem'''\n",
    "    def __init__(self, float_r:bool, float_l:bool, l_init:float=3, n:int=1050, true_mu:int=50, aug_alpha:bool=False):\n",
    "        super().__init__(n=n, true_mu=true_mu, n_alphas=float_r+float_l, aug_alpha=aug_alpha)\n",
    "        self.float_r,self.float_l,self.l_init = float_r,float_l,l_init\n",
    "        \n",
    "    def aug_data(self, x:Tensor) -> None:\n",
    "        if self.float_r: x[self.b_mask,0] += self.alpha[1]\n",
    "        if self.float_l: x[self.b_mask,2] *= (self.alpha[-1]+self.l_init)/self.l_init"
   ]
  },
  {
   "cell_type": "code",
   "execution_count": null,
   "metadata": {},
   "outputs": [],
   "source": [
    "net = nn.Sequential(nn.Linear(3,100),  nn.ReLU(),\n",
    "                    nn.Linear(100,100),nn.ReLU(),\n",
    "                    nn.Linear(100,10), VariableSoftmax(0.1))\n",
    "init_net(net)\n",
    "model = ModelWrapper(net)"
   ]
  },
  {
   "cell_type": "code",
   "execution_count": null,
   "metadata": {},
   "outputs": [
    {
     "data": {
      "text/html": [],
      "text/plain": [
       "<IPython.core.display.HTML object>"
      ]
     },
     "metadata": {},
     "output_type": "display_data"
    },
    {
     "name": "stdout",
     "output_type": "stream",
     "text": [
      "1: Train=497.4274514770508 Valid=408.34471923828124\n",
      "2: Train=375.8917514038086 Valid=352.96046752929686\n",
      "3: Train=342.02210723876954 Valid=333.2933459472656\n",
      "4: Train=327.3842251586914 Valid=324.52184997558595\n",
      "5: Train=318.8758660888672 Valid=318.0558508300781\n",
      "6: Train=313.8660549926758 Valid=313.5749700927734\n",
      "7: Train=309.63885620117185 Valid=309.1212939453125\n",
      "8: Train=305.32783569335936 Valid=305.7711767578125\n",
      "9: Train=302.4732925415039 Valid=302.87958068847655\n",
      "10: Train=298.85242584228513 Valid=299.7166638183594\n",
      "11: Train=296.5826773071289 Valid=296.7247940063477\n",
      "12: Train=294.0609989929199 Valid=294.6117590332031\n",
      "13: Train=291.8406834411621 Valid=292.249580078125\n",
      "14: Train=289.6170373535156 Valid=290.0835070800781\n",
      "15: Train=287.16737899780276 Valid=288.70758728027346\n",
      "16: Train=284.69798736572267 Valid=286.48362518310546\n",
      "17: Train=283.2212632751465 Valid=285.0945846557617\n",
      "18: Train=281.6728303527832 Valid=283.68095458984374\n",
      "19: Train=280.13597457885743 Valid=281.907412109375\n",
      "20: Train=278.46923416137696 Valid=280.8348309326172\n",
      "21: Train=277.0340272521973 Valid=279.12598693847656\n",
      "22: Train=276.0441062927246 Valid=277.8633123779297\n",
      "23: Train=274.501417388916 Valid=276.3122439575195\n",
      "24: Train=273.2755125427246 Valid=275.2384768676758\n",
      "25: Train=271.9443707275391 Valid=273.7466107177734\n",
      "26: Train=270.51631271362305 Valid=272.723662109375\n",
      "27: Train=269.8947265625 Valid=271.65639526367187\n",
      "28: Train=268.56746673583984 Valid=271.175146484375\n",
      "29: Train=267.4126773071289 Valid=269.95445526123046\n",
      "30: Train=266.92323822021484 Valid=269.51086883544923\n",
      "31: Train=266.0370860290527 Valid=268.13060272216796\n",
      "32: Train=264.3952470397949 Valid=267.49890594482423\n",
      "33: Train=263.6918571472168 Valid=265.92692291259766\n",
      "34: Train=262.34633575439454 Valid=265.2009753417969\n",
      "35: Train=261.4500212097168 Valid=264.41761108398435\n",
      "36: Train=260.64826370239257 Valid=263.12781646728513\n",
      "37: Train=259.62296951293945 Valid=263.0142349243164\n",
      "38: Train=258.75865844726565 Valid=262.17414520263674\n",
      "39: Train=257.96311691284177 Valid=262.1239984130859\n",
      "40: Train=257.0152346801758 Valid=261.25245849609377\n",
      "41: Train=257.2131506347656 Valid=260.87752136230466\n",
      "42: Train=256.339951171875 Valid=260.7162380981445\n",
      "43: Train=256.24130233764646 Valid=260.1960330200195\n",
      "44: Train=255.63654052734375 Valid=259.5042169189453\n",
      "45: Train=255.30722702026367 Valid=260.0004891967773\n",
      "46: Train=255.18277572631837 Valid=259.6549945068359\n",
      "47: Train=254.27715866088866 Valid=259.0726089477539\n",
      "48: Train=254.06269592285156 Valid=258.92015686035154\n",
      "49: Train=254.18859542846678 Valid=258.64549865722654\n",
      "50: Train=253.69144912719727 Valid=258.3499917602539\n",
      "51: Train=253.38647933959962 Valid=257.56904876708984\n",
      "52: Train=252.91880264282227 Valid=257.42870666503904\n",
      "53: Train=253.10369247436523 Valid=256.9977847290039\n",
      "54: Train=252.63835845947267 Valid=256.4146701049805\n",
      "55: Train=251.94309646606445 Valid=256.5891998291016\n",
      "56: Train=251.81160552978517 Valid=255.98382202148437\n",
      "57: Train=251.06911483764648 Valid=256.09642028808594\n",
      "58: Train=251.26419479370117 Valid=255.22800201416015\n",
      "59: Train=250.86965881347658 Valid=255.15254974365234\n",
      "60: Train=250.28484649658202 Valid=255.26904693603515\n",
      "61: Train=250.81037017822266 Valid=255.28558380126952\n",
      "62: Train=250.2265783691406 Valid=254.68543151855468\n",
      "63: Train=250.07753616333008 Valid=254.70532196044923\n",
      "64: Train=249.86971008300782 Valid=254.37619903564453\n",
      "65: Train=249.04731246948242 Valid=254.49192260742188\n",
      "66: Train=249.21913528442383 Valid=254.00948760986327\n",
      "67: Train=248.9136100769043 Valid=253.58240295410155\n",
      "68: Train=248.9943588256836 Valid=253.96746002197267\n",
      "69: Train=248.68842971801757 Valid=253.5887777709961\n",
      "70: Train=248.66049499511718 Valid=253.39768249511718\n",
      "71: Train=248.61595443725585 Valid=253.57390838623047\n",
      "72: Train=248.19333267211914 Valid=252.86864166259767\n",
      "73: Train=248.57709060668947 Valid=252.92458709716797\n",
      "74: Train=248.00616989135742 Valid=252.75675048828126\n",
      "75: Train=247.8032440185547 Valid=253.02817504882813\n",
      "76: Train=248.07166549682617 Valid=252.67473083496094\n",
      "77: Train=247.6971565246582 Valid=252.40252990722655\n",
      "78: Train=247.4959945678711 Valid=252.41675354003905\n",
      "79: Train=247.26615173339843 Valid=252.19226135253905\n",
      "80: Train=247.223193359375 Valid=252.44886077880858\n",
      "81: Train=247.12818206787108 Valid=252.05834136962892\n",
      "82: Train=246.88935241699218 Valid=251.9156103515625\n",
      "83: Train=247.25622970581054 Valid=251.76897064208984\n",
      "84: Train=246.72227310180665 Valid=251.57626007080077\n",
      "85: Train=246.7661279296875 Valid=251.59558807373048\n",
      "86: Train=246.69298309326172 Valid=251.50836822509766\n",
      "87: Train=246.91792785644532 Valid=251.54900146484374\n",
      "88: Train=246.8195346069336 Valid=251.24713287353515\n",
      "89: Train=246.51004577636718 Valid=251.34871368408204\n",
      "90: Train=246.00717987060546 Valid=251.37230743408202\n",
      "91: Train=245.9502604675293 Valid=251.22125366210938\n",
      "92: Train=245.9571438598633 Valid=251.18396545410155\n",
      "93: Train=246.40315658569335 Valid=250.77804412841797\n",
      "94: Train=245.63699462890625 Valid=250.39818939208985\n",
      "95: Train=245.42832626342772 Valid=250.20837921142578\n",
      "96: Train=245.69474151611328 Valid=250.7649703979492\n",
      "97: Train=245.41415267944336 Valid=250.09822570800782\n",
      "98: Train=245.72253967285155 Valid=250.79502319335938\n",
      "99: Train=245.15406967163085 Valid=250.04904052734375\n",
      "100: Train=245.05339904785157 Valid=250.51203216552733\n",
      "101: Train=245.66121017456055 Valid=250.41325897216797\n",
      "102: Train=245.14216186523439 Valid=250.16709716796876\n",
      "103: Train=245.30734954833986 Valid=249.7513656616211\n",
      "104: Train=244.90524642944337 Valid=249.76301971435547\n",
      "105: Train=245.17738845825195 Valid=250.12414947509765\n",
      "106: Train=244.99215454101562 Valid=249.67118743896484\n",
      "107: Train=245.08750076293944 Valid=249.91485870361328\n",
      "108: Train=244.91695877075196 Valid=249.8434506225586\n",
      "109: Train=244.75734100341796 Valid=249.4023858642578\n",
      "110: Train=244.97868392944335 Valid=249.73367004394532\n",
      "111: Train=244.64731628417968 Valid=249.47345336914063\n",
      "112: Train=244.51656524658202 Valid=249.43432006835937\n",
      "113: Train=244.60462997436522 Valid=249.42634857177734\n",
      "114: Train=244.48842330932618 Valid=249.06015655517578\n",
      "115: Train=244.51943710327149 Valid=248.9940106201172\n",
      "116: Train=244.14978302001953 Valid=249.0876727294922\n",
      "117: Train=244.20247421264648 Valid=248.70734710693358\n",
      "118: Train=243.47692138671874 Valid=249.08883392333985\n",
      "119: Train=243.81611587524415 Valid=248.50940368652343\n",
      "120: Train=243.64629409790038 Valid=249.31365173339844\n",
      "121: Train=243.63555221557618 Valid=248.7137728881836\n",
      "122: Train=243.61116958618163 Valid=248.61251190185547\n",
      "123: Train=243.0782096862793 Valid=248.6248031616211\n",
      "124: Train=243.59157608032226 Valid=248.24450408935547\n",
      "125: Train=243.62287445068358 Valid=248.27114929199217\n",
      "126: Train=243.4160469055176 Valid=248.79124664306642\n",
      "127: Train=243.17115646362305 Valid=248.13059753417969\n",
      "128: Train=243.51152954101562 Valid=248.18702575683594\n",
      "129: Train=243.22542129516603 Valid=247.72042541503907\n",
      "130: Train=243.00592468261718 Valid=248.17633544921875\n",
      "131: Train=243.36868057250976 Valid=248.0009765625\n",
      "132: Train=243.2325619506836 Valid=247.858828125\n",
      "133: Train=243.15129333496094 Valid=248.08925415039062\n",
      "134: Train=242.8778160095215 Valid=247.96449768066407\n",
      "135: Train=243.10898376464843 Valid=247.76443298339845\n",
      "136: Train=242.29569610595703 Valid=247.72371459960937\n",
      "137: Train=242.8019985961914 Valid=248.07246887207032\n",
      "138: Train=242.05603469848631 Valid=247.67050415039063\n",
      "139: Train=242.90020309448244 Valid=247.570341796875\n",
      "140: Train=242.46006484985352 Valid=247.4022183227539\n",
      "141: Train=242.17342651367187 Valid=247.42905395507813\n",
      "142: Train=242.42892257690428 Valid=247.1922787475586\n",
      "143: Train=242.28855880737305 Valid=247.2880374145508\n",
      "144: Train=242.07289123535156 Valid=247.16039276123047\n",
      "145: Train=242.10947631835938 Valid=247.76990997314454\n",
      "146: Train=242.1419482421875 Valid=247.09850158691407\n",
      "147: Train=242.45092224121095 Valid=247.5868115234375\n",
      "148: Train=241.7961605834961 Valid=246.97589935302733\n",
      "149: Train=241.67977661132812 Valid=246.70595153808594\n",
      "150: Train=241.4144139099121 Valid=247.0173892211914\n",
      "151: Train=241.82650665283202 Valid=246.6172622680664\n",
      "152: Train=241.51622756958008 Valid=246.71813446044922\n",
      "153: Train=242.04674972534178 Valid=246.3942269897461\n",
      "154: Train=241.82722595214844 Valid=246.75165618896483\n"
     ]
    },
    {
     "name": "stdout",
     "output_type": "stream",
     "text": [
      "155: Train=240.90195709228516 Valid=246.39970642089844\n",
      "156: Train=241.80960525512694 Valid=246.51336212158202\n",
      "157: Train=241.4770443725586 Valid=246.05325866699218\n",
      "158: Train=241.56426818847658 Valid=246.21314514160156\n",
      "159: Train=241.2208657836914 Valid=246.12183288574218\n",
      "160: Train=241.28684661865233 Valid=246.1421353149414\n",
      "161: Train=241.71823608398438 Valid=246.20697937011718\n",
      "162: Train=240.9805293273926 Valid=246.38898498535156\n",
      "163: Train=240.79255264282227 Valid=246.12376403808594\n",
      "164: Train=241.05218154907226 Valid=246.12708282470703\n",
      "165: Train=240.9610353088379 Valid=246.11678955078125\n",
      "166: Train=240.15436447143554 Valid=245.71550994873047\n",
      "167: Train=240.8565545654297 Valid=245.82797607421875\n",
      "168: Train=240.50476181030274 Valid=245.79729431152344\n",
      "169: Train=240.6663609313965 Valid=245.32982177734374\n",
      "170: Train=240.70801513671876 Valid=245.60380981445311\n",
      "171: Train=240.25595932006837 Valid=245.45922607421875\n",
      "172: Train=240.48304473876954 Valid=245.53577880859376\n",
      "173: Train=239.94491943359375 Valid=245.58464416503907\n",
      "174: Train=240.71143188476563 Valid=245.3540005493164\n",
      "175: Train=239.83828186035157 Valid=245.35916625976563\n",
      "176: Train=240.27877044677734 Valid=245.0982061767578\n",
      "177: Train=239.91217330932616 Valid=245.18408966064453\n",
      "178: Train=240.02215591430664 Valid=245.13876037597657\n",
      "179: Train=240.33332794189454 Valid=245.1610205078125\n",
      "180: Train=239.47121887207032 Valid=244.7176126098633\n",
      "181: Train=239.47928787231444 Valid=244.98938232421875\n",
      "182: Train=240.10683456420898 Valid=245.1980075073242\n",
      "183: Train=239.32078002929688 Valid=244.9921923828125\n",
      "184: Train=239.0505224609375 Valid=244.85678894042968\n",
      "185: Train=239.5668850708008 Valid=244.90648345947267\n",
      "186: Train=239.59090148925782 Valid=244.5285739135742\n",
      "187: Train=239.41294784545897 Valid=244.52348205566406\n",
      "188: Train=239.4438049316406 Valid=244.82652770996094\n",
      "189: Train=239.16535400390626 Valid=244.72847747802734\n",
      "190: Train=239.06796676635742 Valid=244.59806274414063\n",
      "191: Train=239.1199021911621 Valid=244.61748413085937\n",
      "192: Train=238.79198684692383 Valid=244.34334197998047\n",
      "193: Train=238.57992721557616 Valid=244.4987176513672\n",
      "194: Train=238.9504707336426 Valid=244.14972717285156\n",
      "195: Train=239.49584396362306 Valid=243.9144775390625\n",
      "196: Train=239.16005599975585 Valid=244.3708950805664\n",
      "197: Train=239.0048858642578 Valid=244.0473767089844\n",
      "198: Train=238.47362457275392 Valid=244.2757354736328\n",
      "199: Train=239.26609024047852 Valid=243.61835876464843\n",
      "200: Train=238.85627517700195 Valid=244.36180725097657\n",
      "Loading best model with loss 243.61835876464843\n",
      "CPU times: user 35min 49s, sys: 3min 2s, total: 38min 51s\n",
      "Wall time: 35min 58s\n"
     ]
    }
   ],
   "source": [
    "%%time\n",
    "model.fit(200, data=data, opt=partialler(optim.SGD,lr=1e-6), loss=None,\n",
    "          cbs=[PaperInferno(float_r=True, float_l=True, aug_alpha=False),LossTracker(),SaveBest('weights/best_ie.h5'),EarlyStopping(10)])"
   ]
  },
  {
   "cell_type": "code",
   "execution_count": null,
   "metadata": {},
   "outputs": [],
   "source": [
    "model.save('weights/Inferno_Test_exact_bm2.h5')"
   ]
  },
  {
   "cell_type": "code",
   "execution_count": null,
   "metadata": {},
   "outputs": [],
   "source": [
    "model.load('weights/Inferno_Test_exact_bm2.h5')"
   ]
  },
  {
   "cell_type": "markdown",
   "metadata": {},
   "source": [
    "# Results"
   ]
  },
  {
   "cell_type": "code",
   "execution_count": null,
   "metadata": {},
   "outputs": [],
   "source": [
    "# export\n",
    "class InfernoPred(PredHandler):\n",
    "    r'''Prediction handler for hard assignments'''\n",
    "    def get_preds(self) -> np.ndarray: return np.argmax(self.preds, 1)"
   ]
  },
  {
   "cell_type": "markdown",
   "metadata": {},
   "source": [
    "## BM 0"
   ]
  },
  {
   "cell_type": "code",
   "execution_count": null,
   "metadata": {},
   "outputs": [
    {
     "data": {
      "text/html": [
       "\n",
       "    <div>\n",
       "        <style>\n",
       "            /* Turns off some styling */\n",
       "            progress {\n",
       "                /* gets rid of default border in Firefox and Opera. */\n",
       "                border: none;\n",
       "                /* Needs to be in here for Safari polyfill so background images work as expected. */\n",
       "                background-size: auto;\n",
       "            }\n",
       "            .progress-bar-interrupted, .progress-bar-interrupted::-webkit-progress-bar {\n",
       "                background: #F44336;\n",
       "            }\n",
       "        </style>\n",
       "      <progress value='250' class='' max='250', style='width:300px; height:20px; vertical-align: middle;'></progress>\n",
       "      100.00% [250/250 00:10<00:00]\n",
       "    </div>\n",
       "    "
      ],
      "text/plain": [
       "<IPython.core.display.HTML object>"
      ]
     },
     "metadata": {},
     "output_type": "display_data"
    }
   ],
   "source": [
    "preds = model._predict_dl(test, pred_cb=InfernoPred())"
   ]
  },
  {
   "cell_type": "code",
   "execution_count": null,
   "metadata": {},
   "outputs": [
    {
     "data": {
      "text/html": [
       "<div>\n",
       "<style scoped>\n",
       "    .dataframe tbody tr th:only-of-type {\n",
       "        vertical-align: middle;\n",
       "    }\n",
       "\n",
       "    .dataframe tbody tr th {\n",
       "        vertical-align: top;\n",
       "    }\n",
       "\n",
       "    .dataframe thead th {\n",
       "        text-align: right;\n",
       "    }\n",
       "</style>\n",
       "<table border=\"1\" class=\"dataframe\">\n",
       "  <thead>\n",
       "    <tr style=\"text-align: right;\">\n",
       "      <th></th>\n",
       "      <th>pred</th>\n",
       "      <th>gen_target</th>\n",
       "    </tr>\n",
       "  </thead>\n",
       "  <tbody>\n",
       "    <tr>\n",
       "      <td>0</td>\n",
       "      <td>2</td>\n",
       "      <td>1.0</td>\n",
       "    </tr>\n",
       "    <tr>\n",
       "      <td>1</td>\n",
       "      <td>8</td>\n",
       "      <td>1.0</td>\n",
       "    </tr>\n",
       "    <tr>\n",
       "      <td>2</td>\n",
       "      <td>8</td>\n",
       "      <td>1.0</td>\n",
       "    </tr>\n",
       "    <tr>\n",
       "      <td>3</td>\n",
       "      <td>7</td>\n",
       "      <td>1.0</td>\n",
       "    </tr>\n",
       "    <tr>\n",
       "      <td>4</td>\n",
       "      <td>1</td>\n",
       "      <td>1.0</td>\n",
       "    </tr>\n",
       "  </tbody>\n",
       "</table>\n",
       "</div>"
      ],
      "text/plain": [
       "   pred  gen_target\n",
       "0     2         1.0\n",
       "1     8         1.0\n",
       "2     8         1.0\n",
       "3     7         1.0\n",
       "4     1         1.0"
      ]
     },
     "execution_count": null,
     "metadata": {},
     "output_type": "execute_result"
    }
   ],
   "source": [
    "df = pd.DataFrame({'pred':preds})\n",
    "df['gen_target'] = test.dataset.y\n",
    "df.head()"
   ]
  },
  {
   "cell_type": "code",
   "execution_count": null,
   "metadata": {},
   "outputs": [
    {
     "data": {
      "image/png": "[encoded data removed]",
      "text/plain": [
       "<Figure size 1024x576 with 1 Axes>"
      ]
     },
     "metadata": {},
     "output_type": "display_data"
    }
   ],
   "source": [
    "plot_preds(df, bin_edges=np.linspace(0,10,11))"
   ]
  },
  {
   "cell_type": "code",
   "execution_count": null,
   "metadata": {},
   "outputs": [],
   "source": [
    "bin_preds(df)"
   ]
  },
  {
   "cell_type": "code",
   "execution_count": null,
   "metadata": {},
   "outputs": [
    {
     "data": {
      "text/html": [
       "<div>\n",
       "<style scoped>\n",
       "    .dataframe tbody tr th:only-of-type {\n",
       "        vertical-align: middle;\n",
       "    }\n",
       "\n",
       "    .dataframe tbody tr th {\n",
       "        vertical-align: top;\n",
       "    }\n",
       "\n",
       "    .dataframe thead th {\n",
       "        text-align: right;\n",
       "    }\n",
       "</style>\n",
       "<table border=\"1\" class=\"dataframe\">\n",
       "  <thead>\n",
       "    <tr style=\"text-align: right;\">\n",
       "      <th></th>\n",
       "      <th>pred</th>\n",
       "      <th>gen_target</th>\n",
       "      <th>pred_bin</th>\n",
       "    </tr>\n",
       "  </thead>\n",
       "  <tbody>\n",
       "    <tr>\n",
       "      <td>0</td>\n",
       "      <td>2</td>\n",
       "      <td>1.0</td>\n",
       "      <td>2</td>\n",
       "    </tr>\n",
       "    <tr>\n",
       "      <td>1</td>\n",
       "      <td>8</td>\n",
       "      <td>1.0</td>\n",
       "      <td>8</td>\n",
       "    </tr>\n",
       "    <tr>\n",
       "      <td>2</td>\n",
       "      <td>8</td>\n",
       "      <td>1.0</td>\n",
       "      <td>8</td>\n",
       "    </tr>\n",
       "    <tr>\n",
       "      <td>3</td>\n",
       "      <td>7</td>\n",
       "      <td>1.0</td>\n",
       "      <td>7</td>\n",
       "    </tr>\n",
       "    <tr>\n",
       "      <td>4</td>\n",
       "      <td>1</td>\n",
       "      <td>1.0</td>\n",
       "      <td>1</td>\n",
       "    </tr>\n",
       "  </tbody>\n",
       "</table>\n",
       "</div>"
      ],
      "text/plain": [
       "   pred  gen_target  pred_bin\n",
       "0     2         1.0         2\n",
       "1     8         1.0         8\n",
       "2     8         1.0         8\n",
       "3     7         1.0         7\n",
       "4     1         1.0         1"
      ]
     },
     "execution_count": null,
     "metadata": {},
     "output_type": "execute_result"
    }
   ],
   "source": [
    "df.head()"
   ]
  },
  {
   "cell_type": "code",
   "execution_count": null,
   "metadata": {},
   "outputs": [],
   "source": [
    "f_s,f_b = get_shape(df,1),get_shape(df,0)"
   ]
  },
  {
   "cell_type": "code",
   "execution_count": null,
   "metadata": {},
   "outputs": [
    {
     "data": {
      "text/plain": [
       "(tensor(1.), tensor(1.))"
      ]
     },
     "execution_count": null,
     "metadata": {},
     "output_type": "execute_result"
    }
   ],
   "source": [
    "f_s.sum(), f_b.sum()"
   ]
  },
  {
   "cell_type": "code",
   "execution_count": null,
   "metadata": {},
   "outputs": [],
   "source": [
    "asimov = (50*f_s)+(1000*f_b)"
   ]
  },
  {
   "cell_type": "code",
   "execution_count": null,
   "metadata": {},
   "outputs": [
    {
     "data": {
      "text/plain": [
       "(tensor([2.1000e-10, 3.5811e+01, 8.6994e+02, 2.1000e-10, 3.5915e+01, 2.1000e-10,\n",
       "         2.1000e-10, 5.2118e+00, 8.1425e+01, 2.1695e+01]), tensor(1049.9999))"
      ]
     },
     "execution_count": null,
     "metadata": {},
     "output_type": "execute_result"
    }
   ],
   "source": [
    "asimov, asimov.sum()"
   ]
  },
  {
   "cell_type": "code",
   "execution_count": null,
   "metadata": {},
   "outputs": [
    {
     "data": {
      "text/plain": [
       "array([19.16284943, 19.01592255, 18.87632751, 18.74163055, 18.61362839,\n",
       "       18.49035454, 18.37256813, 18.26081085, 18.15450287, 18.05353737,\n",
       "       17.95884132, 17.86787796, 17.78258896, 17.70331192, 17.62757301,\n",
       "       17.55777168, 17.49285507, 17.43325806, 17.37740326, 17.32678032,\n",
       "       17.28074265, 17.23931885, 17.20244026, 17.17100906, 17.14301682,\n",
       "       17.11935997, 17.10055923, 17.08600044, 17.07518768, 17.06904221,\n",
       "       17.06695366, 17.06899643, 17.0750618 , 17.08506584, 17.09955597,\n",
       "       17.11742401, 17.13965416, 17.16518402, 17.19499779, 17.22851181,\n",
       "       17.26527786, 17.30569267, 17.35066605, 17.39875793, 17.45084572,\n",
       "       17.50551414, 17.56403732, 17.6265831 , 17.69244003, 17.76122665,\n",
       "       17.83387566, 17.90975571, 17.98893738, 18.07085228, 18.15688324,\n",
       "       18.24518013, 18.33710861, 18.43264008, 18.53121948, 18.63187408,\n",
       "       18.73656845])"
      ]
     },
     "execution_count": null,
     "metadata": {},
     "output_type": "execute_result"
    }
   ],
   "source": [
    "n = 1050\n",
    "x = np.linspace(20,80,61)\n",
    "y = np.zeros_like(x)\n",
    "for i,m in enumerate(x):\n",
    "    pois = torch.distributions.Poisson((m*f_s)+(1000*f_b))\n",
    "    y[i] = -pois.log_prob(asimov).sum()\n",
    "y"
   ]
  },
  {
   "cell_type": "code",
   "execution_count": null,
   "metadata": {},
   "outputs": [
    {
     "data": {
      "image/png": "[encoded data removed]",
      "text/plain": [
       "<Figure size 1024x576 with 1 Axes>"
      ]
     },
     "metadata": {},
     "output_type": "display_data"
    }
   ],
   "source": [
    "plot_likelihood(y-y.min())"
   ]
  },
  {
   "cell_type": "markdown",
   "metadata": {},
   "source": [
    "# Nuisances - via interpolation"
   ]
  },
  {
   "cell_type": "code",
   "execution_count": null,
   "metadata": {},
   "outputs": [],
   "source": [
    "bkg = test.dataset.x[test.dataset.y.squeeze() == 0]\n",
    "assert len(bkg) == 500000"
   ]
  },
  {
   "cell_type": "code",
   "execution_count": null,
   "metadata": {},
   "outputs": [
    {
     "name": "stdout",
     "output_type": "stream",
     "text": [
      "Running: r=-0.2\n"
     ]
    },
    {
     "data": {
      "text/html": [
       "\n",
       "    <div>\n",
       "        <style>\n",
       "            /* Turns off some styling */\n",
       "            progress {\n",
       "                /* gets rid of default border in Firefox and Opera. */\n",
       "                border: none;\n",
       "                /* Needs to be in here for Safari polyfill so background images work as expected. */\n",
       "                background-size: auto;\n",
       "            }\n",
       "            .progress-bar-interrupted, .progress-bar-interrupted::-webkit-progress-bar {\n",
       "                background: #F44336;\n",
       "            }\n",
       "        </style>\n",
       "      <progress value='1' class='' max='1', style='width:300px; height:20px; vertical-align: middle;'></progress>\n",
       "      100.00% [1/1 00:03<00:00]\n",
       "    </div>\n",
       "    "
      ],
      "text/plain": [
       "<IPython.core.display.HTML object>"
      ]
     },
     "metadata": {},
     "output_type": "display_data"
    },
    {
     "name": "stdout",
     "output_type": "stream",
     "text": [
      "Running: r=0\n"
     ]
    },
    {
     "data": {
      "text/html": [
       "\n",
       "    <div>\n",
       "        <style>\n",
       "            /* Turns off some styling */\n",
       "            progress {\n",
       "                /* gets rid of default border in Firefox and Opera. */\n",
       "                border: none;\n",
       "                /* Needs to be in here for Safari polyfill so background images work as expected. */\n",
       "                background-size: auto;\n",
       "            }\n",
       "            .progress-bar-interrupted, .progress-bar-interrupted::-webkit-progress-bar {\n",
       "                background: #F44336;\n",
       "            }\n",
       "        </style>\n",
       "      <progress value='1' class='' max='1', style='width:300px; height:20px; vertical-align: middle;'></progress>\n",
       "      100.00% [1/1 00:03<00:00]\n",
       "    </div>\n",
       "    "
      ],
      "text/plain": [
       "<IPython.core.display.HTML object>"
      ]
     },
     "metadata": {},
     "output_type": "display_data"
    },
    {
     "name": "stdout",
     "output_type": "stream",
     "text": [
      "Running: r=0.2\n"
     ]
    },
    {
     "data": {
      "text/html": [
       "\n",
       "    <div>\n",
       "        <style>\n",
       "            /* Turns off some styling */\n",
       "            progress {\n",
       "                /* gets rid of default border in Firefox and Opera. */\n",
       "                border: none;\n",
       "                /* Needs to be in here for Safari polyfill so background images work as expected. */\n",
       "                background-size: auto;\n",
       "            }\n",
       "            .progress-bar-interrupted, .progress-bar-interrupted::-webkit-progress-bar {\n",
       "                background: #F44336;\n",
       "            }\n",
       "        </style>\n",
       "      <progress value='1' class='' max='1', style='width:300px; height:20px; vertical-align: middle;'></progress>\n",
       "      100.00% [1/1 00:03<00:00]\n",
       "    </div>\n",
       "    "
      ],
      "text/plain": [
       "<IPython.core.display.HTML object>"
      ]
     },
     "metadata": {},
     "output_type": "display_data"
    },
    {
     "name": "stdout",
     "output_type": "stream",
     "text": [
      "Running: l=2.5\n"
     ]
    },
    {
     "data": {
      "text/html": [
       "\n",
       "    <div>\n",
       "        <style>\n",
       "            /* Turns off some styling */\n",
       "            progress {\n",
       "                /* gets rid of default border in Firefox and Opera. */\n",
       "                border: none;\n",
       "                /* Needs to be in here for Safari polyfill so background images work as expected. */\n",
       "                background-size: auto;\n",
       "            }\n",
       "            .progress-bar-interrupted, .progress-bar-interrupted::-webkit-progress-bar {\n",
       "                background: #F44336;\n",
       "            }\n",
       "        </style>\n",
       "      <progress value='1' class='' max='1', style='width:300px; height:20px; vertical-align: middle;'></progress>\n",
       "      100.00% [1/1 00:03<00:00]\n",
       "    </div>\n",
       "    "
      ],
      "text/plain": [
       "<IPython.core.display.HTML object>"
      ]
     },
     "metadata": {},
     "output_type": "display_data"
    },
    {
     "name": "stdout",
     "output_type": "stream",
     "text": [
      "Running: l=3\n"
     ]
    },
    {
     "data": {
      "text/html": [
       "\n",
       "    <div>\n",
       "        <style>\n",
       "            /* Turns off some styling */\n",
       "            progress {\n",
       "                /* gets rid of default border in Firefox and Opera. */\n",
       "                border: none;\n",
       "                /* Needs to be in here for Safari polyfill so background images work as expected. */\n",
       "                background-size: auto;\n",
       "            }\n",
       "            .progress-bar-interrupted, .progress-bar-interrupted::-webkit-progress-bar {\n",
       "                background: #F44336;\n",
       "            }\n",
       "        </style>\n",
       "      <progress value='1' class='' max='1', style='width:300px; height:20px; vertical-align: middle;'></progress>\n",
       "      100.00% [1/1 00:03<00:00]\n",
       "    </div>\n",
       "    "
      ],
      "text/plain": [
       "<IPython.core.display.HTML object>"
      ]
     },
     "metadata": {},
     "output_type": "display_data"
    },
    {
     "name": "stdout",
     "output_type": "stream",
     "text": [
      "Running: l=3.5\n"
     ]
    },
    {
     "data": {
      "text/html": [
       "\n",
       "    <div>\n",
       "        <style>\n",
       "            /* Turns off some styling */\n",
       "            progress {\n",
       "                /* gets rid of default border in Firefox and Opera. */\n",
       "                border: none;\n",
       "                /* Needs to be in here for Safari polyfill so background images work as expected. */\n",
       "                background-size: auto;\n",
       "            }\n",
       "            .progress-bar-interrupted, .progress-bar-interrupted::-webkit-progress-bar {\n",
       "                background: #F44336;\n",
       "            }\n",
       "        </style>\n",
       "      <progress value='1' class='' max='1', style='width:300px; height:20px; vertical-align: middle;'></progress>\n",
       "      100.00% [1/1 00:02<00:00]\n",
       "    </div>\n",
       "    "
      ],
      "text/plain": [
       "<IPython.core.display.HTML object>"
      ]
     },
     "metadata": {},
     "output_type": "display_data"
    }
   ],
   "source": [
    "b_shapes = get_paper_syst_shapes(bkg, df, model=model, pred_cb=InfernoPred())"
   ]
  },
  {
   "cell_type": "code",
   "execution_count": null,
   "metadata": {},
   "outputs": [
    {
     "data": {
      "text/html": [
       "<div>\n",
       "<style scoped>\n",
       "    .dataframe tbody tr th:only-of-type {\n",
       "        vertical-align: middle;\n",
       "    }\n",
       "\n",
       "    .dataframe tbody tr th {\n",
       "        vertical-align: top;\n",
       "    }\n",
       "\n",
       "    .dataframe thead th {\n",
       "        text-align: right;\n",
       "    }\n",
       "</style>\n",
       "<table border=\"1\" class=\"dataframe\">\n",
       "  <thead>\n",
       "    <tr style=\"text-align: right;\">\n",
       "      <th></th>\n",
       "      <th>pred</th>\n",
       "      <th>gen_target</th>\n",
       "      <th>pred_bin</th>\n",
       "      <th>pred_-0.2_3</th>\n",
       "      <th>pred_-0.2_3_bin</th>\n",
       "      <th>pred_0_3</th>\n",
       "      <th>pred_0_3_bin</th>\n",
       "      <th>pred_0.2_3</th>\n",
       "      <th>pred_0.2_3_bin</th>\n",
       "      <th>pred_0_2.5</th>\n",
       "      <th>pred_0_2.5_bin</th>\n",
       "      <th>pred_0_3.5</th>\n",
       "      <th>pred_0_3.5_bin</th>\n",
       "    </tr>\n",
       "  </thead>\n",
       "  <tbody>\n",
       "    <tr>\n",
       "      <td>0</td>\n",
       "      <td>2</td>\n",
       "      <td>1.0</td>\n",
       "      <td>2</td>\n",
       "      <td>2</td>\n",
       "      <td>2</td>\n",
       "      <td>2</td>\n",
       "      <td>2</td>\n",
       "      <td>2</td>\n",
       "      <td>2</td>\n",
       "      <td>2</td>\n",
       "      <td>2</td>\n",
       "      <td>2</td>\n",
       "      <td>2</td>\n",
       "    </tr>\n",
       "    <tr>\n",
       "      <td>1</td>\n",
       "      <td>8</td>\n",
       "      <td>1.0</td>\n",
       "      <td>8</td>\n",
       "      <td>8</td>\n",
       "      <td>8</td>\n",
       "      <td>8</td>\n",
       "      <td>8</td>\n",
       "      <td>8</td>\n",
       "      <td>8</td>\n",
       "      <td>8</td>\n",
       "      <td>8</td>\n",
       "      <td>8</td>\n",
       "      <td>8</td>\n",
       "    </tr>\n",
       "    <tr>\n",
       "      <td>2</td>\n",
       "      <td>8</td>\n",
       "      <td>1.0</td>\n",
       "      <td>8</td>\n",
       "      <td>8</td>\n",
       "      <td>8</td>\n",
       "      <td>8</td>\n",
       "      <td>8</td>\n",
       "      <td>8</td>\n",
       "      <td>8</td>\n",
       "      <td>8</td>\n",
       "      <td>8</td>\n",
       "      <td>8</td>\n",
       "      <td>8</td>\n",
       "    </tr>\n",
       "    <tr>\n",
       "      <td>3</td>\n",
       "      <td>7</td>\n",
       "      <td>1.0</td>\n",
       "      <td>7</td>\n",
       "      <td>7</td>\n",
       "      <td>7</td>\n",
       "      <td>7</td>\n",
       "      <td>7</td>\n",
       "      <td>7</td>\n",
       "      <td>7</td>\n",
       "      <td>7</td>\n",
       "      <td>7</td>\n",
       "      <td>7</td>\n",
       "      <td>7</td>\n",
       "    </tr>\n",
       "    <tr>\n",
       "      <td>4</td>\n",
       "      <td>1</td>\n",
       "      <td>1.0</td>\n",
       "      <td>1</td>\n",
       "      <td>1</td>\n",
       "      <td>1</td>\n",
       "      <td>1</td>\n",
       "      <td>1</td>\n",
       "      <td>1</td>\n",
       "      <td>1</td>\n",
       "      <td>1</td>\n",
       "      <td>1</td>\n",
       "      <td>1</td>\n",
       "      <td>1</td>\n",
       "    </tr>\n",
       "    <tr>\n",
       "      <td>...</td>\n",
       "      <td>...</td>\n",
       "      <td>...</td>\n",
       "      <td>...</td>\n",
       "      <td>...</td>\n",
       "      <td>...</td>\n",
       "      <td>...</td>\n",
       "      <td>...</td>\n",
       "      <td>...</td>\n",
       "      <td>...</td>\n",
       "      <td>...</td>\n",
       "      <td>...</td>\n",
       "      <td>...</td>\n",
       "      <td>...</td>\n",
       "    </tr>\n",
       "    <tr>\n",
       "      <td>999995</td>\n",
       "      <td>2</td>\n",
       "      <td>0.0</td>\n",
       "      <td>2</td>\n",
       "      <td>2</td>\n",
       "      <td>2</td>\n",
       "      <td>2</td>\n",
       "      <td>2</td>\n",
       "      <td>2</td>\n",
       "      <td>2</td>\n",
       "      <td>2</td>\n",
       "      <td>2</td>\n",
       "      <td>2</td>\n",
       "      <td>2</td>\n",
       "    </tr>\n",
       "    <tr>\n",
       "      <td>999996</td>\n",
       "      <td>2</td>\n",
       "      <td>0.0</td>\n",
       "      <td>2</td>\n",
       "      <td>2</td>\n",
       "      <td>2</td>\n",
       "      <td>2</td>\n",
       "      <td>2</td>\n",
       "      <td>2</td>\n",
       "      <td>2</td>\n",
       "      <td>2</td>\n",
       "      <td>2</td>\n",
       "      <td>2</td>\n",
       "      <td>2</td>\n",
       "    </tr>\n",
       "    <tr>\n",
       "      <td>999997</td>\n",
       "      <td>2</td>\n",
       "      <td>0.0</td>\n",
       "      <td>2</td>\n",
       "      <td>2</td>\n",
       "      <td>2</td>\n",
       "      <td>2</td>\n",
       "      <td>2</td>\n",
       "      <td>2</td>\n",
       "      <td>2</td>\n",
       "      <td>2</td>\n",
       "      <td>2</td>\n",
       "      <td>2</td>\n",
       "      <td>2</td>\n",
       "    </tr>\n",
       "    <tr>\n",
       "      <td>999998</td>\n",
       "      <td>2</td>\n",
       "      <td>0.0</td>\n",
       "      <td>2</td>\n",
       "      <td>2</td>\n",
       "      <td>2</td>\n",
       "      <td>2</td>\n",
       "      <td>2</td>\n",
       "      <td>2</td>\n",
       "      <td>2</td>\n",
       "      <td>2</td>\n",
       "      <td>2</td>\n",
       "      <td>2</td>\n",
       "      <td>2</td>\n",
       "    </tr>\n",
       "    <tr>\n",
       "      <td>999999</td>\n",
       "      <td>2</td>\n",
       "      <td>0.0</td>\n",
       "      <td>2</td>\n",
       "      <td>2</td>\n",
       "      <td>2</td>\n",
       "      <td>2</td>\n",
       "      <td>2</td>\n",
       "      <td>2</td>\n",
       "      <td>2</td>\n",
       "      <td>2</td>\n",
       "      <td>2</td>\n",
       "      <td>2</td>\n",
       "      <td>2</td>\n",
       "    </tr>\n",
       "  </tbody>\n",
       "</table>\n",
       "<p>1000000 rows × 13 columns</p>\n",
       "</div>"
      ],
      "text/plain": [
       "        pred  gen_target  pred_bin  pred_-0.2_3  pred_-0.2_3_bin  pred_0_3  \\\n",
       "0          2         1.0         2            2                2         2   \n",
       "1          8         1.0         8            8                8         8   \n",
       "2          8         1.0         8            8                8         8   \n",
       "3          7         1.0         7            7                7         7   \n",
       "4          1         1.0         1            1                1         1   \n",
       "...      ...         ...       ...          ...              ...       ...   \n",
       "999995     2         0.0         2            2                2         2   \n",
       "999996     2         0.0         2            2                2         2   \n",
       "999997     2         0.0         2            2                2         2   \n",
       "999998     2         0.0         2            2                2         2   \n",
       "999999     2         0.0         2            2                2         2   \n",
       "\n",
       "        pred_0_3_bin  pred_0.2_3  pred_0.2_3_bin  pred_0_2.5  pred_0_2.5_bin  \\\n",
       "0                  2           2               2           2               2   \n",
       "1                  8           8               8           8               8   \n",
       "2                  8           8               8           8               8   \n",
       "3                  7           7               7           7               7   \n",
       "4                  1           1               1           1               1   \n",
       "...              ...         ...             ...         ...             ...   \n",
       "999995             2           2               2           2               2   \n",
       "999996             2           2               2           2               2   \n",
       "999997             2           2               2           2               2   \n",
       "999998             2           2               2           2               2   \n",
       "999999             2           2               2           2               2   \n",
       "\n",
       "        pred_0_3.5  pred_0_3.5_bin  \n",
       "0                2               2  \n",
       "1                8               8  \n",
       "2                8               8  \n",
       "3                7               7  \n",
       "4                1               1  \n",
       "...            ...             ...  \n",
       "999995           2               2  \n",
       "999996           2               2  \n",
       "999997           2               2  \n",
       "999998           2               2  \n",
       "999999           2               2  \n",
       "\n",
       "[1000000 rows x 13 columns]"
      ]
     },
     "execution_count": null,
     "metadata": {},
     "output_type": "execute_result"
    }
   ],
   "source": [
    "df"
   ]
  },
  {
   "cell_type": "code",
   "execution_count": null,
   "metadata": {},
   "outputs": [
    {
     "data": {
      "image/png": "[encoded data removed]",
      "text/plain": [
       "<Figure size 1024x576 with 1 Axes>"
      ]
     },
     "metadata": {},
     "output_type": "display_data"
    }
   ],
   "source": [
    "plot_preds(df, pred_names=['pred', 'pred_-0.2_3', 'pred_0.2_3', 'pred_0_2.5', 'pred_0_3.5'], bin_edges=np.linspace(0,10,11))"
   ]
  },
  {
   "cell_type": "code",
   "execution_count": null,
   "metadata": {},
   "outputs": [
    {
     "name": "stdout",
     "output_type": "stream",
     "text": [
      "tensor([2.0000e-13, 1.8804e-02, 8.5588e-01, 2.0000e-13, 3.2230e-02, 2.0000e-13,\n",
      "        2.0000e-13, 4.3120e-03, 6.9124e-02, 1.9646e-02])\n",
      "tensor([2.0000e-13, 2.4306e-02, 8.4963e-01, 2.0000e-13, 3.1946e-02, 2.0000e-13,\n",
      "        2.0000e-13, 4.5280e-03, 7.0624e-02, 1.8966e-02])\n",
      "tensor([2.0000e-13, 2.9898e-02, 8.4396e-01, 2.0000e-13, 3.1704e-02, 2.0000e-13,\n",
      "        2.0000e-13, 4.6940e-03, 7.1394e-02, 1.8352e-02])\n",
      "tensor([2.0000e-13, 1.6846e-02, 8.6668e-01, 2.0000e-13, 2.9298e-02, 2.0000e-13,\n",
      "        2.0000e-13, 3.7160e-03, 6.5902e-02, 1.7556e-02])\n",
      "tensor([2.0000e-13, 2.2348e-02, 8.6043e-01, 2.0000e-13, 2.9014e-02, 2.0000e-13,\n",
      "        2.0000e-13, 3.9320e-03, 6.7402e-02, 1.6876e-02])\n",
      "tensor([2.0000e-13, 2.7940e-02, 8.5476e-01, 2.0000e-13, 2.8772e-02, 2.0000e-13,\n",
      "        2.0000e-13, 4.0980e-03, 6.8172e-02, 1.6262e-02])\n",
      "tensor([2.0000e-13, 1.4866e-02, 8.7839e-01, 2.0000e-13, 2.6426e-02, 2.0000e-13,\n",
      "        2.0000e-13, 3.2260e-03, 6.1496e-02, 1.5598e-02])\n",
      "tensor([2.0000e-13, 2.0368e-02, 8.7213e-01, 2.0000e-13, 2.6142e-02, 2.0000e-13,\n",
      "        2.0000e-13, 3.4420e-03, 6.2996e-02, 1.4918e-02])\n",
      "tensor([2.0000e-13, 2.5960e-02, 8.6646e-01, 2.0000e-13, 2.5900e-02, 2.0000e-13,\n",
      "        2.0000e-13, 3.6080e-03, 6.3766e-02, 1.4304e-02])\n"
     ]
    },
    {
     "data": {
      "text/plain": [
       "<matplotlib.legend.Legend at 0x7f929d42a0f0>"
      ]
     },
     "execution_count": null,
     "metadata": {},
     "output_type": "execute_result"
    },
    {
     "data": {
      "image/png": "[encoded data removed]",
      "text/plain": [
       "<Figure size 864x576 with 1 Axes>"
      ]
     },
     "metadata": {},
     "output_type": "display_data"
    }
   ],
   "source": [
    "fig = plt.figure(figsize=(12,8))\n",
    "for r in [-1,0,1]:\n",
    "    for l in [-1,0,1]:\n",
    "        alpha = Tensor((r,l))[None,:]\n",
    "        s = interp_shape(alpha, **b_shapes).squeeze()\n",
    "        print(s)\n",
    "        plt.plot(s, label=f'{r} {l}')\n",
    "plt.legend()"
   ]
  },
  {
   "cell_type": "markdown",
   "metadata": {},
   "source": [
    "# Newton"
   ]
  },
  {
   "cell_type": "code",
   "execution_count": null,
   "metadata": {},
   "outputs": [],
   "source": [
    "profiler = partialler(calc_profile, n=1050, mu_scan=torch.linspace(20,80,61), true_mu=50)"
   ]
  },
  {
   "cell_type": "markdown",
   "metadata": {},
   "source": [
    "## BM 1\n",
    "r free, l fixed"
   ]
  },
  {
   "cell_type": "code",
   "execution_count": null,
   "metadata": {},
   "outputs": [],
   "source": [
    "bm1_b_shapes = OrderedDict([('f_b_nom', b_shapes['f_b_nom']),\n",
    "                            ('f_b_up',  b_shapes['f_b_up'][0][None,:]),\n",
    "                            ('f_b_dw',  b_shapes['f_b_dw'][0][None,:])])"
   ]
  },
  {
   "cell_type": "code",
   "execution_count": null,
   "metadata": {},
   "outputs": [
    {
     "data": {
      "text/plain": [
       "torch.Size([1, 10])"
      ]
     },
     "execution_count": null,
     "metadata": {},
     "output_type": "execute_result"
    }
   ],
   "source": [
    "bm1_b_shapes['f_b_up'].shape"
   ]
  },
  {
   "cell_type": "code",
   "execution_count": null,
   "metadata": {},
   "outputs": [
    {
     "data": {
      "text/html": [
       "\n",
       "    <div>\n",
       "        <style>\n",
       "            /* Turns off some styling */\n",
       "            progress {\n",
       "                /* gets rid of default border in Firefox and Opera. */\n",
       "                border: none;\n",
       "                /* Needs to be in here for Safari polyfill so background images work as expected. */\n",
       "                background-size: auto;\n",
       "            }\n",
       "            .progress-bar-interrupted, .progress-bar-interrupted::-webkit-progress-bar {\n",
       "                background: #F44336;\n",
       "            }\n",
       "        </style>\n",
       "      <progress value='61' class='' max='61', style='width:300px; height:20px; vertical-align: middle;'></progress>\n",
       "      100.00% [61/61 00:07<00:00]\n",
       "    </div>\n",
       "    "
      ],
      "text/plain": [
       "<IPython.core.display.HTML object>"
      ]
     },
     "metadata": {},
     "output_type": "display_data"
    },
    {
     "name": "stdout",
     "output_type": "stream",
     "text": [
      "Linear regime: Mu 20.0, alpha tensor([-1.6521])\n",
      "Linear regime: Mu 21.0, alpha tensor([-1.5954])\n",
      "Linear regime: Mu 22.0, alpha tensor([-1.5387])\n",
      "Linear regime: Mu 23.0, alpha tensor([-1.4822])\n",
      "Linear regime: Mu 24.0, alpha tensor([-1.4258])\n",
      "Linear regime: Mu 25.0, alpha tensor([-1.3696])\n",
      "Linear regime: Mu 26.0, alpha tensor([-1.3134])\n",
      "Linear regime: Mu 27.0, alpha tensor([-1.2574])\n",
      "Linear regime: Mu 28.0, alpha tensor([-1.2015])\n",
      "Linear regime: Mu 29.0, alpha tensor([-1.1458])\n",
      "Linear regime: Mu 30.0, alpha tensor([-1.0901])\n",
      "Linear regime: Mu 31.0, alpha tensor([-1.0346])\n",
      "Linear regime: Mu 70.0, alpha tensor([1.0230])\n",
      "Linear regime: Mu 71.0, alpha tensor([1.0734])\n",
      "Linear regime: Mu 72.0, alpha tensor([1.1239])\n",
      "Linear regime: Mu 73.0, alpha tensor([1.1743])\n",
      "Linear regime: Mu 74.0, alpha tensor([1.2246])\n",
      "Linear regime: Mu 75.0, alpha tensor([1.2748])\n",
      "Linear regime: Mu 76.0, alpha tensor([1.3250])\n",
      "Linear regime: Mu 77.0, alpha tensor([1.3752])\n",
      "Linear regime: Mu 78.0, alpha tensor([1.4253])\n",
      "Linear regime: Mu 79.0, alpha tensor([1.4753])\n",
      "Linear regime: Mu 80.0, alpha tensor([1.5253])\n"
     ]
    }
   ],
   "source": [
    "nll = profiler(f_s=f_s, n_steps=100, **bm1_b_shapes)"
   ]
  },
  {
   "cell_type": "code",
   "execution_count": null,
   "metadata": {},
   "outputs": [],
   "source": [
    "nll = to_np(nll)"
   ]
  },
  {
   "cell_type": "code",
   "execution_count": null,
   "metadata": {},
   "outputs": [
    {
     "data": {
      "image/png": "[encoded data removed]",
      "text/plain": [
       "<Figure size 1024x576 with 1 Axes>"
      ]
     },
     "metadata": {},
     "output_type": "display_data"
    }
   ],
   "source": [
    "plot_likelihood(nll-nll.min())"
   ]
  },
  {
   "cell_type": "markdown",
   "metadata": {},
   "source": [
    "## BM 1l\n",
    "r fixed, l free"
   ]
  },
  {
   "cell_type": "code",
   "execution_count": null,
   "metadata": {},
   "outputs": [],
   "source": [
    "bm1l_b_shapes = OrderedDict([('f_b_nom', b_shapes['f_b_nom']),\n",
    "                             ('f_b_up',  b_shapes['f_b_up'][1][None,:]),\n",
    "                             ('f_b_dw',  b_shapes['f_b_dw'][1][None,:])])"
   ]
  },
  {
   "cell_type": "code",
   "execution_count": null,
   "metadata": {},
   "outputs": [
    {
     "data": {
      "text/html": [
       "\n",
       "    <div>\n",
       "        <style>\n",
       "            /* Turns off some styling */\n",
       "            progress {\n",
       "                /* gets rid of default border in Firefox and Opera. */\n",
       "                border: none;\n",
       "                /* Needs to be in here for Safari polyfill so background images work as expected. */\n",
       "                background-size: auto;\n",
       "            }\n",
       "            .progress-bar-interrupted, .progress-bar-interrupted::-webkit-progress-bar {\n",
       "                background: #F44336;\n",
       "            }\n",
       "        </style>\n",
       "      <progress value='61' class='' max='61', style='width:300px; height:20px; vertical-align: middle;'></progress>\n",
       "      100.00% [61/61 00:07<00:00]\n",
       "    </div>\n",
       "    "
      ],
      "text/plain": [
       "<IPython.core.display.HTML object>"
      ]
     },
     "metadata": {},
     "output_type": "display_data"
    },
    {
     "name": "stdout",
     "output_type": "stream",
     "text": [
      "Linear regime: Mu 20.0, alpha tensor([1.2791])\n",
      "Linear regime: Mu 21.0, alpha tensor([1.2370])\n",
      "Linear regime: Mu 22.0, alpha tensor([1.1949])\n",
      "Linear regime: Mu 23.0, alpha tensor([1.1527])\n",
      "Linear regime: Mu 24.0, alpha tensor([1.1105])\n",
      "Linear regime: Mu 25.0, alpha tensor([1.0683])\n",
      "Linear regime: Mu 26.0, alpha tensor([1.0259])\n",
      "Linear regime: Mu 73.0, alpha tensor([-1.0263])\n",
      "Linear regime: Mu 74.0, alpha tensor([-1.0712])\n",
      "Linear regime: Mu 75.0, alpha tensor([-1.1161])\n",
      "Linear regime: Mu 76.0, alpha tensor([-1.1610])\n",
      "Linear regime: Mu 77.0, alpha tensor([-1.2060])\n",
      "Linear regime: Mu 78.0, alpha tensor([-1.2510])\n",
      "Linear regime: Mu 79.0, alpha tensor([-1.2960])\n",
      "Linear regime: Mu 80.0, alpha tensor([-1.3410])\n"
     ]
    }
   ],
   "source": [
    "nll = profiler(f_s=f_s, n_steps=100, **bm1l_b_shapes)"
   ]
  },
  {
   "cell_type": "code",
   "execution_count": null,
   "metadata": {},
   "outputs": [],
   "source": [
    "nll = to_np(nll)"
   ]
  },
  {
   "cell_type": "code",
   "execution_count": null,
   "metadata": {},
   "outputs": [
    {
     "data": {
      "image/png": "[encoded data removed]",
      "text/plain": [
       "<Figure size 1024x576 with 1 Axes>"
      ]
     },
     "metadata": {},
     "output_type": "display_data"
    }
   ],
   "source": [
    "plot_likelihood(nll-nll.min())"
   ]
  },
  {
   "cell_type": "markdown",
   "metadata": {},
   "source": [
    "## BM 2"
   ]
  },
  {
   "cell_type": "code",
   "execution_count": null,
   "metadata": {},
   "outputs": [
    {
     "data": {
      "text/html": [
       "\n",
       "    <div>\n",
       "        <style>\n",
       "            /* Turns off some styling */\n",
       "            progress {\n",
       "                /* gets rid of default border in Firefox and Opera. */\n",
       "                border: none;\n",
       "                /* Needs to be in here for Safari polyfill so background images work as expected. */\n",
       "                background-size: auto;\n",
       "            }\n",
       "            .progress-bar-interrupted, .progress-bar-interrupted::-webkit-progress-bar {\n",
       "                background: #F44336;\n",
       "            }\n",
       "        </style>\n",
       "      <progress value='61' class='' max='61', style='width:300px; height:20px; vertical-align: middle;'></progress>\n",
       "      100.00% [61/61 00:09<00:00]\n",
       "    </div>\n",
       "    "
      ],
      "text/plain": [
       "<IPython.core.display.HTML object>"
      ]
     },
     "metadata": {},
     "output_type": "display_data"
    },
    {
     "name": "stdout",
     "output_type": "stream",
     "text": [
      "Linear regime: Mu 20.0, alpha tensor([-1.2824,  0.8190])\n",
      "Linear regime: Mu 21.0, alpha tensor([-1.2390,  0.7922])\n",
      "Linear regime: Mu 22.0, alpha tensor([-1.1956,  0.7654])\n",
      "Linear regime: Mu 23.0, alpha tensor([-1.1523,  0.7385])\n",
      "Linear regime: Mu 24.0, alpha tensor([-1.1091,  0.7116])\n",
      "Linear regime: Mu 25.0, alpha tensor([-1.0658,  0.6846])\n",
      "Linear regime: Mu 26.0, alpha tensor([-1.0226,  0.6576])\n",
      "Linear regime: Mu 75.0, alpha tensor([ 1.0131, -0.6752])\n",
      "Linear regime: Mu 76.0, alpha tensor([ 1.0532, -0.7021])\n",
      "Linear regime: Mu 77.0, alpha tensor([ 1.0933, -0.7290])\n",
      "Linear regime: Mu 78.0, alpha tensor([ 1.1334, -0.7559])\n",
      "Linear regime: Mu 79.0, alpha tensor([ 1.1735, -0.7827])\n",
      "Linear regime: Mu 80.0, alpha tensor([ 1.2135, -0.8096])\n"
     ]
    }
   ],
   "source": [
    "nll = profiler(f_s=f_s, n_steps=100, **b_shapes)"
   ]
  },
  {
   "cell_type": "code",
   "execution_count": null,
   "metadata": {},
   "outputs": [],
   "source": [
    "nll = to_np(nll)"
   ]
  },
  {
   "cell_type": "code",
   "execution_count": null,
   "metadata": {},
   "outputs": [
    {
     "data": {
      "image/png": "[encoded data removed]",
      "text/plain": [
       "<Figure size 1024x576 with 1 Axes>"
      ]
     },
     "metadata": {},
     "output_type": "display_data"
    }
   ],
   "source": [
    "plot_likelihood(nll-nll.min())"
   ]
  },
  {
   "cell_type": "code",
   "execution_count": null,
   "metadata": {},
   "outputs": [
    {
     "data": {
      "text/plain": [
       "OrderedDict([('f_b_nom',\n",
       "              tensor([2.0000e-13, 2.2348e-02, 8.6043e-01, 2.0000e-13, 2.9014e-02, 2.0000e-13,\n",
       "                      2.0000e-13, 3.9320e-03, 6.7402e-02, 1.6876e-02])),\n",
       "             ('f_b_up',\n",
       "              tensor([[2.0000e-13, 2.0368e-02, 8.7213e-01, 2.0000e-13, 2.6142e-02, 2.0000e-13,\n",
       "                       2.0000e-13, 3.4420e-03, 6.2996e-02, 1.4918e-02],\n",
       "                      [2.0000e-13, 2.7940e-02, 8.5476e-01, 2.0000e-13, 2.8772e-02, 2.0000e-13,\n",
       "                       2.0000e-13, 4.0980e-03, 6.8172e-02, 1.6262e-02]])),\n",
       "             ('f_b_dw',\n",
       "              tensor([[2.0000e-13, 2.4306e-02, 8.4963e-01, 2.0000e-13, 3.1946e-02, 2.0000e-13,\n",
       "                       2.0000e-13, 4.5280e-03, 7.0624e-02, 1.8966e-02],\n",
       "                      [2.0000e-13, 1.6846e-02, 8.6668e-01, 2.0000e-13, 2.9298e-02, 2.0000e-13,\n",
       "                       2.0000e-13, 3.7160e-03, 6.5902e-02, 1.7556e-02]]))])"
      ]
     },
     "execution_count": null,
     "metadata": {},
     "output_type": "execute_result"
    }
   ],
   "source": [
    "b_shapes"
   ]
  },
  {
   "cell_type": "code",
   "execution_count": null,
   "metadata": {},
   "outputs": [
    {
     "data": {
      "text/plain": [
       "tensor([2.0000e-13, 2.6925e-01, 1.9029e-01, 2.0000e-13, 1.3802e-01, 2.0000e-13,\n",
       "        2.0000e-13, 2.5596e-02, 2.8045e-01, 9.6386e-02])"
      ]
     },
     "execution_count": null,
     "metadata": {},
     "output_type": "execute_result"
    }
   ],
   "source": [
    "f_s"
   ]
  },
  {
   "cell_type": "code",
   "execution_count": null,
   "metadata": {},
   "outputs": [],
   "source": []
  }
 ],
 "metadata": {
  "kernelspec": {
   "display_name": "Python 3",
   "language": "python",
   "name": "python3"
  }
 },
 "nbformat": 4,
 "nbformat_minor": 2
}
