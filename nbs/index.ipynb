{
 "cells": [
  {
   "cell_type": "markdown",
   "metadata": {},
   "source": [
    "[![pypi pytorch_inferno version](https://img.shields.io/pypi/v/pytorch_inferno.svg)](https://pypi.python.org/pypi/pytorch_inferno)\n",
    "[![pytorch_inferno python compatibility](https://img.shields.io/pypi/pyversions/pytorch_inferno.svg)](https://pypi.python.org/pypi/pytorch_inferno) [![pytorch_inferno license](https://img.shields.io/pypi/l/pytorch_inferno.svg)](https://pypi.python.org/pypi/pytorch_inferno)\n",
    "\n",
    "# PyTorch INFERNO\n",
    "\n",
    "Documentation: https://gilesstrong.github.io/pytorch_inferno/"
   ]
  },
  {
   "cell_type": "markdown",
   "metadata": {},
   "source": [
    "### User install\n",
    "```\n",
    "pip install pytorch_inferno\n",
    "```\n",
    "\n",
    "### Developer install\n",
    "```\n",
    "[install torch>=1.7 according to CUDA version]\n",
    "pip install nbdev fastcore numpy pandas fastprogress matplotlib>=3.0.0 seaborn scipy\n",
    "git clone git@github.com:GilesStrong/pytorch_inferno.git\n",
    "cd pytorch_inferno\n",
    "pip install -e .\n",
    "nbdev_install_git_hooks\n",
    "```"
   ]
  },
  {
   "cell_type": "markdown",
   "metadata": {},
   "source": [
    "## Overview\n",
    "Library developed and testing in `nbs` directory.\n",
    "\n",
    "Experiments run in `experiments` directory.\n",
    "\n",
    "Use `nbdev_build_lib` to export code to library located in `pytorch_inferno`. This overwrites any changes in `pytorch_inferno`, i.e. only edit the notebooks."
   ]
  },
  {
   "cell_type": "markdown",
   "metadata": {},
   "source": [
    "## Results\n",
    "![title](imgs/results.png)"
   ]
  },
  {
   "cell_type": "markdown",
   "metadata": {},
   "source": [
    "https://docs.google.com/spreadsheets/d/1feR_prOMzlNAfuMtB7JyhSVaTM32wvdnt72aqcWzyy4/edit?usp=sharing"
   ]
  },
  {
   "cell_type": "code",
   "execution_count": null,
   "metadata": {},
   "outputs": [],
   "source": []
  }
 ],
 "metadata": {
  "kernelspec": {
   "display_name": "Python 3",
   "language": "python",
   "name": "python3"
  }
 },
 "nbformat": 4,
 "nbformat_minor": 2
}
