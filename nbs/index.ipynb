{
 "cells": [
  {
   "cell_type": "markdown",
   "metadata": {},
   "source": [
    "[![pypi pytorch_inferno version](https://img.shields.io/pypi/v/pytorch_inferno.svg)](https://pypi.python.org/pypi/pytorch_inferno)\n",
    "[![pytorch_inferno python compatibility](https://img.shields.io/pypi/pyversions/pytorch_inferno.svg)](https://pypi.python.org/pypi/pytorch_inferno) [![pytorch_inferno license](https://img.shields.io/pypi/l/pytorch_inferno.svg)](https://pypi.python.org/pypi/pytorch_inferno)\n",
    "[![DOI](https://zenodo.org/badge/DOI/10.5281/zenodo.4597140.svg)](https://doi.org/10.5281/zenodo.4597140)\n",
    "\n",
    "# PyTorch INFERNO\n",
    "\n",
    "Documentation: https://gilesstrong.github.io/pytorch_inferno/\n",
    "\n",
    "This package provides a PyTorch implementation of INFERNO ([de Castro and Dorigo, 2018](https://www.sciencedirect.com/science/article/pii/S0010465519301948)), along with a minimal high-level wrapper for training and applying PyTorch models, and running statistical inference of parameters of interest in the presence of nuisance parameters. INFERNO is implemented in the form of a callback, allowing it to be dropped in and swapped out with heavy rewriting of code.\n",
    "\n",
    "For an overview of the package, a breakdown of the INFERNO algorithm, and an introduction to parameter inference in HEP, I have written a 5-post blog series: https://gilesstrong.github.io/website/statistics/hep/inferno/2020/12/04/inferno-1.html\n",
    "\n",
    "The authors' Tensorflow 1 code may be found here: https://github.com/pablodecm/paper-inferno\n",
    "And Lukas Layer's Tenforflow 2 version may be found here: https://github.com/llayer/inferno"
   ]
  },
  {
   "cell_type": "markdown",
   "metadata": {},
   "source": [
    "### User install\n",
    "```\n",
    "pip install pytorch_inferno\n",
    "```\n",
    "\n",
    "### Developer install\n",
    "```\n",
    "[install torch>=1.7 according to CUDA version]\n",
    "pip install nbdev fastcore numpy pandas fastprogress matplotlib>=3.0.0 seaborn scipy\n",
    "git clone git@github.com:GilesStrong/pytorch_inferno.git\n",
    "cd pytorch_inferno\n",
    "pip install -e .\n",
    "nbdev_install_git_hooks\n",
    "```"
   ]
  },
  {
   "cell_type": "markdown",
   "metadata": {},
   "source": [
    "## Overview\n",
    "Library developed and testing in `nbs` directory.\n",
    "\n",
    "Experiments run in `experiments` directory.\n",
    "\n",
    "Use `nbdev_build_lib` to export code to library located in `pytorch_inferno`. This overwrites any changes in `pytorch_inferno`, i.e. only edit the notebooks."
   ]
  },
  {
   "cell_type": "markdown",
   "metadata": {},
   "source": [
    "## Results\n",
    "\n",
    "This package has been tested against the paper problem and reproduces its results within uncertainty\n",
    "![title](imgs/results.png)"
   ]
  },
  {
   "cell_type": "markdown",
   "metadata": {},
   "source": [
    "## Reference\n",
    "\n",
    "If you have used this implementation of INFERNO in your analysis work and wish to cite it, the preferred reference is: *Giles C. Strong, pytorch_inferno, Zenodo (Mar. 2021), http://doi.org/10.5281/zenodo.4597140, Note: Please check https://github.com/GilesStrong/pytorch_inferno/graphs/contributors for the full list of contributors*\n",
    "\n",
    "```\n",
    "@misc{giles_chatham_strong_2021_4597140,  \n",
    "  author       = {Giles Chatham Strong},  \n",
    "  title        = {LUMIN},  \n",
    "  month        = mar,  \n",
    "  year         = 2021,  \n",
    "  note         = {{Please check https://github.com/GilesStrong/pytorch_inferno/graphs/contributors for the full list of contributors}},  \n",
    "  doi          = {10.5281/zenodo.4597140},  \n",
    "  url          = {https://doi.org/10.5281/zenodo.4597140}  \n",
    "}\n",
    "```\n",
    "\n",
    "The INFERNO algorithm should also be cited:\n",
    "```\n",
    "@article{DECASTRO2019170,\n",
    "    title = {INFERNO: Inference-Aware Neural Optimisation},\n",
    "    journal = {Computer Physics Communications},\n",
    "    volume = {244},\n",
    "    pages = {170-179},\n",
    "    year = {2019},\n",
    "    issn = {0010-4655},\n",
    "    doi = {https://doi.org/10.1016/j.cpc.2019.06.007},\n",
    "    url = {https://www.sciencedirect.com/science/article/pii/S0010465519301948},\n",
    "    author = {Pablo {de Castro} and Tommaso Dorigo},\n",
    "}\n",
    "```"
   ]
  },
  {
   "cell_type": "code",
   "execution_count": null,
   "metadata": {},
   "outputs": [],
   "source": []
  }
 ],
 "metadata": {
  "kernelspec": {
   "display_name": "Python 3",
   "language": "python",
   "name": "python3"
  }
 },
 "nbformat": 4,
 "nbformat_minor": 2
}
