{
 "cells": [
  {
   "cell_type": "code",
   "execution_count": null,
   "metadata": {},
   "outputs": [
    {
     "name": "stderr",
     "output_type": "stream",
     "text": [
      "UsageError: Line magic function `%autoreload` not found.\n"
     ]
    }
   ],
   "source": [
    "%matplotlib inline\n",
    "%autoreload 2"
   ]
  },
  {
   "cell_type": "markdown",
   "metadata": {},
   "source": [
    "# BCE classifier\n",
    "\n",
    "Test of BCE baseline model and benchmarks. Reproduces mean paper results within 5%."
   ]
  },
  {
   "cell_type": "code",
   "execution_count": null,
   "metadata": {},
   "outputs": [],
   "source": [
    "#hide\n",
    "from nbdev.showdoc import *"
   ]
  },
  {
   "cell_type": "code",
   "execution_count": null,
   "metadata": {},
   "outputs": [],
   "source": [
    "from pytorch_inferno.model_wrapper import ModelWrapper\n",
    "from pytorch_inferno.callback import *\n",
    "from pytorch_inferno.data import get_paper_data\n",
    "from pytorch_inferno.plotting import *\n",
    "from pytorch_inferno.inference import *\n",
    "from pytorch_inferno.utils import *\n",
    "\n",
    "from fastcore.all import partialler\n",
    "import pandas as pd\n",
    "import numpy as np\n",
    "import matplotlib.pyplot as plt\n",
    "import seaborn as sns\n",
    "import itertools\n",
    "from typing import *\n",
    "from collections import OrderedDict\n",
    "\n",
    "import torch.nn as nn\n",
    "from torch import optim\n",
    "import torch\n",
    "from torch import Tensor\n",
    "from torch import autograd"
   ]
  },
  {
   "cell_type": "code",
   "execution_count": null,
   "metadata": {},
   "outputs": [],
   "source": [
    "net = nn.Sequential(nn.Linear(3,100),  nn.ReLU(),\n",
    "                    nn.Linear(100,100),nn.ReLU(),\n",
    "                    nn.Linear(100,1),  nn.Sigmoid())\n",
    "init_net(net)"
   ]
  },
  {
   "cell_type": "code",
   "execution_count": null,
   "metadata": {},
   "outputs": [],
   "source": [
    "model = ModelWrapper(net)\n",
    "data, test = get_paper_data(200000, bs=64, n_test=1000000)"
   ]
  },
  {
   "cell_type": "code",
   "execution_count": null,
   "metadata": {
    "tags": []
   },
   "outputs": [
    {
     "data": {
      "text/html": [
       "\n",
       "    <div>\n",
       "        <style>\n",
       "            /* Turns off some styling */\n",
       "            progress {\n",
       "                /* gets rid of default border in Firefox and Opera. */\n",
       "                border: none;\n",
       "                /* Needs to be in here for Safari polyfill so background images work as expected. */\n",
       "                background-size: auto;\n",
       "            }\n",
       "            .progress-bar-interrupted, .progress-bar-interrupted::-webkit-progress-bar {\n",
       "                background: #F44336;\n",
       "            }\n",
       "        </style>\n",
       "      <progress value='182' class='' max='200', style='width:300px; height:20px; vertical-align: middle;'></progress>\n",
       "      91.00% [182/200 27:32<02:43]\n",
       "    </div>\n",
       "    \n",
       "\n",
       "\n",
       "    <div>\n",
       "        <style>\n",
       "            /* Turns off some styling */\n",
       "            progress {\n",
       "                /* gets rid of default border in Firefox and Opera. */\n",
       "                border: none;\n",
       "                /* Needs to be in here for Safari polyfill so background images work as expected. */\n",
       "                background-size: auto;\n",
       "            }\n",
       "            .progress-bar-interrupted, .progress-bar-interrupted::-webkit-progress-bar {\n",
       "                background: #F44336;\n",
       "            }\n",
       "        </style>\n",
       "      <progress value='1563' class='' max='1563', style='width:300px; height:20px; vertical-align: middle;'></progress>\n",
       "      100.00% [1563/1563 00:02<00:00]\n",
       "    </div>\n",
       "    "
      ],
      "text/plain": [
       "<IPython.core.display.HTML object>"
      ]
     },
     "metadata": {},
     "output_type": "display_data"
    },
    {
     "name": "stdout",
     "output_type": "stream",
     "text": [
      "1: Train=0.4401596694660187 Valid=0.40934421967506407\n",
      "2: Train=0.3955455165576935 Valid=0.3814330395126343\n",
      "3: Train=0.3735753394079208 Valid=0.3641806226539612\n",
      "4: Train=0.35999459485530855 Valid=0.35342187165260314\n",
      "5: Train=0.3515187005662918 Valid=0.34703761987686155\n",
      "6: Train=0.34629804510593415 Valid=0.34279413098335265\n",
      "7: Train=0.34318549807071685 Valid=0.3406400420475006\n",
      "8: Train=0.34128225273609164 Valid=0.33914463949203494\n",
      "9: Train=0.34018883963108065 Valid=0.3380114377498627\n",
      "10: Train=0.33946443359851836 Valid=0.3372597011375427\n",
      "11: Train=0.3389732162570953 Valid=0.3373694033241272\n",
      "12: Train=0.3386864182853699 Valid=0.3370241341876984\n",
      "13: Train=0.33839162315368654 Valid=0.33655655870437623\n",
      "14: Train=0.3382486596488953 Valid=0.33666536286354065\n",
      "15: Train=0.3380545433139801 Valid=0.33611120774269104\n",
      "16: Train=0.33789991596221924 Valid=0.33597198868751527\n",
      "17: Train=0.3378156385612488 Valid=0.3359025964164734\n",
      "18: Train=0.3376615642356873 Valid=0.3358702029132843\n",
      "19: Train=0.33752401041507724 Valid=0.3357016792011261\n",
      "20: Train=0.33739624544143676 Valid=0.3354600147151947\n",
      "21: Train=0.3372631990480423 Valid=0.3353307818984985\n",
      "22: Train=0.33714277290821076 Valid=0.3352134060096741\n",
      "23: Train=0.33705983587265015 Valid=0.33512691918373105\n",
      "24: Train=0.33693764100551604 Valid=0.3350596829319\n",
      "25: Train=0.33680479245662687 Valid=0.3349036205625534\n",
      "26: Train=0.33665138681411744 Valid=0.33474385855674743\n",
      "27: Train=0.3365564872837067 Valid=0.3349937389183044\n",
      "28: Train=0.3364750769138336 Valid=0.33464241979598996\n",
      "29: Train=0.336370634803772 Valid=0.3346134196949005\n",
      "30: Train=0.33630102869510653 Valid=0.33443620118141176\n",
      "31: Train=0.33613900839805605 Valid=0.33507500432014464\n",
      "32: Train=0.3360718049812317 Valid=0.3344491707801819\n",
      "33: Train=0.33598402028560637 Valid=0.3342830274486542\n",
      "34: Train=0.335863395857811 Valid=0.3346111583518982\n",
      "35: Train=0.3357828775882721 Valid=0.3341241596031189\n",
      "36: Train=0.3356510054445267 Valid=0.3338865422821045\n",
      "37: Train=0.3355071882724762 Valid=0.3338051172351837\n",
      "38: Train=0.33552988414287566 Valid=0.3337033417510986\n",
      "39: Train=0.3353881644010544 Valid=0.333686633720398\n",
      "40: Train=0.33531462994098665 Valid=0.33404107959747315\n",
      "41: Train=0.33522697597503665 Valid=0.33355286390304567\n",
      "42: Train=0.3352065756416321 Valid=0.3337879946231842\n",
      "43: Train=0.3350980857038498 Valid=0.33358669421195986\n",
      "44: Train=0.33512551217556 Valid=0.3334365441894531\n",
      "45: Train=0.3350244929695129 Valid=0.33349827073097227\n",
      "46: Train=0.33502878699302674 Valid=0.33338521600723264\n",
      "47: Train=0.33497737009525297 Valid=0.3333722365570068\n",
      "48: Train=0.33490412657260893 Valid=0.33334829129219057\n",
      "49: Train=0.3348318570637703 Valid=0.3333046744346619\n",
      "50: Train=0.33481263651371 Valid=0.33340909229278565\n",
      "51: Train=0.33478439294815066 Valid=0.3331788088417053\n",
      "52: Train=0.3347347577047348 Valid=0.3331005892467499\n",
      "53: Train=0.3346843806886673 Valid=0.3331653772163391\n",
      "54: Train=0.3346480290365219 Valid=0.3331690660429001\n",
      "55: Train=0.33462377359867096 Valid=0.33331577367782594\n",
      "56: Train=0.33457147295475004 Valid=0.3329586972427368\n",
      "57: Train=0.33452408515930177 Valid=0.3329264031505585\n",
      "58: Train=0.33452216834545134 Valid=0.3329094484138489\n",
      "59: Train=0.33447439280986785 Valid=0.33303861716270444\n",
      "60: Train=0.33447391420841216 Valid=0.33297017612457275\n",
      "61: Train=0.3344042584562302 Valid=0.33292961950302125\n",
      "62: Train=0.3343791297531128 Valid=0.3329365303039551\n",
      "63: Train=0.33435054318428037 Valid=0.3329786256694794\n",
      "64: Train=0.3343353075838089 Valid=0.3328600264644623\n",
      "65: Train=0.3343262705230713 Valid=0.33288952583312986\n",
      "66: Train=0.3342640236902237 Valid=0.33276781851768494\n",
      "67: Train=0.33419101843357085 Valid=0.3330511375999451\n",
      "68: Train=0.33422913469314575 Valid=0.33285445857048035\n",
      "69: Train=0.33417037678718564 Valid=0.33301825618743897\n",
      "70: Train=0.3341747755289078 Valid=0.33276313904762267\n",
      "71: Train=0.33415675930500033 Valid=0.3328295513916016\n",
      "72: Train=0.33414704941749573 Valid=0.3326139484596252\n",
      "73: Train=0.33413631983280184 Valid=0.33263474258422854\n",
      "74: Train=0.33410697439193726 Valid=0.33276120739936826\n",
      "75: Train=0.3340358936500549 Valid=0.33259769804000855\n",
      "76: Train=0.3340445246362686 Valid=0.3325745278549194\n",
      "77: Train=0.3340035797548294 Valid=0.3327006754875183\n",
      "78: Train=0.3339904106092453 Valid=0.33291448390007017\n",
      "79: Train=0.3339818403291702 Valid=0.33252529430389405\n",
      "80: Train=0.33399641335010527 Valid=0.3325782063674927\n",
      "81: Train=0.33394446102142333 Valid=0.33281785915374756\n",
      "82: Train=0.3338979445266724 Valid=0.33277307726860045\n",
      "83: Train=0.3339114589118958 Valid=0.33265391731262206\n",
      "84: Train=0.33393412498474123 Valid=0.3325239041233063\n",
      "85: Train=0.3338507075881958 Valid=0.332535486869812\n",
      "86: Train=0.3338899645471573 Valid=0.3326120667743683\n",
      "87: Train=0.333888299665451 Valid=0.33252558153152467\n",
      "88: Train=0.33387231768608094 Valid=0.3325227961063385\n",
      "89: Train=0.33386425348758697 Valid=0.3325534144496918\n",
      "90: Train=0.33381100764751437 Valid=0.3324367418193817\n",
      "91: Train=0.33380395610809327 Valid=0.3324377715778351\n",
      "92: Train=0.33378428166866303 Valid=0.3325920921230316\n",
      "93: Train=0.33373518481254577 Valid=0.33245267780303955\n",
      "94: Train=0.333772325630188 Valid=0.33242272216796875\n",
      "95: Train=0.3337418792486191 Valid=0.3323869842529297\n",
      "96: Train=0.33374978649616244 Valid=0.3324182853603363\n",
      "97: Train=0.3337352984762192 Valid=0.33237322924613955\n",
      "98: Train=0.3337120560836792 Valid=0.3327784062862396\n",
      "99: Train=0.3336675734424591 Valid=0.3323449670410156\n",
      "100: Train=0.3337156555557251 Valid=0.332351870470047\n",
      "101: Train=0.3336950178861618 Valid=0.33233665910243987\n",
      "102: Train=0.3336923529815674 Valid=0.33241537249565123\n",
      "103: Train=0.3336689256477356 Valid=0.33263129138946534\n",
      "104: Train=0.33364549577236174 Valid=0.3326731502151489\n",
      "105: Train=0.33363967804431915 Valid=0.33234542843818665\n",
      "106: Train=0.3336320660114288 Valid=0.332446462726593\n",
      "107: Train=0.333607826833725 Valid=0.33224496900081635\n",
      "108: Train=0.3335857013940811 Valid=0.332359218044281\n",
      "109: Train=0.33361277839660647 Valid=0.33220758562088015\n",
      "110: Train=0.3335323936748505 Valid=0.33228286485672\n",
      "111: Train=0.3335441935682297 Valid=0.3322803593540192\n",
      "112: Train=0.33359110698223116 Valid=0.3322899594116211\n",
      "113: Train=0.33353778921604155 Valid=0.3322493807888031\n",
      "114: Train=0.3335140561914444 Valid=0.33230897164344786\n",
      "115: Train=0.3335571015119553 Valid=0.33220371067047116\n",
      "116: Train=0.3335287266206741 Valid=0.33239409985542295\n",
      "117: Train=0.3335507511520386 Valid=0.33224006620407104\n",
      "118: Train=0.3335288142633438 Valid=0.3327024325466156\n",
      "119: Train=0.333486918296814 Valid=0.3321698768043518\n",
      "120: Train=0.3334320827627182 Valid=0.332245111207962\n",
      "121: Train=0.3335170507287979 Valid=0.3322635398483276\n",
      "122: Train=0.3334713349556923 Valid=0.332595508813858\n",
      "123: Train=0.3334231536197662 Valid=0.3321558260154724\n",
      "124: Train=0.33349313251972196 Valid=0.3322174460697174\n",
      "125: Train=0.33347898432731626 Valid=0.3321897243022919\n",
      "126: Train=0.3334081823682785 Valid=0.33248818019866944\n",
      "127: Train=0.3334656743144989 Valid=0.33223274912834166\n",
      "128: Train=0.33341535520076754 Valid=0.33271853029251097\n",
      "129: Train=0.3334744714951515 Valid=0.3321046081066132\n",
      "130: Train=0.3334428968667984 Valid=0.3324296042060852\n",
      "131: Train=0.33341333713054655 Valid=0.33211319274902346\n",
      "132: Train=0.33338920687198637 Valid=0.3321900072193146\n",
      "133: Train=0.333418422164917 Valid=0.3321302451515198\n",
      "134: Train=0.3333692935228348 Valid=0.3321182141971588\n",
      "135: Train=0.3334068399477005 Valid=0.3320757554340363\n",
      "136: Train=0.3334084215402603 Valid=0.3321561923122406\n",
      "137: Train=0.33338812885284425 Valid=0.33222181601524353\n",
      "138: Train=0.3333819922590256 Valid=0.3321292294597626\n",
      "139: Train=0.3333896144247055 Valid=0.33227924983978274\n",
      "140: Train=0.33336264080524447 Valid=0.3321697473049164\n",
      "141: Train=0.3333860713481903 Valid=0.33206859899520874\n",
      "142: Train=0.3333899481868744 Valid=0.33219457198143004\n",
      "143: Train=0.33337270089626314 Valid=0.33203435490608213\n",
      "144: Train=0.3333531312203407 Valid=0.3320599358844757\n",
      "145: Train=0.33331782813310623 Valid=0.33204176120758055\n",
      "146: Train=0.3333408605480194 Valid=0.3321776508617401\n",
      "147: Train=0.3333189824151993 Valid=0.3321526023864746\n",
      "148: Train=0.3333511674118042 Valid=0.33211440449714663\n",
      "149: Train=0.33330522777080535 Valid=0.33231474955558776\n",
      "150: Train=0.33331363015651705 Valid=0.3320231016349792\n"
     ]
    },
    {
     "name": "stdout",
     "output_type": "stream",
     "text": [
      "151: Train=0.33326829611301423 Valid=0.3320400103664398\n",
      "152: Train=0.3332729207134247 Valid=0.33225296505928037\n",
      "153: Train=0.33332246705532076 Valid=0.3321785771656036\n",
      "154: Train=0.3333142163801193 Valid=0.3321405253219604\n",
      "155: Train=0.33329975813388824 Valid=0.3321521426105499\n",
      "156: Train=0.3333130160713196 Valid=0.3323877345466614\n",
      "157: Train=0.3332772430896759 Valid=0.3324062751865387\n",
      "158: Train=0.33325417152404785 Valid=0.3321454641199112\n",
      "159: Train=0.33330262325286864 Valid=0.33203717700004576\n",
      "160: Train=0.33329062415122984 Valid=0.33198393109321594\n",
      "161: Train=0.3332824336576462 Valid=0.3319967373466492\n",
      "162: Train=0.33327312892198563 Valid=0.3320194143295288\n",
      "163: Train=0.33326279490947724 Valid=0.3327838553237915\n",
      "164: Train=0.33326371988773346 Valid=0.3321148463916779\n",
      "165: Train=0.3332704231548309 Valid=0.33202244709968565\n",
      "166: Train=0.3331906876707077 Valid=0.332341728143692\n",
      "167: Train=0.3332507816505432 Valid=0.33220772681236266\n",
      "168: Train=0.3332554066896439 Valid=0.3321069675922394\n",
      "169: Train=0.3332542403125763 Valid=0.3320273901462555\n",
      "170: Train=0.33325028023242953 Valid=0.33195408948898314\n",
      "171: Train=0.3332484700536728 Valid=0.3320963449573517\n",
      "172: Train=0.3332522019958496 Valid=0.33201430970191953\n",
      "173: Train=0.33322910109996795 Valid=0.3319471931171417\n",
      "174: Train=0.3332006343793869 Valid=0.3323221574687958\n",
      "175: Train=0.333268593583107 Valid=0.33198823876380923\n",
      "176: Train=0.3332285491847992 Valid=0.3320528295135498\n",
      "177: Train=0.3332417913532257 Valid=0.33201726938247683\n",
      "178: Train=0.3331999565696716 Valid=0.33210542542457583\n",
      "179: Train=0.3332279320144653 Valid=0.3319715508365631\n",
      "180: Train=0.33319417633533477 Valid=0.33206845594406126\n",
      "181: Train=0.3332337882900238 Valid=0.33205049838066103\n",
      "182: Train=0.3332221125030518 Valid=0.332041012635231\n",
      "183: Train=0.3331856199121475 Valid=0.33201534051895143\n",
      "Early stopping\n",
      "Loading best model\n"
     ]
    }
   ],
   "source": [
    "model.fit(200, data=data, opt=partialler(optim.SGD,lr=1e-3), loss=nn.BCELoss(),\n",
    "          cbs=[LossTracker(),SaveBest('weights/best_bce.h5'),EarlyStopping(10)])"
   ]
  },
  {
   "cell_type": "code",
   "execution_count": null,
   "metadata": {},
   "outputs": [],
   "source": [
    "model.save('weights/BCE_Test.h5')"
   ]
  },
  {
   "cell_type": "code",
   "execution_count": null,
   "metadata": {},
   "outputs": [],
   "source": [
    "model.load('weights/BCE_Test.h5')"
   ]
  },
  {
   "cell_type": "markdown",
   "metadata": {},
   "source": [
    "## BM 0"
   ]
  },
  {
   "cell_type": "code",
   "execution_count": null,
   "metadata": {},
   "outputs": [
    {
     "data": {
      "text/html": [
       "\n",
       "    <div>\n",
       "        <style>\n",
       "            /* Turns off some styling */\n",
       "            progress {\n",
       "                /* gets rid of default border in Firefox and Opera. */\n",
       "                border: none;\n",
       "                /* Needs to be in here for Safari polyfill so background images work as expected. */\n",
       "                background-size: auto;\n",
       "            }\n",
       "            .progress-bar-interrupted, .progress-bar-interrupted::-webkit-progress-bar {\n",
       "                background: #F44336;\n",
       "            }\n",
       "        </style>\n",
       "      <progress value='7813' class='' max='7813', style='width:300px; height:20px; vertical-align: middle;'></progress>\n",
       "      100.00% [7813/7813 00:14<00:00]\n",
       "    </div>\n",
       "    "
      ],
      "text/plain": [
       "<IPython.core.display.HTML object>"
      ]
     },
     "metadata": {},
     "output_type": "display_data"
    }
   ],
   "source": [
    "preds = model._predict_dl(test)"
   ]
  },
  {
   "cell_type": "code",
   "execution_count": null,
   "metadata": {},
   "outputs": [
    {
     "data": {
      "text/plain": [
       "array([[8.0165595e-01],\n",
       "       [8.6571717e-01],\n",
       "       [9.2349386e-01],\n",
       "       ...,\n",
       "       [1.0477606e-02],\n",
       "       [8.6404339e-10],\n",
       "       [1.5087092e-04]], dtype=float32)"
      ]
     },
     "execution_count": null,
     "metadata": {},
     "output_type": "execute_result"
    }
   ],
   "source": [
    "preds"
   ]
  },
  {
   "cell_type": "code",
   "execution_count": null,
   "metadata": {},
   "outputs": [
    {
     "data": {
      "text/html": [
       "<div>\n",
       "<style scoped>\n",
       "    .dataframe tbody tr th:only-of-type {\n",
       "        vertical-align: middle;\n",
       "    }\n",
       "\n",
       "    .dataframe tbody tr th {\n",
       "        vertical-align: top;\n",
       "    }\n",
       "\n",
       "    .dataframe thead th {\n",
       "        text-align: right;\n",
       "    }\n",
       "</style>\n",
       "<table border=\"1\" class=\"dataframe\">\n",
       "  <thead>\n",
       "    <tr style=\"text-align: right;\">\n",
       "      <th></th>\n",
       "      <th>pred</th>\n",
       "      <th>gen_target</th>\n",
       "    </tr>\n",
       "  </thead>\n",
       "  <tbody>\n",
       "    <tr>\n",
       "      <td>0</td>\n",
       "      <td>0.801656</td>\n",
       "      <td>1.0</td>\n",
       "    </tr>\n",
       "    <tr>\n",
       "      <td>1</td>\n",
       "      <td>0.865717</td>\n",
       "      <td>1.0</td>\n",
       "    </tr>\n",
       "    <tr>\n",
       "      <td>2</td>\n",
       "      <td>0.923494</td>\n",
       "      <td>1.0</td>\n",
       "    </tr>\n",
       "    <tr>\n",
       "      <td>3</td>\n",
       "      <td>0.671968</td>\n",
       "      <td>1.0</td>\n",
       "    </tr>\n",
       "    <tr>\n",
       "      <td>4</td>\n",
       "      <td>0.744155</td>\n",
       "      <td>1.0</td>\n",
       "    </tr>\n",
       "  </tbody>\n",
       "</table>\n",
       "</div>"
      ],
      "text/plain": [
       "       pred  gen_target\n",
       "0  0.801656         1.0\n",
       "1  0.865717         1.0\n",
       "2  0.923494         1.0\n",
       "3  0.671968         1.0\n",
       "4  0.744155         1.0"
      ]
     },
     "execution_count": null,
     "metadata": {},
     "output_type": "execute_result"
    }
   ],
   "source": [
    "df = pd.DataFrame({'pred':preds.squeeze()})\n",
    "df['gen_target'] = test.dataset.y\n",
    "df.head()"
   ]
  },
  {
   "cell_type": "code",
   "execution_count": null,
   "metadata": {},
   "outputs": [
    {
     "data": {
      "image/png": "[encoded data removed]",
      "text/plain": [
       "<Figure size 1024x576 with 1 Axes>"
      ]
     },
     "metadata": {},
     "output_type": "display_data"
    }
   ],
   "source": [
    "plot_preds(df)"
   ]
  },
  {
   "cell_type": "code",
   "execution_count": null,
   "metadata": {},
   "outputs": [],
   "source": [
    "bin_preds(df, np.linspace(0,1,11))"
   ]
  },
  {
   "cell_type": "code",
   "execution_count": null,
   "metadata": {},
   "outputs": [
    {
     "data": {
      "text/html": [
       "<div>\n",
       "<style scoped>\n",
       "    .dataframe tbody tr th:only-of-type {\n",
       "        vertical-align: middle;\n",
       "    }\n",
       "\n",
       "    .dataframe tbody tr th {\n",
       "        vertical-align: top;\n",
       "    }\n",
       "\n",
       "    .dataframe thead th {\n",
       "        text-align: right;\n",
       "    }\n",
       "</style>\n",
       "<table border=\"1\" class=\"dataframe\">\n",
       "  <thead>\n",
       "    <tr style=\"text-align: right;\">\n",
       "      <th></th>\n",
       "      <th>pred</th>\n",
       "      <th>gen_target</th>\n",
       "      <th>pred_bin</th>\n",
       "    </tr>\n",
       "  </thead>\n",
       "  <tbody>\n",
       "    <tr>\n",
       "      <td>0</td>\n",
       "      <td>0.801656</td>\n",
       "      <td>1.0</td>\n",
       "      <td>8</td>\n",
       "    </tr>\n",
       "    <tr>\n",
       "      <td>1</td>\n",
       "      <td>0.865717</td>\n",
       "      <td>1.0</td>\n",
       "      <td>8</td>\n",
       "    </tr>\n",
       "    <tr>\n",
       "      <td>2</td>\n",
       "      <td>0.923494</td>\n",
       "      <td>1.0</td>\n",
       "      <td>9</td>\n",
       "    </tr>\n",
       "    <tr>\n",
       "      <td>3</td>\n",
       "      <td>0.671968</td>\n",
       "      <td>1.0</td>\n",
       "      <td>6</td>\n",
       "    </tr>\n",
       "    <tr>\n",
       "      <td>4</td>\n",
       "      <td>0.744155</td>\n",
       "      <td>1.0</td>\n",
       "      <td>7</td>\n",
       "    </tr>\n",
       "  </tbody>\n",
       "</table>\n",
       "</div>"
      ],
      "text/plain": [
       "       pred  gen_target  pred_bin\n",
       "0  0.801656         1.0         8\n",
       "1  0.865717         1.0         8\n",
       "2  0.923494         1.0         9\n",
       "3  0.671968         1.0         6\n",
       "4  0.744155         1.0         7"
      ]
     },
     "execution_count": null,
     "metadata": {},
     "output_type": "execute_result"
    }
   ],
   "source": [
    "df.head()"
   ]
  },
  {
   "cell_type": "code",
   "execution_count": null,
   "metadata": {},
   "outputs": [],
   "source": [
    "f_s,f_b = get_shape(df,1),get_shape(df,0)"
   ]
  },
  {
   "cell_type": "code",
   "execution_count": null,
   "metadata": {},
   "outputs": [
    {
     "data": {
      "text/plain": [
       "(tensor(1.), tensor(1.))"
      ]
     },
     "execution_count": null,
     "metadata": {},
     "output_type": "execute_result"
    }
   ],
   "source": [
    "f_s.sum(), f_b.sum()"
   ]
  },
  {
   "cell_type": "code",
   "execution_count": null,
   "metadata": {},
   "outputs": [
    {
     "data": {
      "text/plain": [
       "(tensor([1.9062e-02, 1.4626e-02, 1.9892e-02, 2.7224e-02, 4.2362e-02, 7.4388e-02,\n",
       "         1.5124e-01, 4.3148e-01, 2.1972e-01, 2.0000e-13]),\n",
       " tensor([6.8545e-01, 4.1566e-02, 3.3612e-02, 3.2188e-02, 3.3780e-02, 3.8238e-02,\n",
       "         4.8478e-02, 7.0762e-02, 1.5930e-02, 2.0000e-13]))"
      ]
     },
     "execution_count": null,
     "metadata": {},
     "output_type": "execute_result"
    }
   ],
   "source": [
    "f_s, f_b"
   ]
  },
  {
   "cell_type": "code",
   "execution_count": null,
   "metadata": {},
   "outputs": [],
   "source": [
    "asimov = (50*f_s)+(1000*f_b)"
   ]
  },
  {
   "cell_type": "code",
   "execution_count": null,
   "metadata": {},
   "outputs": [
    {
     "data": {
      "text/plain": [
       "(tensor([6.8640e+02, 4.2297e+01, 3.4607e+01, 3.3549e+01, 3.5898e+01, 4.1957e+01,\n",
       "         5.6040e+01, 9.2336e+01, 2.6916e+01, 2.1000e-10]), tensor(1050.0001))"
      ]
     },
     "execution_count": null,
     "metadata": {},
     "output_type": "execute_result"
    }
   ],
   "source": [
    "asimov, asimov.sum()"
   ]
  },
  {
   "cell_type": "code",
   "execution_count": null,
   "metadata": {},
   "outputs": [
    {
     "data": {
      "text/plain": [
       "array([28.80239105, 28.64399338, 28.49192047, 28.34626007, 28.20688248,\n",
       "       28.07373047, 27.94677353, 27.82578278, 27.7106781 , 27.60105133,\n",
       "       27.49765015, 27.40018082, 27.3086319 , 27.22160339, 27.14057922,\n",
       "       27.06494141, 26.99470139, 26.92969513, 26.8698349 , 26.81515503,\n",
       "       26.76552582, 26.72088242, 26.6812439 , 26.64642334, 26.61598969,\n",
       "       26.59073639, 26.57075882, 26.55511475, 26.54383087, 26.53668976,\n",
       "       26.53440094, 26.53710556, 26.5437088 , 26.55413437, 26.56935883,\n",
       "       26.58885193, 26.61252975, 26.64057922, 26.67250443, 26.70848083,\n",
       "       26.74847412, 26.79243851, 26.84038544, 26.89217758, 26.94785309,\n",
       "       27.00725555, 27.07049942, 27.13751984, 27.2081337 , 27.28247833,\n",
       "       27.36038208, 27.44195175, 27.52703857, 27.61588287, 27.70795441,\n",
       "       27.80355072, 27.90247726, 28.00482941, 28.11048508, 28.2195282 ,\n",
       "       28.33182526])"
      ]
     },
     "execution_count": null,
     "metadata": {},
     "output_type": "execute_result"
    }
   ],
   "source": [
    "n = 1050\n",
    "x = np.linspace(20,80,61)\n",
    "y = np.zeros_like(x)\n",
    "for i,m in enumerate(x):\n",
    "    pois = torch.distributions.Poisson((m*f_s)+(1000*f_b))\n",
    "    y[i] = -pois.log_prob(asimov).sum()\n",
    "y"
   ]
  },
  {
   "cell_type": "code",
   "execution_count": null,
   "metadata": {},
   "outputs": [
    {
     "data": {
      "image/png": "[encoded data removed]",
      "text/plain": [
       "<Figure size 1024x576 with 1 Axes>"
      ]
     },
     "metadata": {},
     "output_type": "display_data"
    }
   ],
   "source": [
    "plot_likelihood(y-y.min())"
   ]
  },
  {
   "cell_type": "markdown",
   "metadata": {},
   "source": [
    "# Nuisances - via interpolation"
   ]
  },
  {
   "cell_type": "code",
   "execution_count": null,
   "metadata": {},
   "outputs": [],
   "source": [
    "bkg = test.dataset.x[test.dataset.y.squeeze() == 0]\n",
    "assert len(bkg) == 500000"
   ]
  },
  {
   "cell_type": "code",
   "execution_count": null,
   "metadata": {},
   "outputs": [
    {
     "name": "stdout",
     "output_type": "stream",
     "text": [
      "Running: r=-0.2\n"
     ]
    },
    {
     "data": {
      "text/html": [
       "\n",
       "    <div>\n",
       "        <style>\n",
       "            /* Turns off some styling */\n",
       "            progress {\n",
       "                /* gets rid of default border in Firefox and Opera. */\n",
       "                border: none;\n",
       "                /* Needs to be in here for Safari polyfill so background images work as expected. */\n",
       "                background-size: auto;\n",
       "            }\n",
       "            .progress-bar-interrupted, .progress-bar-interrupted::-webkit-progress-bar {\n",
       "                background: #F44336;\n",
       "            }\n",
       "        </style>\n",
       "      <progress value='1' class='' max='1', style='width:300px; height:20px; vertical-align: middle;'></progress>\n",
       "      100.00% [1/1 00:03<00:00]\n",
       "    </div>\n",
       "    "
      ],
      "text/plain": [
       "<IPython.core.display.HTML object>"
      ]
     },
     "metadata": {},
     "output_type": "display_data"
    },
    {
     "name": "stdout",
     "output_type": "stream",
     "text": [
      "Running: r=0\n"
     ]
    },
    {
     "data": {
      "text/html": [
       "\n",
       "    <div>\n",
       "        <style>\n",
       "            /* Turns off some styling */\n",
       "            progress {\n",
       "                /* gets rid of default border in Firefox and Opera. */\n",
       "                border: none;\n",
       "                /* Needs to be in here for Safari polyfill so background images work as expected. */\n",
       "                background-size: auto;\n",
       "            }\n",
       "            .progress-bar-interrupted, .progress-bar-interrupted::-webkit-progress-bar {\n",
       "                background: #F44336;\n",
       "            }\n",
       "        </style>\n",
       "      <progress value='1' class='' max='1', style='width:300px; height:20px; vertical-align: middle;'></progress>\n",
       "      100.00% [1/1 00:03<00:00]\n",
       "    </div>\n",
       "    "
      ],
      "text/plain": [
       "<IPython.core.display.HTML object>"
      ]
     },
     "metadata": {},
     "output_type": "display_data"
    },
    {
     "name": "stdout",
     "output_type": "stream",
     "text": [
      "Running: r=0.2\n"
     ]
    },
    {
     "data": {
      "text/html": [
       "\n",
       "    <div>\n",
       "        <style>\n",
       "            /* Turns off some styling */\n",
       "            progress {\n",
       "                /* gets rid of default border in Firefox and Opera. */\n",
       "                border: none;\n",
       "                /* Needs to be in here for Safari polyfill so background images work as expected. */\n",
       "                background-size: auto;\n",
       "            }\n",
       "            .progress-bar-interrupted, .progress-bar-interrupted::-webkit-progress-bar {\n",
       "                background: #F44336;\n",
       "            }\n",
       "        </style>\n",
       "      <progress value='1' class='' max='1', style='width:300px; height:20px; vertical-align: middle;'></progress>\n",
       "      100.00% [1/1 00:03<00:00]\n",
       "    </div>\n",
       "    "
      ],
      "text/plain": [
       "<IPython.core.display.HTML object>"
      ]
     },
     "metadata": {},
     "output_type": "display_data"
    },
    {
     "name": "stdout",
     "output_type": "stream",
     "text": [
      "Running: l=2.5\n"
     ]
    },
    {
     "data": {
      "text/html": [
       "\n",
       "    <div>\n",
       "        <style>\n",
       "            /* Turns off some styling */\n",
       "            progress {\n",
       "                /* gets rid of default border in Firefox and Opera. */\n",
       "                border: none;\n",
       "                /* Needs to be in here for Safari polyfill so background images work as expected. */\n",
       "                background-size: auto;\n",
       "            }\n",
       "            .progress-bar-interrupted, .progress-bar-interrupted::-webkit-progress-bar {\n",
       "                background: #F44336;\n",
       "            }\n",
       "        </style>\n",
       "      <progress value='1' class='' max='1', style='width:300px; height:20px; vertical-align: middle;'></progress>\n",
       "      100.00% [1/1 00:03<00:00]\n",
       "    </div>\n",
       "    "
      ],
      "text/plain": [
       "<IPython.core.display.HTML object>"
      ]
     },
     "metadata": {},
     "output_type": "display_data"
    },
    {
     "name": "stdout",
     "output_type": "stream",
     "text": [
      "Running: l=3\n"
     ]
    },
    {
     "data": {
      "text/html": [
       "\n",
       "    <div>\n",
       "        <style>\n",
       "            /* Turns off some styling */\n",
       "            progress {\n",
       "                /* gets rid of default border in Firefox and Opera. */\n",
       "                border: none;\n",
       "                /* Needs to be in here for Safari polyfill so background images work as expected. */\n",
       "                background-size: auto;\n",
       "            }\n",
       "            .progress-bar-interrupted, .progress-bar-interrupted::-webkit-progress-bar {\n",
       "                background: #F44336;\n",
       "            }\n",
       "        </style>\n",
       "      <progress value='1' class='' max='1', style='width:300px; height:20px; vertical-align: middle;'></progress>\n",
       "      100.00% [1/1 00:03<00:00]\n",
       "    </div>\n",
       "    "
      ],
      "text/plain": [
       "<IPython.core.display.HTML object>"
      ]
     },
     "metadata": {},
     "output_type": "display_data"
    },
    {
     "name": "stdout",
     "output_type": "stream",
     "text": [
      "Running: l=3.5\n"
     ]
    },
    {
     "data": {
      "text/html": [
       "\n",
       "    <div>\n",
       "        <style>\n",
       "            /* Turns off some styling */\n",
       "            progress {\n",
       "                /* gets rid of default border in Firefox and Opera. */\n",
       "                border: none;\n",
       "                /* Needs to be in here for Safari polyfill so background images work as expected. */\n",
       "                background-size: auto;\n",
       "            }\n",
       "            .progress-bar-interrupted, .progress-bar-interrupted::-webkit-progress-bar {\n",
       "                background: #F44336;\n",
       "            }\n",
       "        </style>\n",
       "      <progress value='1' class='' max='1', style='width:300px; height:20px; vertical-align: middle;'></progress>\n",
       "      100.00% [1/1 00:03<00:00]\n",
       "    </div>\n",
       "    "
      ],
      "text/plain": [
       "<IPython.core.display.HTML object>"
      ]
     },
     "metadata": {},
     "output_type": "display_data"
    }
   ],
   "source": [
    "b_shapes = get_paper_syst_shapes(bkg, df, model=model, bins=np.linspace(0,1,11))"
   ]
  },
  {
   "cell_type": "code",
   "execution_count": null,
   "metadata": {},
   "outputs": [
    {
     "data": {
      "text/html": [
       "<div>\n",
       "<style scoped>\n",
       "    .dataframe tbody tr th:only-of-type {\n",
       "        vertical-align: middle;\n",
       "    }\n",
       "\n",
       "    .dataframe tbody tr th {\n",
       "        vertical-align: top;\n",
       "    }\n",
       "\n",
       "    .dataframe thead th {\n",
       "        text-align: right;\n",
       "    }\n",
       "</style>\n",
       "<table border=\"1\" class=\"dataframe\">\n",
       "  <thead>\n",
       "    <tr style=\"text-align: right;\">\n",
       "      <th></th>\n",
       "      <th>pred</th>\n",
       "      <th>gen_target</th>\n",
       "      <th>pred_bin</th>\n",
       "      <th>pred_-0.2_3</th>\n",
       "      <th>pred_-0.2_3_bin</th>\n",
       "      <th>pred_0_3</th>\n",
       "      <th>pred_0_3_bin</th>\n",
       "      <th>pred_0.2_3</th>\n",
       "      <th>pred_0.2_3_bin</th>\n",
       "      <th>pred_0_2.5</th>\n",
       "      <th>pred_0_2.5_bin</th>\n",
       "      <th>pred_0_3.5</th>\n",
       "      <th>pred_0_3.5_bin</th>\n",
       "    </tr>\n",
       "  </thead>\n",
       "  <tbody>\n",
       "    <tr>\n",
       "      <td>0</td>\n",
       "      <td>8.016559e-01</td>\n",
       "      <td>1.0</td>\n",
       "      <td>8</td>\n",
       "      <td>8.016559e-01</td>\n",
       "      <td>8</td>\n",
       "      <td>8.016559e-01</td>\n",
       "      <td>8</td>\n",
       "      <td>8.016559e-01</td>\n",
       "      <td>8</td>\n",
       "      <td>8.016559e-01</td>\n",
       "      <td>8</td>\n",
       "      <td>8.016559e-01</td>\n",
       "      <td>8</td>\n",
       "    </tr>\n",
       "    <tr>\n",
       "      <td>1</td>\n",
       "      <td>8.657172e-01</td>\n",
       "      <td>1.0</td>\n",
       "      <td>8</td>\n",
       "      <td>8.657172e-01</td>\n",
       "      <td>8</td>\n",
       "      <td>8.657172e-01</td>\n",
       "      <td>8</td>\n",
       "      <td>8.657172e-01</td>\n",
       "      <td>8</td>\n",
       "      <td>8.657172e-01</td>\n",
       "      <td>8</td>\n",
       "      <td>8.657172e-01</td>\n",
       "      <td>8</td>\n",
       "    </tr>\n",
       "    <tr>\n",
       "      <td>2</td>\n",
       "      <td>9.234939e-01</td>\n",
       "      <td>1.0</td>\n",
       "      <td>9</td>\n",
       "      <td>9.234939e-01</td>\n",
       "      <td>9</td>\n",
       "      <td>9.234939e-01</td>\n",
       "      <td>9</td>\n",
       "      <td>9.234939e-01</td>\n",
       "      <td>9</td>\n",
       "      <td>9.234939e-01</td>\n",
       "      <td>9</td>\n",
       "      <td>9.234939e-01</td>\n",
       "      <td>9</td>\n",
       "    </tr>\n",
       "    <tr>\n",
       "      <td>3</td>\n",
       "      <td>6.719683e-01</td>\n",
       "      <td>1.0</td>\n",
       "      <td>6</td>\n",
       "      <td>6.719683e-01</td>\n",
       "      <td>6</td>\n",
       "      <td>6.719683e-01</td>\n",
       "      <td>6</td>\n",
       "      <td>6.719683e-01</td>\n",
       "      <td>6</td>\n",
       "      <td>6.719683e-01</td>\n",
       "      <td>6</td>\n",
       "      <td>6.719683e-01</td>\n",
       "      <td>6</td>\n",
       "    </tr>\n",
       "    <tr>\n",
       "      <td>4</td>\n",
       "      <td>7.441548e-01</td>\n",
       "      <td>1.0</td>\n",
       "      <td>7</td>\n",
       "      <td>7.441548e-01</td>\n",
       "      <td>7</td>\n",
       "      <td>7.441548e-01</td>\n",
       "      <td>7</td>\n",
       "      <td>7.441548e-01</td>\n",
       "      <td>7</td>\n",
       "      <td>7.441548e-01</td>\n",
       "      <td>7</td>\n",
       "      <td>7.441548e-01</td>\n",
       "      <td>7</td>\n",
       "    </tr>\n",
       "    <tr>\n",
       "      <td>...</td>\n",
       "      <td>...</td>\n",
       "      <td>...</td>\n",
       "      <td>...</td>\n",
       "      <td>...</td>\n",
       "      <td>...</td>\n",
       "      <td>...</td>\n",
       "      <td>...</td>\n",
       "      <td>...</td>\n",
       "      <td>...</td>\n",
       "      <td>...</td>\n",
       "      <td>...</td>\n",
       "      <td>...</td>\n",
       "      <td>...</td>\n",
       "    </tr>\n",
       "    <tr>\n",
       "      <td>999995</td>\n",
       "      <td>1.324046e-02</td>\n",
       "      <td>0.0</td>\n",
       "      <td>0</td>\n",
       "      <td>1.826522e-02</td>\n",
       "      <td>0</td>\n",
       "      <td>1.324046e-02</td>\n",
       "      <td>0</td>\n",
       "      <td>9.508059e-03</td>\n",
       "      <td>0</td>\n",
       "      <td>1.285214e-02</td>\n",
       "      <td>0</td>\n",
       "      <td>1.364323e-02</td>\n",
       "      <td>0</td>\n",
       "    </tr>\n",
       "    <tr>\n",
       "      <td>999996</td>\n",
       "      <td>1.458118e-02</td>\n",
       "      <td>0.0</td>\n",
       "      <td>0</td>\n",
       "      <td>2.519483e-02</td>\n",
       "      <td>0</td>\n",
       "      <td>1.458118e-02</td>\n",
       "      <td>0</td>\n",
       "      <td>8.433408e-03</td>\n",
       "      <td>0</td>\n",
       "      <td>1.453730e-02</td>\n",
       "      <td>0</td>\n",
       "      <td>1.462518e-02</td>\n",
       "      <td>0</td>\n",
       "    </tr>\n",
       "    <tr>\n",
       "      <td>999997</td>\n",
       "      <td>1.047761e-02</td>\n",
       "      <td>0.0</td>\n",
       "      <td>0</td>\n",
       "      <td>1.377524e-02</td>\n",
       "      <td>0</td>\n",
       "      <td>1.047761e-02</td>\n",
       "      <td>0</td>\n",
       "      <td>8.407601e-03</td>\n",
       "      <td>0</td>\n",
       "      <td>1.015880e-02</td>\n",
       "      <td>0</td>\n",
       "      <td>1.098705e-02</td>\n",
       "      <td>0</td>\n",
       "    </tr>\n",
       "    <tr>\n",
       "      <td>999998</td>\n",
       "      <td>8.640434e-10</td>\n",
       "      <td>0.0</td>\n",
       "      <td>0</td>\n",
       "      <td>1.166612e-09</td>\n",
       "      <td>0</td>\n",
       "      <td>8.640434e-10</td>\n",
       "      <td>0</td>\n",
       "      <td>6.222782e-10</td>\n",
       "      <td>0</td>\n",
       "      <td>8.394827e-10</td>\n",
       "      <td>0</td>\n",
       "      <td>8.893244e-10</td>\n",
       "      <td>0</td>\n",
       "    </tr>\n",
       "    <tr>\n",
       "      <td>999999</td>\n",
       "      <td>1.508709e-04</td>\n",
       "      <td>0.0</td>\n",
       "      <td>0</td>\n",
       "      <td>1.553497e-04</td>\n",
       "      <td>0</td>\n",
       "      <td>1.508709e-04</td>\n",
       "      <td>0</td>\n",
       "      <td>1.492623e-04</td>\n",
       "      <td>0</td>\n",
       "      <td>1.354505e-04</td>\n",
       "      <td>0</td>\n",
       "      <td>1.680460e-04</td>\n",
       "      <td>0</td>\n",
       "    </tr>\n",
       "  </tbody>\n",
       "</table>\n",
       "<p>1000000 rows × 13 columns</p>\n",
       "</div>"
      ],
      "text/plain": [
       "                pred  gen_target  pred_bin   pred_-0.2_3  pred_-0.2_3_bin  \\\n",
       "0       8.016559e-01         1.0         8  8.016559e-01                8   \n",
       "1       8.657172e-01         1.0         8  8.657172e-01                8   \n",
       "2       9.234939e-01         1.0         9  9.234939e-01                9   \n",
       "3       6.719683e-01         1.0         6  6.719683e-01                6   \n",
       "4       7.441548e-01         1.0         7  7.441548e-01                7   \n",
       "...              ...         ...       ...           ...              ...   \n",
       "999995  1.324046e-02         0.0         0  1.826522e-02                0   \n",
       "999996  1.458118e-02         0.0         0  2.519483e-02                0   \n",
       "999997  1.047761e-02         0.0         0  1.377524e-02                0   \n",
       "999998  8.640434e-10         0.0         0  1.166612e-09                0   \n",
       "999999  1.508709e-04         0.0         0  1.553497e-04                0   \n",
       "\n",
       "            pred_0_3  pred_0_3_bin    pred_0.2_3  pred_0.2_3_bin  \\\n",
       "0       8.016559e-01             8  8.016559e-01               8   \n",
       "1       8.657172e-01             8  8.657172e-01               8   \n",
       "2       9.234939e-01             9  9.234939e-01               9   \n",
       "3       6.719683e-01             6  6.719683e-01               6   \n",
       "4       7.441548e-01             7  7.441548e-01               7   \n",
       "...              ...           ...           ...             ...   \n",
       "999995  1.324046e-02             0  9.508059e-03               0   \n",
       "999996  1.458118e-02             0  8.433408e-03               0   \n",
       "999997  1.047761e-02             0  8.407601e-03               0   \n",
       "999998  8.640434e-10             0  6.222782e-10               0   \n",
       "999999  1.508709e-04             0  1.492623e-04               0   \n",
       "\n",
       "          pred_0_2.5  pred_0_2.5_bin    pred_0_3.5  pred_0_3.5_bin  \n",
       "0       8.016559e-01               8  8.016559e-01               8  \n",
       "1       8.657172e-01               8  8.657172e-01               8  \n",
       "2       9.234939e-01               9  9.234939e-01               9  \n",
       "3       6.719683e-01               6  6.719683e-01               6  \n",
       "4       7.441548e-01               7  7.441548e-01               7  \n",
       "...              ...             ...           ...             ...  \n",
       "999995  1.285214e-02               0  1.364323e-02               0  \n",
       "999996  1.453730e-02               0  1.462518e-02               0  \n",
       "999997  1.015880e-02               0  1.098705e-02               0  \n",
       "999998  8.394827e-10               0  8.893244e-10               0  \n",
       "999999  1.354505e-04               0  1.680460e-04               0  \n",
       "\n",
       "[1000000 rows x 13 columns]"
      ]
     },
     "execution_count": null,
     "metadata": {},
     "output_type": "execute_result"
    }
   ],
   "source": [
    "df"
   ]
  },
  {
   "cell_type": "code",
   "execution_count": null,
   "metadata": {},
   "outputs": [
    {
     "data": {
      "image/png": "[encoded data removed]",
      "text/plain": [
       "<Figure size 1024x576 with 1 Axes>"
      ]
     },
     "metadata": {},
     "output_type": "display_data"
    }
   ],
   "source": [
    "plot_preds(df, pred_names=['pred', 'pred_-0.2_3', 'pred_0.2_3', 'pred_0_2.5', 'pred_0_3.5'])"
   ]
  },
  {
   "cell_type": "code",
   "execution_count": null,
   "metadata": {},
   "outputs": [
    {
     "data": {
      "text/plain": [
       "tensor([6.8545e-01, 4.1566e-02, 3.3612e-02, 3.2188e-02, 3.3780e-02, 3.8238e-02,\n",
       "        4.8478e-02, 7.0762e-02, 1.5930e-02, 2.0000e-13])"
      ]
     },
     "execution_count": null,
     "metadata": {},
     "output_type": "execute_result"
    }
   ],
   "source": [
    "b_shapes['f_b_nom']"
   ]
  },
  {
   "cell_type": "code",
   "execution_count": null,
   "metadata": {},
   "outputs": [
    {
     "data": {
      "text/plain": [
       "tensor([[7.0629e-01, 3.9078e-02, 3.2562e-02, 3.0356e-02, 3.1714e-02, 3.6052e-02,\n",
       "         4.4992e-02, 6.4510e-02, 1.4448e-02, 2.0000e-13],\n",
       "        [6.8097e-01, 4.1850e-02, 3.3580e-02, 3.1860e-02, 3.3854e-02, 3.8512e-02,\n",
       "         4.7950e-02, 7.0750e-02, 2.0674e-02, 2.0000e-13]])"
      ]
     },
     "execution_count": null,
     "metadata": {},
     "output_type": "execute_result"
    }
   ],
   "source": [
    "b_shapes['f_b_up']"
   ]
  },
  {
   "cell_type": "code",
   "execution_count": null,
   "metadata": {},
   "outputs": [
    {
     "data": {
      "text/plain": [
       "tensor([[6.6513e-01, 4.3118e-02, 3.5504e-02, 3.3608e-02, 3.5666e-02, 4.0938e-02,\n",
       "         5.1314e-02, 7.7204e-02, 1.7518e-02, 2.0000e-13],\n",
       "        [6.8992e-01, 4.1372e-02, 3.3622e-02, 3.2230e-02, 3.3860e-02, 3.8380e-02,\n",
       "         4.8590e-02, 7.0456e-02, 1.1566e-02, 2.0000e-13]])"
      ]
     },
     "execution_count": null,
     "metadata": {},
     "output_type": "execute_result"
    }
   ],
   "source": [
    "b_shapes['f_b_dw']"
   ]
  },
  {
   "cell_type": "code",
   "execution_count": null,
   "metadata": {},
   "outputs": [
    {
     "data": {
      "text/plain": [
       "tensor([1.9062e-02, 1.4626e-02, 1.9892e-02, 2.7224e-02, 4.2362e-02, 7.4388e-02,\n",
       "        1.5124e-01, 4.3148e-01, 2.1972e-01, 2.0000e-13])"
      ]
     },
     "execution_count": null,
     "metadata": {},
     "output_type": "execute_result"
    }
   ],
   "source": [
    "f_s"
   ]
  },
  {
   "cell_type": "code",
   "execution_count": null,
   "metadata": {},
   "outputs": [
    {
     "data": {
      "text/plain": [
       "[<matplotlib.lines.Line2D at 0x7ff0a47f2898>]"
      ]
     },
     "execution_count": null,
     "metadata": {},
     "output_type": "execute_result"
    },
    {
     "data": {
      "image/png": "[encoded data removed]",
      "text/plain": [
       "<Figure size 432x288 with 1 Axes>"
      ]
     },
     "metadata": {},
     "output_type": "display_data"
    }
   ],
   "source": [
    "i = 0\n",
    "d = b_shapes['f_b_dw'][0][i]\n",
    "n = b_shapes['f_b_nom'][i]\n",
    "u = b_shapes['f_b_up'][0][i]\n",
    "interp = []\n",
    "rs = np.linspace(-2,2)\n",
    "for r in rs: interp.append(interp_shape(Tensor((r,0))[None,:], **b_shapes)[0][i].data.item())\n",
    "plt.scatter(rs, interp)\n",
    "plt.plot([-1,0,1],[d,n,u], label=i, color='r')"
   ]
  },
  {
   "cell_type": "code",
   "execution_count": null,
   "metadata": {},
   "outputs": [
    {
     "data": {
      "text/plain": [
       "[<matplotlib.lines.Line2D at 0x7ff049f60550>]"
      ]
     },
     "execution_count": null,
     "metadata": {},
     "output_type": "execute_result"
    },
    {
     "data": {
      "image/png": "[encoded data removed]",
      "text/plain": [
       "<Figure size 432x288 with 1 Axes>"
      ]
     },
     "metadata": {},
     "output_type": "display_data"
    }
   ],
   "source": [
    "i = 0\n",
    "d = b_shapes['f_b_dw'][1][i]\n",
    "n = b_shapes['f_b_nom'][i]\n",
    "u = b_shapes['f_b_up'][1][i]\n",
    "interp = []\n",
    "ls = np.linspace(-2,2)\n",
    "for l in ls: interp.append(interp_shape(Tensor((0,l))[None,:], **b_shapes)[0][i].data.item())\n",
    "plt.scatter(ls, interp)\n",
    "plt.plot([-1,0,1],[d,n,u], label=i, color='r')"
   ]
  },
  {
   "cell_type": "code",
   "execution_count": null,
   "metadata": {},
   "outputs": [
    {
     "data": {
      "text/plain": [
       "tensor([6.8545e-01, 4.1566e-02, 3.3612e-02, 3.2188e-02, 3.3780e-02, 3.8238e-02,\n",
       "        4.8478e-02, 7.0762e-02, 1.5930e-02, 2.0000e-13])"
      ]
     },
     "execution_count": null,
     "metadata": {},
     "output_type": "execute_result"
    }
   ],
   "source": [
    "b_shapes['f_b_nom']"
   ]
  },
  {
   "cell_type": "code",
   "execution_count": null,
   "metadata": {},
   "outputs": [
    {
     "data": {
      "text/plain": [
       "tensor([7.0629e-01, 3.9078e-02, 3.2562e-02, 3.0356e-02, 3.1714e-02, 3.6052e-02,\n",
       "        4.4992e-02, 6.4510e-02, 1.4448e-02, 2.0000e-13])"
      ]
     },
     "execution_count": null,
     "metadata": {},
     "output_type": "execute_result"
    }
   ],
   "source": [
    "alpha = Tensor((1,0))[None,:]\n",
    "interp_shape(alpha, **b_shapes).squeeze()"
   ]
  },
  {
   "cell_type": "code",
   "execution_count": null,
   "metadata": {},
   "outputs": [
    {
     "data": {
      "text/plain": [
       "tensor([[7.0629e-01, 3.9078e-02, 3.2562e-02, 3.0356e-02, 3.1714e-02, 3.6052e-02,\n",
       "         4.4992e-02, 6.4510e-02, 1.4448e-02, 2.0000e-13],\n",
       "        [6.8097e-01, 4.1850e-02, 3.3580e-02, 3.1860e-02, 3.3854e-02, 3.8512e-02,\n",
       "         4.7950e-02, 7.0750e-02, 2.0674e-02, 2.0000e-13]])"
      ]
     },
     "execution_count": null,
     "metadata": {},
     "output_type": "execute_result"
    }
   ],
   "source": [
    "b_shapes['f_b_up']"
   ]
  },
  {
   "cell_type": "code",
   "execution_count": null,
   "metadata": {},
   "outputs": [
    {
     "data": {
      "text/plain": [
       "<matplotlib.legend.Legend at 0x7ff0a47dc9b0>"
      ]
     },
     "execution_count": null,
     "metadata": {},
     "output_type": "execute_result"
    },
    {
     "data": {
      "image/png": "[encoded data removed]",
      "text/plain": [
       "<Figure size 864x576 with 1 Axes>"
      ]
     },
     "metadata": {},
     "output_type": "display_data"
    }
   ],
   "source": [
    "fig = plt.figure(figsize=(12,8))\n",
    "for r in [-1,0,1]:\n",
    "    for l in [-1,0,1]:\n",
    "        alpha = Tensor((r,l))[None,:]\n",
    "        s = interp_shape(alpha, **b_shapes).squeeze()\n",
    "        plt.plot(s, label=f'{r} {l}')\n",
    "plt.legend()"
   ]
  },
  {
   "cell_type": "markdown",
   "metadata": {},
   "source": [
    "# Newton"
   ]
  },
  {
   "cell_type": "code",
   "execution_count": null,
   "metadata": {},
   "outputs": [],
   "source": [
    "profiler = partialler(calc_profile, n=1050, mu_scan=torch.linspace(20,80,61), true_mu=50)"
   ]
  },
  {
   "cell_type": "markdown",
   "metadata": {},
   "source": [
    "## BM 1\n",
    "r free, l fixed"
   ]
  },
  {
   "cell_type": "code",
   "execution_count": null,
   "metadata": {},
   "outputs": [],
   "source": [
    "bm1_b_shapes = OrderedDict([('f_b_nom', b_shapes['f_b_nom']),\n",
    "                            ('f_b_up',  b_shapes['f_b_up'][0][None,:]),\n",
    "                            ('f_b_dw',  b_shapes['f_b_dw'][0][None,:])])"
   ]
  },
  {
   "cell_type": "code",
   "execution_count": null,
   "metadata": {},
   "outputs": [
    {
     "data": {
      "text/plain": [
       "torch.Size([1, 10])"
      ]
     },
     "execution_count": null,
     "metadata": {},
     "output_type": "execute_result"
    }
   ],
   "source": [
    "bm1_b_shapes['f_b_up'].shape"
   ]
  },
  {
   "cell_type": "code",
   "execution_count": null,
   "metadata": {},
   "outputs": [
    {
     "data": {
      "text/html": [
       "\n",
       "    <div>\n",
       "        <style>\n",
       "            /* Turns off some styling */\n",
       "            progress {\n",
       "                /* gets rid of default border in Firefox and Opera. */\n",
       "                border: none;\n",
       "                /* Needs to be in here for Safari polyfill so background images work as expected. */\n",
       "                background-size: auto;\n",
       "            }\n",
       "            .progress-bar-interrupted, .progress-bar-interrupted::-webkit-progress-bar {\n",
       "                background: #F44336;\n",
       "            }\n",
       "        </style>\n",
       "      <progress value='61' class='' max='61', style='width:300px; height:20px; vertical-align: middle;'></progress>\n",
       "      100.00% [61/61 00:08<00:00]\n",
       "    </div>\n",
       "    "
      ],
      "text/plain": [
       "<IPython.core.display.HTML object>"
      ]
     },
     "metadata": {},
     "output_type": "display_data"
    },
    {
     "name": "stdout",
     "output_type": "stream",
     "text": [
      "Linear regime: Mu 20.0, alpha tensor([-1.0556])\n",
      "Linear regime: Mu 21.0, alpha tensor([-1.0188])\n"
     ]
    }
   ],
   "source": [
    "nll = profiler(f_s=f_s, n_steps=100, **bm1_b_shapes)"
   ]
  },
  {
   "cell_type": "code",
   "execution_count": null,
   "metadata": {},
   "outputs": [],
   "source": [
    "nll = to_np(nll)"
   ]
  },
  {
   "cell_type": "code",
   "execution_count": null,
   "metadata": {},
   "outputs": [
    {
     "data": {
      "image/png": "[encoded data removed]",
      "text/plain": [
       "<Figure size 1024x576 with 1 Axes>"
      ]
     },
     "metadata": {},
     "output_type": "display_data"
    }
   ],
   "source": [
    "plot_likelihood(nll-nll.min())"
   ]
  },
  {
   "cell_type": "markdown",
   "metadata": {},
   "source": [
    "## BM 1l\n",
    "r fixed, l free"
   ]
  },
  {
   "cell_type": "code",
   "execution_count": null,
   "metadata": {},
   "outputs": [],
   "source": [
    "bm1l_b_shapes = OrderedDict([('f_b_nom', b_shapes['f_b_nom']),\n",
    "                             ('f_b_up',  b_shapes['f_b_up'][1][None,:]),\n",
    "                             ('f_b_dw',  b_shapes['f_b_dw'][1][None,:])])"
   ]
  },
  {
   "cell_type": "code",
   "execution_count": null,
   "metadata": {},
   "outputs": [
    {
     "data": {
      "text/html": [
       "\n",
       "    <div>\n",
       "        <style>\n",
       "            /* Turns off some styling */\n",
       "            progress {\n",
       "                /* gets rid of default border in Firefox and Opera. */\n",
       "                border: none;\n",
       "                /* Needs to be in here for Safari polyfill so background images work as expected. */\n",
       "                background-size: auto;\n",
       "            }\n",
       "            .progress-bar-interrupted, .progress-bar-interrupted::-webkit-progress-bar {\n",
       "                background: #F44336;\n",
       "            }\n",
       "        </style>\n",
       "      <progress value='61' class='' max='61', style='width:300px; height:20px; vertical-align: middle;'></progress>\n",
       "      100.00% [61/61 00:08<00:00]\n",
       "    </div>\n",
       "    "
      ],
      "text/plain": [
       "<IPython.core.display.HTML object>"
      ]
     },
     "metadata": {},
     "output_type": "display_data"
    },
    {
     "name": "stdout",
     "output_type": "stream",
     "text": [
      "Linear regime: Mu 20.0, alpha tensor([1.2783])\n",
      "Linear regime: Mu 21.0, alpha tensor([1.2358])\n",
      "Linear regime: Mu 22.0, alpha tensor([1.1933])\n",
      "Linear regime: Mu 23.0, alpha tensor([1.1509])\n",
      "Linear regime: Mu 24.0, alpha tensor([1.1084])\n",
      "Linear regime: Mu 25.0, alpha tensor([1.0658])\n",
      "Linear regime: Mu 70.0, alpha tensor([-1.0000])\n",
      "Linear regime: Mu 71.0, alpha tensor([-1.0286])\n",
      "Linear regime: Mu 72.0, alpha tensor([-1.0775])\n",
      "Linear regime: Mu 73.0, alpha tensor([-1.1264])\n",
      "Linear regime: Mu 74.0, alpha tensor([-1.1752])\n",
      "Linear regime: Mu 75.0, alpha tensor([-1.2241])\n",
      "Linear regime: Mu 76.0, alpha tensor([-1.2729])\n",
      "Linear regime: Mu 77.0, alpha tensor([-1.3218])\n",
      "Linear regime: Mu 78.0, alpha tensor([-1.3706])\n",
      "Linear regime: Mu 79.0, alpha tensor([-1.4194])\n",
      "Linear regime: Mu 80.0, alpha tensor([-1.4682])\n"
     ]
    }
   ],
   "source": [
    "nll = profiler(f_s=f_s, n_steps=100, **bm1l_b_shapes)"
   ]
  },
  {
   "cell_type": "code",
   "execution_count": null,
   "metadata": {},
   "outputs": [],
   "source": [
    "nll = to_np(nll)"
   ]
  },
  {
   "cell_type": "code",
   "execution_count": null,
   "metadata": {},
   "outputs": [
    {
     "data": {
      "image/png": "[encoded data removed]",
      "text/plain": [
       "<Figure size 1024x576 with 1 Axes>"
      ]
     },
     "metadata": {},
     "output_type": "display_data"
    }
   ],
   "source": [
    "plot_likelihood(nll-nll.min())"
   ]
  },
  {
   "cell_type": "markdown",
   "metadata": {},
   "source": [
    "## BM 2"
   ]
  },
  {
   "cell_type": "code",
   "execution_count": null,
   "metadata": {},
   "outputs": [
    {
     "data": {
      "text/html": [
       "\n",
       "    <div>\n",
       "        <style>\n",
       "            /* Turns off some styling */\n",
       "            progress {\n",
       "                /* gets rid of default border in Firefox and Opera. */\n",
       "                border: none;\n",
       "                /* Needs to be in here for Safari polyfill so background images work as expected. */\n",
       "                background-size: auto;\n",
       "            }\n",
       "            .progress-bar-interrupted, .progress-bar-interrupted::-webkit-progress-bar {\n",
       "                background: #F44336;\n",
       "            }\n",
       "        </style>\n",
       "      <progress value='61' class='' max='61', style='width:300px; height:20px; vertical-align: middle;'></progress>\n",
       "      100.00% [61/61 00:11<00:00]\n",
       "    </div>\n",
       "    "
      ],
      "text/plain": [
       "<IPython.core.display.HTML object>"
      ]
     },
     "metadata": {},
     "output_type": "display_data"
    },
    {
     "name": "stdout",
     "output_type": "stream",
     "text": [
      "Linear regime: Mu 77.0, alpha tensor([ 0.6371, -1.0006])\n",
      "Linear regime: Mu 78.0, alpha tensor([ 0.6617, -1.0250])\n",
      "Linear regime: Mu 79.0, alpha tensor([ 0.6835, -1.0626])\n",
      "Linear regime: Mu 80.0, alpha tensor([ 0.7052, -1.1003])\n"
     ]
    }
   ],
   "source": [
    "nll = profiler(f_s=f_s, n_steps=100, **b_shapes)"
   ]
  },
  {
   "cell_type": "code",
   "execution_count": null,
   "metadata": {},
   "outputs": [],
   "source": [
    "nll = to_np(nll)"
   ]
  },
  {
   "cell_type": "code",
   "execution_count": null,
   "metadata": {},
   "outputs": [
    {
     "data": {
      "image/png": "[encoded data removed]",
      "text/plain": [
       "<Figure size 1024x576 with 1 Axes>"
      ]
     },
     "metadata": {},
     "output_type": "display_data"
    }
   ],
   "source": [
    "plot_likelihood(nll-nll.min())"
   ]
  }
 ],
 "metadata": {
  "kernelspec": {
   "display_name": "Python 3",
   "language": "python",
   "name": "python3"
  }
 },
 "nbformat": 4,
 "nbformat_minor": 2
}
