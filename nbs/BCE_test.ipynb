{
 "cells": [
  {
   "cell_type": "code",
   "execution_count": null,
   "metadata": {},
   "outputs": [],
   "source": [
    "%matplotlib inline\n",
    "%reload_ext autoreload\n",
    "%autoreload 2"
   ]
  },
  {
   "cell_type": "markdown",
   "metadata": {},
   "source": [
    "# BCE classifier\n",
    "\n",
    "> API details."
   ]
  },
  {
   "cell_type": "code",
   "execution_count": null,
   "metadata": {},
   "outputs": [],
   "source": [
    "#hide\n",
    "from nbdev.showdoc import *"
   ]
  },
  {
   "cell_type": "code",
   "execution_count": null,
   "metadata": {},
   "outputs": [],
   "source": [
    "from pytorch_inferno.model_wrapper import ModelWrapper\n",
    "from pytorch_inferno.callback import *\n",
    "from pytorch_inferno.data import get_paper_data\n",
    "from pytorch_inferno.plotting import *\n",
    "from pytorch_inferno.inference import *\n",
    "from pytorch_inferno.utils import *\n",
    "\n",
    "from fastcore.all import partialler\n",
    "import pandas as pd\n",
    "import numpy as np\n",
    "import matplotlib.pyplot as plt\n",
    "import seaborn as sns\n",
    "\n",
    "import torch.nn as nn\n",
    "from torch import optim\n",
    "import torch\n",
    "from torch import Tensor"
   ]
  },
  {
   "cell_type": "code",
   "execution_count": null,
   "metadata": {},
   "outputs": [],
   "source": [
    "net = nn.Sequential(nn.Linear(3,100),  nn.ReLU(),\n",
    "                    nn.Linear(100,100),nn.ReLU(),\n",
    "                    nn.Linear(100,1),  nn.Sigmoid())\n",
    "init_net(net)"
   ]
  },
  {
   "cell_type": "code",
   "execution_count": null,
   "metadata": {},
   "outputs": [],
   "source": [
    "model = ModelWrapper(net)\n",
    "\n",
    "data, test = get_paper_data(200000, bm=0, bs=64, n_test=1000000)"
   ]
  },
  {
   "cell_type": "code",
   "execution_count": null,
   "metadata": {
    "tags": []
   },
   "outputs": [
    {
     "data": {
      "text/html": [
       "\n",
       "    <div>\n",
       "        <style>\n",
       "            /* Turns off some styling */\n",
       "            progress {\n",
       "                /* gets rid of default border in Firefox and Opera. */\n",
       "                border: none;\n",
       "                /* Needs to be in here for Safari polyfill so background images work as expected. */\n",
       "                background-size: auto;\n",
       "            }\n",
       "            .progress-bar-interrupted, .progress-bar-interrupted::-webkit-progress-bar {\n",
       "                background: #F44336;\n",
       "            }\n",
       "        </style>\n",
       "      <progress value='34' class='' max='200', style='width:300px; height:20px; vertical-align: middle;'></progress>\n",
       "      17.00% [34/200 03:27<16:52]\n",
       "    </div>\n",
       "    \n",
       "\n",
       "\n",
       "    <div>\n",
       "        <style>\n",
       "            /* Turns off some styling */\n",
       "            progress {\n",
       "                /* gets rid of default border in Firefox and Opera. */\n",
       "                border: none;\n",
       "                /* Needs to be in here for Safari polyfill so background images work as expected. */\n",
       "                background-size: auto;\n",
       "            }\n",
       "            .progress-bar-interrupted, .progress-bar-interrupted::-webkit-progress-bar {\n",
       "                background: #F44336;\n",
       "            }\n",
       "        </style>\n",
       "      <progress value='1' class='' max='1563', style='width:300px; height:20px; vertical-align: middle;'></progress>\n",
       "      0.06% [1/1563 00:00<00:04]\n",
       "    </div>\n",
       "    "
      ],
      "text/plain": [
       "<IPython.core.display.HTML object>"
      ]
     },
     "metadata": {},
     "output_type": "display_data"
    },
    {
     "name": "stdout",
     "output_type": "stream",
     "text": [
      "Train: 0.47231031057357786 Valid: 0.4106015536403656\n",
      "Train: 0.3764215631723404 Valid: 0.35775666311264037\n",
      "Train: 0.34840640859603883 Valid: 0.34506445516586304\n",
      "Train: 0.3413417801809311 Valid: 0.3438991569519043\n",
      "Train: 0.3393236142730713 Valid: 0.33977342045784\n",
      "Train: 0.33844144454956054 Valid: 0.3393754963874817\n",
      "Train: 0.33780056032657624 Valid: 0.33978004629135133\n",
      "Train: 0.3369659703683853 Valid: 0.3384995010280609\n",
      "Train: 0.33632265988349913 Valid: 0.3377543615055084\n",
      "Train: 0.3359568090677261 Valid: 0.3375732827568054\n",
      "Train: 0.33574455837249756 Valid: 0.33751689333915713\n",
      "Train: 0.3355265342378616 Valid: 0.3393559790897369\n",
      "Train: 0.33520790438652037 Valid: 0.3370229545593262\n",
      "Train: 0.33503071492671965 Valid: 0.33649231322288514\n",
      "Train: 0.334813419675827 Valid: 0.33676126938819884\n",
      "Train: 0.3345243829345703 Valid: 0.3363676014328003\n",
      "Train: 0.33434586748838424 Valid: 0.3364793776321411\n",
      "Train: 0.3339301758813858 Valid: 0.3362315066623688\n",
      "Train: 0.3338347667264938 Valid: 0.3362987785053253\n",
      "Train: 0.3335702498626709 Valid: 0.33551193866729734\n",
      "Train: 0.333385745844841 Valid: 0.33755173435211183\n",
      "Train: 0.33333176020145416 Valid: 0.3382425862121582\n",
      "Train: 0.3332747376346588 Valid: 0.33652155715942383\n",
      "Train: 0.3329871785879135 Valid: 0.3353445230579376\n",
      "Train: 0.33296536551237105 Valid: 0.3351008020496368\n",
      "Train: 0.33280986904621124 Valid: 0.33594075567245485\n",
      "Train: 0.3327225113916397 Valid: 0.33664258890151977\n",
      "Train: 0.33267234403133394 Valid: 0.3351286779212952\n",
      "Train: 0.3326017806482315 Valid: 0.334880808391571\n",
      "Train: 0.33257214772224425 Valid: 0.33512462968826295\n",
      "Train: 0.33251725476264954 Valid: 0.3343236209392548\n",
      "Train: 0.332323088517189 Valid: 0.3343179824352264\n",
      "Train: 0.332389038939476 Valid: 0.33445255725860595\n",
      "Train: 0.33234122016906736 Valid: 0.33440744275093076\n"
     ]
    }
   ],
   "source": [
    "model.fit(200, data=data, opt=partialler(optim.SGD,lr=2e-3), loss=nn.BCELoss(),\n",
    "          cbs=[LossTracker(),EarlyStopping(5)])"
   ]
  },
  {
   "cell_type": "code",
   "execution_count": null,
   "metadata": {},
   "outputs": [],
   "source": [
    "preds = model.predict(test)"
   ]
  },
  {
   "cell_type": "code",
   "execution_count": null,
   "metadata": {},
   "outputs": [],
   "source": [
    "preds"
   ]
  },
  {
   "cell_type": "code",
   "execution_count": null,
   "metadata": {},
   "outputs": [],
   "source": [
    "df = pd.DataFrame({'pred':preds.squeeze()})\n",
    "df['gen_target'] = test.dataset.y\n",
    "df.head()"
   ]
  },
  {
   "cell_type": "code",
   "execution_count": null,
   "metadata": {},
   "outputs": [],
   "source": [
    "plot_preds(df)"
   ]
  },
  {
   "cell_type": "code",
   "execution_count": null,
   "metadata": {},
   "outputs": [],
   "source": [
    "bin_preds(df)"
   ]
  },
  {
   "cell_type": "code",
   "execution_count": null,
   "metadata": {},
   "outputs": [],
   "source": [
    "df.head()"
   ]
  },
  {
   "cell_type": "code",
   "execution_count": null,
   "metadata": {},
   "outputs": [],
   "source": [
    "df['gen_weight'] = 1\n",
    "df.loc[df.gen_target == 0, 'gen_weight'] = 1000/len(df[df.gen_target == 0])\n",
    "df.loc[df.gen_target == 1, 'gen_weight'] = 50/len(df[df.gen_target == 1])"
   ]
  },
  {
   "cell_type": "code",
   "execution_count": null,
   "metadata": {},
   "outputs": [],
   "source": [
    "df.head()"
   ]
  },
  {
   "cell_type": "code",
   "execution_count": null,
   "metadata": {},
   "outputs": [],
   "source": [
    "df.gen_weight.sum()"
   ]
  },
  {
   "cell_type": "code",
   "execution_count": null,
   "metadata": {},
   "outputs": [],
   "source": [
    "mu = 50/1000; mu"
   ]
  },
  {
   "cell_type": "code",
   "execution_count": null,
   "metadata": {},
   "outputs": [],
   "source": [
    "f_s = df.loc[df.gen_target == 1, 'pred_bin'].value_counts()\n",
    "f_s.sort_index(inplace=True)\n",
    "f_s /= f_s.sum()\n",
    "f_b = df.loc[df.gen_target == 0, 'pred_bin'].value_counts()\n",
    "f_b.sort_index(inplace=True)\n",
    "f_b /= f_b.sum()"
   ]
  },
  {
   "cell_type": "code",
   "execution_count": null,
   "metadata": {},
   "outputs": [],
   "source": [
    "f_s.sum(), f_b.sum()"
   ]
  },
  {
   "cell_type": "code",
   "execution_count": null,
   "metadata": {},
   "outputs": [],
   "source": [
    "f_s, f_b"
   ]
  },
  {
   "cell_type": "code",
   "execution_count": null,
   "metadata": {},
   "outputs": [],
   "source": [
    "t = f_s/(f_s+f_b); t"
   ]
  },
  {
   "cell_type": "code",
   "execution_count": null,
   "metadata": {},
   "outputs": [],
   "source": [
    "plt.plot(t)"
   ]
  },
  {
   "cell_type": "code",
   "execution_count": null,
   "metadata": {},
   "outputs": [],
   "source": [
    "t_exp = ((50*f_s)+(1000*f_b)).values"
   ]
  },
  {
   "cell_type": "code",
   "execution_count": null,
   "metadata": {},
   "outputs": [],
   "source": [
    "m = 50\n",
    "n = 1050\n",
    "((m*f_s)+((n-m)*f_b)).sum()"
   ]
  },
  {
   "cell_type": "code",
   "execution_count": null,
   "metadata": {},
   "outputs": [],
   "source": [
    "t_exp = Tensor(t_exp)"
   ]
  },
  {
   "cell_type": "code",
   "execution_count": null,
   "metadata": {},
   "outputs": [],
   "source": [
    "t_exp, t_exp.sum()"
   ]
  },
  {
   "cell_type": "code",
   "execution_count": null,
   "metadata": {},
   "outputs": [],
   "source": [
    "m = 50\n",
    "pois = torch.distributions.Poisson(((m*Tensor(f_s))+((n-m)*Tensor(f_b))))"
   ]
  },
  {
   "cell_type": "code",
   "execution_count": null,
   "metadata": {},
   "outputs": [],
   "source": [
    "-torch.distributions.Poisson(t_exp).log_prob(t_exp).mean()"
   ]
  },
  {
   "cell_type": "code",
   "execution_count": null,
   "metadata": {},
   "outputs": [],
   "source": [
    "-pois.log_prob(Tensor(t_exp)).mean()"
   ]
  },
  {
   "cell_type": "code",
   "execution_count": null,
   "metadata": {},
   "outputs": [],
   "source": [
    "x = np.linspace(20,80,61)\n",
    "y = np.zeros_like(x)\n",
    "for i,m in enumerate(x):\n",
    "    pois = torch.distributions.Poisson(((m*Tensor(f_s))+((n-m)*Tensor(f_b))))\n",
    "    y[i] = -pois.log_prob(Tensor(t_exp)).mean()\n",
    "y -= y.min()"
   ]
  },
  {
   "cell_type": "code",
   "execution_count": null,
   "metadata": {},
   "outputs": [],
   "source": [
    "plt.plot(x,y)"
   ]
  },
  {
   "cell_type": "code",
   "execution_count": null,
   "metadata": {},
   "outputs": [],
   "source": [
    "from scipy.interpolate import InterpolatedUnivariateSpline"
   ]
  },
  {
   "cell_type": "code",
   "execution_count": null,
   "metadata": {},
   "outputs": [],
   "source": [
    "r = InterpolatedUnivariateSpline(x, y-0.05).roots()"
   ]
  },
  {
   "cell_type": "code",
   "execution_count": null,
   "metadata": {},
   "outputs": [],
   "source": [
    "(r[1]-r[0])/2"
   ]
  },
  {
   "cell_type": "code",
   "execution_count": null,
   "metadata": {},
   "outputs": [],
   "source": []
  }
 ],
 "metadata": {
  "kernelspec": {
   "display_name": "Python 3",
   "language": "python",
   "name": "python3"
  }
 },
 "nbformat": 4,
 "nbformat_minor": 2
}
