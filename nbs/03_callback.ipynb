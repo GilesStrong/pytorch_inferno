{
 "cells": [
  {
   "cell_type": "code",
   "execution_count": null,
   "metadata": {},
   "outputs": [],
   "source": [
    "# default_exp callback"
   ]
  },
  {
   "cell_type": "code",
   "execution_count": null,
   "metadata": {},
   "outputs": [],
   "source": [
    "%matplotlib inline\n",
    "%reload_ext autoreload\n",
    "%autoreload 2"
   ]
  },
  {
   "cell_type": "markdown",
   "metadata": {},
   "source": [
    "# Callback\n",
    "\n",
    "> API details."
   ]
  },
  {
   "cell_type": "code",
   "execution_count": null,
   "metadata": {},
   "outputs": [],
   "source": [
    "#hide\n",
    "from nbdev.showdoc import *"
   ]
  },
  {
   "cell_type": "code",
   "execution_count": null,
   "metadata": {},
   "outputs": [],
   "source": [
    "# export\n",
    "from pytorch_inferno.utils import to_np\n",
    "\n",
    "from typing import Optional, Callable\n",
    "from abc import ABC\n",
    "from fastcore.all import store_attr\n",
    "import math\n",
    "import numpy as np\n",
    "\n",
    "from torch import Tensor"
   ]
  },
  {
   "cell_type": "code",
   "execution_count": null,
   "metadata": {},
   "outputs": [],
   "source": [
    "# export\n",
    "class AbsCallback(ABC):\n",
    "    def __init__(self): pass\n",
    "    def set_wrapper(self, wrapper) -> None: self.wrapper = wrapper  \n",
    "    def on_train_begin(self) -> None: pass\n",
    "    def on_train_end(self) -> None: pass \n",
    "    \n",
    "    def on_epoch_begin(self) -> None: pass\n",
    "    def on_epoch_end(self) -> None:   pass\n",
    "    \n",
    "    def on_batch_begin(self) -> None: pass\n",
    "    def on_batch_end(self) -> None:   pass\n",
    "    \n",
    "    def on_forwards_end(self) -> None: pass\n",
    "    \n",
    "    def on_backwards_begin(self) -> None: pass\n",
    "    def on_backwards_end(self) -> None:   pass\n",
    "        \n",
    "    def on_pred_begin(self) -> None: pass\n",
    "    def on_pred_end(self) -> None:   pass"
   ]
  },
  {
   "cell_type": "code",
   "execution_count": null,
   "metadata": {},
   "outputs": [],
   "source": [
    "# export\n",
    "class LossTracker(AbsCallback):\n",
    "    def __init__(self): self.reset()\n",
    "    def reset(self) -> None: self.losses = {'trn':[], 'val':[]}\n",
    "    def on_train_begin(self) -> None: self.reset()\n",
    "    def on_epoch_begin(self) -> None: self.loss,self.cnt = 0,0\n",
    "        \n",
    "    def on_epoch_end(self) -> None:\n",
    "        if self.wrapper.state == 'train':\n",
    "            self.losses['trn'].append(self.loss/self.cnt)\n",
    "        else:\n",
    "            self.losses['val'].append(self.loss/self.cnt)\n",
    "            print('Train:', self.losses['trn'][-1], 'Valid:', self.losses['val'][-1])\n",
    "            \n",
    "    def on_forwards_end(self) -> None:\n",
    "        sz = len(self.wrapper.x)\n",
    "        self.loss += self.wrapper.loss_val.data.item()*sz\n",
    "        self.cnt += sz"
   ]
  },
  {
   "cell_type": "code",
   "execution_count": null,
   "metadata": {},
   "outputs": [],
   "source": [
    "# export\n",
    "class EarlyStopping(AbsCallback):\n",
    "    def __init__(self, patience:int):\n",
    "        store_attr()\n",
    "        self.reset()\n",
    "        \n",
    "    def reset(self) -> None: self.epochs,self.min_loss = 0,math.inf\n",
    "    def on_train_begin(self) -> None: self.reset()\n",
    "    def on_epoch_begin(self) -> None: self.loss,self.cnt = 0,0\n",
    "        \n",
    "    def on_forwards_end(self) -> None:\n",
    "        if self.wrapper.state == 'valid':\n",
    "            sz = len(self.wrapper.x)\n",
    "            self.loss += self.wrapper.loss_val.data.item()*sz\n",
    "            self.cnt += sz\n",
    "        \n",
    "    def on_epoch_end(self) -> None:\n",
    "        if self.wrapper.state == 'valid':\n",
    "            loss = self.loss/self.cnt\n",
    "            if loss < self.min_loss:\n",
    "                self.min_loss = loss\n",
    "                self.epochs = 0\n",
    "            else:\n",
    "                self.epochs += 1\n",
    "            if self.epochs >= self.patience:\n",
    "                print('Early stopping')\n",
    "                self.wrapper.stop = True"
   ]
  },
  {
   "cell_type": "code",
   "execution_count": null,
   "metadata": {},
   "outputs": [],
   "source": [
    "# export\n",
    "class PredHandler(AbsCallback):\n",
    "    def __init__(self):\n",
    "        store_attr()\n",
    "        self.reset()\n",
    "        \n",
    "    def reset(self) -> None: self.preds = []\n",
    "    def on_pred_begin(self) -> None: self.reset()\n",
    "    def on_pred_end(self) -> None: self.preds = np.vstack(self.preds)\n",
    "        \n",
    "    def on_forwards_end(self) -> None:\n",
    "        if self.wrapper.state == 'test': self.preds.append(to_np(self.wrapper.y_pred))\n",
    "            \n",
    "        \n",
    "    def get_preds(self) -> np.ndarray: return self.preds"
   ]
  },
  {
   "cell_type": "code",
   "execution_count": null,
   "metadata": {},
   "outputs": [],
   "source": []
  }
 ],
 "metadata": {
  "kernelspec": {
   "display_name": "Python 3",
   "language": "python",
   "name": "python3"
  }
 },
 "nbformat": 4,
 "nbformat_minor": 2
}
