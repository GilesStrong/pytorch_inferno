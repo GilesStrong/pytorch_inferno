{
 "cells": [
  {
   "cell_type": "code",
   "execution_count": null,
   "metadata": {},
   "outputs": [],
   "source": [
    "# default_exp model_wrapper"
   ]
  },
  {
   "cell_type": "code",
   "execution_count": null,
   "metadata": {},
   "outputs": [],
   "source": [
    "%matplotlib inline\n",
    "%reload_ext autoreload\n",
    "%autoreload 2"
   ]
  },
  {
   "cell_type": "markdown",
   "metadata": {},
   "source": [
    "# model wrapper\n",
    "\n",
    "> API details."
   ]
  },
  {
   "cell_type": "code",
   "execution_count": null,
   "metadata": {},
   "outputs": [],
   "source": [
    "# hide\n",
    "from nbdev.showdoc import *"
   ]
  },
  {
   "cell_type": "code",
   "execution_count": null,
   "metadata": {},
   "outputs": [],
   "source": [
    "# export\n",
    "from pytorch_inferno.callback import AbsCallback, PredHandler\n",
    "from pytorch_inferno.utils import to_device, device\n",
    "from pytorch_inferno.data import DataPair, WeightedDataLoader, DataSet\n",
    "\n",
    "from typing import Optional, Union, List, Generator, Callable\n",
    "from fastcore.all import store_attr, is_listy, typedispatch, Path\n",
    "from fastprogress import master_bar, progress_bar\n",
    "import numpy as np\n",
    "\n",
    "from torch.tensor import Tensor\n",
    "import torch\n",
    "import torch.nn as nn\n",
    "from torch import optim"
   ]
  },
  {
   "cell_type": "code",
   "execution_count": null,
   "metadata": {},
   "outputs": [],
   "source": [
    "# export\n",
    "class ModelWrapper():\n",
    "    def __init__(self, model:nn.Module, device:torch.device=device):\n",
    "        self.model,self.device = to_device(model, device),device\n",
    "        \n",
    "    def _fit_batch(self, x:Tensor, y:Tensor, w:Tensor) -> None:\n",
    "        self.x,self.y,self.w = to_device(x,self.device),to_device(y,self.device),to_device(w,self.device)\n",
    "        for c in self.cbs: c.on_batch_begin()\n",
    "        self.y_pred = self.model(self.x)\n",
    "        if self.state != 'test' and self.loss_func is not None:\n",
    "            self.loss_func.weights = self.w\n",
    "            self.loss_val = self.loss_func(self.y_pred, self.y)\n",
    "        for c in self.cbs: c.on_forwards_end()\n",
    "        if self.state != 'train': return\n",
    "\n",
    "        self.opt.zero_grad()\n",
    "        for c in self.cbs: c.on_backwards_begin()\n",
    "        self.loss_val.backward()\n",
    "        for c in self.cbs: c.on_backwards_end()\n",
    "        self.opt.step()\n",
    "        for c in self.cbs: c.on_batch_end()\n",
    "            \n",
    "    def fit(self, n_epochs:int, data:DataPair, opt:Callable[[Generator],optim.Optimizer],\n",
    "            loss:Optional[Callable[[Tensor,Tensor],Tensor]], cbs:Optional[Union[AbsCallback,List[AbsCallback]]]=None) -> None:\n",
    "        def fit_epoch(epoch:int) -> None:\n",
    "            self.model.train()\n",
    "            self.state = 'train'\n",
    "            self.epoch = epoch\n",
    "            for c in self.cbs: c.on_epoch_begin()\n",
    "            for b in progress_bar(self.data.trn_dl, parent=self.mb): self._fit_batch(*b)\n",
    "            for c in self.cbs: c.on_epoch_end()\n",
    "\n",
    "            self.model.eval()\n",
    "            self.state = 'valid'\n",
    "            for c in self.cbs: c.on_epoch_begin()\n",
    "            for b in progress_bar(self.data.val_dl, parent=self.mb): self._fit_batch(*b)\n",
    "            for c in self.cbs: c.on_epoch_end()\n",
    "            \n",
    "        if cbs is None: cbs = []\n",
    "        elif not is_listy(cbs): cbs = [cbs]\n",
    "        self.cbs,self.stop,self.n_epochs = cbs,False,n_epochs\n",
    "        self.data,self.loss_func,self.opt = data,loss,opt(self.model.parameters())\n",
    "        for c in self.cbs: c.set_wrapper(self)\n",
    "        for c in self.cbs: c.on_train_begin()\n",
    "        self.mb = master_bar(range(self.n_epochs))\n",
    "        for e in self.mb:\n",
    "            fit_epoch(e)\n",
    "            if self.stop: break\n",
    "        for c in self.cbs: c.on_train_end()\n",
    "    \n",
    "    def _predict_dl(self, x:WeightedDataLoader, pred_cb:PredHandler=PredHandler(),\n",
    "                cbs:Optional[Union[AbsCallback,List[AbsCallback]]]=None) -> np.ndarray:            \n",
    "        if cbs is None: cbs = []\n",
    "        elif not is_listy(cbs): cbs = [cbs]\n",
    "        cbs.append(pred_cb)\n",
    "        self.cbs,self.data = cbs,x\n",
    "        self.state = 'test'\n",
    "        for c in self.cbs: c.set_wrapper(self)\n",
    "        self.model.eval()\n",
    "        for c in self.cbs: c.on_pred_begin()\n",
    "        for b in progress_bar(self.data): self._fit_batch(*b)\n",
    "        for c in self.cbs: c.on_pred_end()\n",
    "        return pred_cb.get_preds()\n",
    "    \n",
    "    def _predict_array(self, x:Union[Tensor,np.ndarray], pred_cb:PredHandler=PredHandler(),\n",
    "                   cbs:Optional[Union[AbsCallback,List[AbsCallback]]]=None) -> np.ndarray:\n",
    "        return self._predict_dl(WeightedDataLoader(DataSet(x), batch_size=len(x)), pred_cb, cbs)\n",
    "    \n",
    "    def predict(self, x:Union[Tensor,np.ndarray], pred_cb:PredHandler=PredHandler(),\n",
    "                cbs:Optional[Union[AbsCallback,List[AbsCallback]]]=None) -> np.ndarray:\n",
    "        if isinstance(x, WeightedDataLoader): return self._predict_dl(x, pred_cb, cbs)\n",
    "        else:                                 return self._predict_array(x, pred_cb, cbs)\n",
    "        \n",
    "    def save(self, fname:Union[Path,str]) -> None: torch.save({'model':self.model.state_dict()}, fname)\n",
    "        \n",
    "    def load(self, fname:Union[Path,str]) -> None:\n",
    "        state = torch.load(fname, map_location='cpu')\n",
    "        self.model.load_state_dict(state['model'])\n",
    "        self.model = to_device(self.model, device)"
   ]
  },
  {
   "cell_type": "markdown",
   "metadata": {},
   "source": [
    "# Testing"
   ]
  },
  {
   "cell_type": "code",
   "execution_count": null,
   "metadata": {},
   "outputs": [],
   "source": [
    "from pytorch_inferno.callback import LossTracker, EarlyStopping\n",
    "from pytorch_inferno.data import get_paper_data\n",
    "\n",
    "from fastcore.all import partialler"
   ]
  },
  {
   "cell_type": "code",
   "execution_count": null,
   "metadata": {},
   "outputs": [],
   "source": [
    "n = 1000\n",
    "model = ModelWrapper(nn.Sequential(nn.Linear(3,50),nn.ReLU(),nn.Linear(50,1),nn.Sigmoid()))\n",
    "data, test = get_paper_data(n, bm=0, bs=64, n_test=n)"
   ]
  },
  {
   "cell_type": "code",
   "execution_count": null,
   "metadata": {},
   "outputs": [
    {
     "data": {
      "text/html": [],
      "text/plain": [
       "<IPython.core.display.HTML object>"
      ]
     },
     "metadata": {},
     "output_type": "display_data"
    },
    {
     "name": "stdout",
     "output_type": "stream",
     "text": [
      "Train: 0.7777950843175252 Valid: 0.7710541779994965\n",
      "Train: 0.739490024248759 Valid: 0.7274892117977142\n",
      "Train: 0.6959971030553181 Valid: 0.6971303887367248\n",
      "Train: 0.6743967692057292 Valid: 0.6751605319976807\n",
      "Train: 0.6553388277689616 Valid: 0.6592334063053131\n",
      "Train: 0.641307270526886 Valid: 0.6469841578006744\n",
      "Train: 0.6313625574111938 Valid: 0.6365882155895233\n",
      "Train: 0.625999140739441 Valid: 0.627690737247467\n",
      "Train: 0.6166404604911804 Valid: 0.6199122014045715\n",
      "Train: 0.6116449395815532 Valid: 0.6127951893806457\n"
     ]
    }
   ],
   "source": [
    "model.fit(10, data=data, opt=partialler(optim.SGD,lr=2e-3), loss=nn.BCELoss(),\n",
    "          cbs=[LossTracker(),EarlyStopping(5)])"
   ]
  },
  {
   "cell_type": "code",
   "execution_count": null,
   "metadata": {},
   "outputs": [
    {
     "data": {
      "text/html": [
       "\n",
       "    <div>\n",
       "        <style>\n",
       "            /* Turns off some styling */\n",
       "            progress {\n",
       "                /* gets rid of default border in Firefox and Opera. */\n",
       "                border: none;\n",
       "                /* Needs to be in here for Safari polyfill so background images work as expected. */\n",
       "                background-size: auto;\n",
       "            }\n",
       "            .progress-bar-interrupted, .progress-bar-interrupted::-webkit-progress-bar {\n",
       "                background: #F44336;\n",
       "            }\n",
       "        </style>\n",
       "      <progress value='8' class='' max='8', style='width:300px; height:20px; vertical-align: middle;'></progress>\n",
       "      100.00% [8/8 00:00<00:00]\n",
       "    </div>\n",
       "    "
      ],
      "text/plain": [
       "<IPython.core.display.HTML object>"
      ]
     },
     "metadata": {},
     "output_type": "display_data"
    }
   ],
   "source": [
    "preds = model.predict(test)"
   ]
  },
  {
   "cell_type": "code",
   "execution_count": null,
   "metadata": {},
   "outputs": [],
   "source": [
    "assert len(preds) == n"
   ]
  },
  {
   "cell_type": "code",
   "execution_count": null,
   "metadata": {},
   "outputs": [
    {
     "data": {
      "text/plain": [
       "(1000, 1)"
      ]
     },
     "execution_count": null,
     "metadata": {},
     "output_type": "execute_result"
    }
   ],
   "source": [
    "preds.shape"
   ]
  },
  {
   "cell_type": "code",
   "execution_count": null,
   "metadata": {},
   "outputs": [
    {
     "data": {
      "text/html": [
       "\n",
       "    <div>\n",
       "        <style>\n",
       "            /* Turns off some styling */\n",
       "            progress {\n",
       "                /* gets rid of default border in Firefox and Opera. */\n",
       "                border: none;\n",
       "                /* Needs to be in here for Safari polyfill so background images work as expected. */\n",
       "                background-size: auto;\n",
       "            }\n",
       "            .progress-bar-interrupted, .progress-bar-interrupted::-webkit-progress-bar {\n",
       "                background: #F44336;\n",
       "            }\n",
       "        </style>\n",
       "      <progress value='1' class='' max='1', style='width:300px; height:20px; vertical-align: middle;'></progress>\n",
       "      100.00% [1/1 00:00<00:00]\n",
       "    </div>\n",
       "    "
      ],
      "text/plain": [
       "<IPython.core.display.HTML object>"
      ]
     },
     "metadata": {},
     "output_type": "display_data"
    }
   ],
   "source": [
    "preds = model.predict(test.dataset.x)"
   ]
  },
  {
   "cell_type": "code",
   "execution_count": null,
   "metadata": {},
   "outputs": [],
   "source": [
    "assert len(preds) == n"
   ]
  },
  {
   "cell_type": "code",
   "execution_count": null,
   "metadata": {},
   "outputs": [
    {
     "data": {
      "text/plain": [
       "(1000, 1)"
      ]
     },
     "execution_count": null,
     "metadata": {},
     "output_type": "execute_result"
    }
   ],
   "source": [
    "preds.shape"
   ]
  },
  {
   "cell_type": "code",
   "execution_count": null,
   "metadata": {},
   "outputs": [],
   "source": []
  }
 ],
 "metadata": {
  "kernelspec": {
   "display_name": "Python 3",
   "language": "python",
   "name": "python3"
  }
 },
 "nbformat": 4,
 "nbformat_minor": 2
}
