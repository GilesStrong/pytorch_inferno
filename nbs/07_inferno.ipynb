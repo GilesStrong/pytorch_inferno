{
 "cells": [
  {
   "cell_type": "code",
   "execution_count": null,
   "metadata": {},
   "outputs": [],
   "source": [
    "# default_exp inferno"
   ]
  },
  {
   "cell_type": "code",
   "execution_count": null,
   "metadata": {},
   "outputs": [],
   "source": [
    "%matplotlib inline\n",
    "%reload_ext autoreload\n",
    "%autoreload 2"
   ]
  },
  {
   "cell_type": "markdown",
   "metadata": {},
   "source": [
    "# INFERNO loss\n",
    "\n",
    "> API details."
   ]
  },
  {
   "cell_type": "code",
   "execution_count": null,
   "metadata": {},
   "outputs": [],
   "source": [
    "#hide\n",
    "from nbdev.showdoc import *"
   ]
  },
  {
   "cell_type": "code",
   "execution_count": null,
   "metadata": {},
   "outputs": [],
   "source": [
    "from pytorch_inferno.model_wrapper import ModelWrapper\n",
    "from pytorch_inferno.callback import *\n",
    "from pytorch_inferno.data import get_paper_data\n",
    "from pytorch_inferno.plotting import *\n",
    "from pytorch_inferno.inference import *\n",
    "from pytorch_inferno.utils import *\n",
    "\n",
    "from fastcore.all import partialler\n",
    "import pandas as pd\n",
    "import numpy as np\n",
    "import matplotlib.pyplot as plt\n",
    "import seaborn as sns\n",
    "import itertools\n",
    "from typing import *\n",
    "from collections import OrderedDict\n",
    "from fastcore.all import store_attr\n",
    "from abc import abstractmethod\n",
    "\n",
    "import torch.nn as nn\n",
    "import torch.nn.functional as F\n",
    "from torch import optim\n",
    "import torch\n",
    "from torch import Tensor\n",
    "from torch import autograd"
   ]
  },
  {
   "cell_type": "markdown",
   "metadata": {},
   "source": [
    "# Network"
   ]
  },
  {
   "cell_type": "code",
   "execution_count": null,
   "metadata": {},
   "outputs": [],
   "source": [
    "bs = 2000\n",
    "data, test = get_paper_data(200000, bm=0, bs=bs, n_test=1000000)"
   ]
  },
  {
   "cell_type": "code",
   "execution_count": null,
   "metadata": {},
   "outputs": [],
   "source": [
    "# export\n",
    "class VariableSoftmax(nn.Softmax):\n",
    "    def __init__(self, temp:float=1, dim:int=-1):\n",
    "        super().__init__(dim=dim)\n",
    "        self.temp = temp\n",
    "        \n",
    "    def forward(self, x:Tensor) -> Tensor: return super().forward(x/self.temp)"
   ]
  },
  {
   "cell_type": "code",
   "execution_count": null,
   "metadata": {},
   "outputs": [],
   "source": [
    "x = torch.randn((1,10))"
   ]
  },
  {
   "cell_type": "code",
   "execution_count": null,
   "metadata": {},
   "outputs": [
    {
     "data": {
      "text/plain": [
       "(tensor([[1.2297e-02, 2.6723e-10, 1.0948e-06, 4.1418e-12, 1.3662e-10, 8.2205e-08,\n",
       "          3.0384e-13, 4.4118e-18, 1.7907e-08, 9.8770e-01]]),\n",
       " tensor([[2.6348e-01, 7.7296e-03, 4.0799e-02, 3.3591e-03, 6.7590e-03, 2.4309e-02,\n",
       "          1.9921e-03, 2.1464e-04, 1.7922e-02, 6.3344e-01]]),\n",
       " tensor([[0.2458, 0.0421, 0.0967, 0.0278, 0.0394, 0.0747, 0.0214, 0.0070, 0.0641,\n",
       "          0.3811]]))"
      ]
     },
     "execution_count": null,
     "metadata": {},
     "output_type": "execute_result"
    }
   ],
   "source": [
    "VariableSoftmax(0.1)(x), VariableSoftmax(0.5)(x), VariableSoftmax(1)(x)"
   ]
  },
  {
   "cell_type": "code",
   "execution_count": null,
   "metadata": {},
   "outputs": [],
   "source": [
    "net = nn.Sequential(nn.Linear(3,100),  nn.ReLU(),\n",
    "                    nn.Linear(100,100),nn.ReLU(),\n",
    "                    nn.Linear(100,10), VariableSoftmax(0.1))\n",
    "init_net(net)"
   ]
  },
  {
   "cell_type": "markdown",
   "metadata": {},
   "source": [
    "# Loss"
   ]
  },
  {
   "cell_type": "code",
   "execution_count": null,
   "metadata": {},
   "outputs": [],
   "source": [
    "x,y,w = next(iter(data.trn_dl))\n",
    "preds = net(x)\n",
    "assert preds.shape == (bs,10)"
   ]
  },
  {
   "cell_type": "code",
   "execution_count": null,
   "metadata": {},
   "outputs": [],
   "source": [
    "def to_shape(p:Tensor) -> Tensor:\n",
    "    f = p.sum(0)\n",
    "    f = f/f.sum()\n",
    "    return f"
   ]
  },
  {
   "cell_type": "code",
   "execution_count": null,
   "metadata": {},
   "outputs": [],
   "source": [
    "m = y.squeeze()==0\n",
    "f_s = to_shape(preds[~m])\n",
    "f_b = to_shape(preds[m])"
   ]
  },
  {
   "cell_type": "code",
   "execution_count": null,
   "metadata": {},
   "outputs": [
    {
     "data": {
      "text/plain": [
       "[<matplotlib.lines.Line2D at 0x7f5e2f43bdd8>]"
      ]
     },
     "execution_count": null,
     "metadata": {},
     "output_type": "execute_result"
    },
    {
     "data": {
      "image/png": "[encoded data removed]",
      "text/plain": [
       "<Figure size 432x288 with 1 Axes>"
      ]
     },
     "metadata": {},
     "output_type": "display_data"
    }
   ],
   "source": [
    "plt.plot(to_np(f_s))\n",
    "plt.plot(to_np(f_b))"
   ]
  },
  {
   "cell_type": "markdown",
   "metadata": {},
   "source": [
    "## Minimise width"
   ]
  },
  {
   "cell_type": "markdown",
   "metadata": {},
   "source": [
    "with torch.no_grad():\n",
    "    u,d = [],[]\n",
    "    b = x[m]\n",
    "    b[:,0] += 0.2\n",
    "    u.append(to_shape(net(b)))\n",
    "    b[:,0] -= 0.2\n",
    "    b[:,2] *= 3.5/3\n",
    "    u.append(to_shape(net(b)))\n",
    "    b[:,2] /= 3.5/3\n",
    "    b[:,0] -= 0.2\n",
    "    d.append(to_shape(net(b)))\n",
    "    b[:,0] += 0.2\n",
    "    b[:,2] *= 2.5/3\n",
    "    d.append(to_shape(net(b)))\n",
    "    b[:,2] /= 2.5/3\n",
    "    b_up,b_dw = torch.stack(u),torch.stack(d)"
   ]
  },
  {
   "cell_type": "markdown",
   "metadata": {},
   "source": [
    "nll,alpha = calc_profile(f_s=f_s, f_b_nom=f_b, f_b_up=b_up, f_b_dw=b_dw, verbose=False, n=1050, mu_scan=torch.linspace(20,80,61), true_mu=50)"
   ]
  },
  {
   "cell_type": "markdown",
   "metadata": {},
   "source": [
    "nll"
   ]
  },
  {
   "cell_type": "markdown",
   "metadata": {},
   "source": [
    "plot_likelihood(to_np(nll-nll[nll==nll].min()))"
   ]
  },
  {
   "cell_type": "markdown",
   "metadata": {},
   "source": [
    "nll = nll-nll[nll==nll].min()-0.5"
   ]
  },
  {
   "cell_type": "markdown",
   "metadata": {},
   "source": [
    "nll"
   ]
  },
  {
   "cell_type": "markdown",
   "metadata": {},
   "source": [
    "plot_likelihood(to_np(nll))"
   ]
  },
  {
   "cell_type": "markdown",
   "metadata": {},
   "source": [
    "nll.max()-nll.min()"
   ]
  },
  {
   "cell_type": "markdown",
   "metadata": {},
   "source": [
    "def get_diff_width(nll:Tensor, mu_scan:np.ndarray) -> Tensor:\n",
    "    def lin_root(nll0,nll1,mu0,mu1):\n",
    "        a = (nll1-nll0)/(mu1-mu0)\n",
    "        b = nll1-(a*mu1)\n",
    "        return -b/a\n",
    "    \n",
    "    u,r,last_mu,last_nll = True,torch.zeros((2)),mu_scan[0],nll[0]\n",
    "\n",
    "    for mu,l in zip(mu_scan[1:],nll[1:]):\n",
    "        if u and l < 0:\n",
    "            r[0] = lin_root(last_nll,l,last_mu,mu)\n",
    "            u = False\n",
    "        elif not u and l > 0:\n",
    "            r[1] = lin_root(last_nll,l,last_mu,mu)\n",
    "            break\n",
    "        if l == l: last_mu,last_nll = mu,l\n",
    "    return r[1]-r[0]"
   ]
  },
  {
   "cell_type": "markdown",
   "metadata": {},
   "source": [
    "w = get_diff_width(nll, mu_scan=np.linspace(20,80,61)); w"
   ]
  },
  {
   "cell_type": "markdown",
   "metadata": {},
   "source": [
    "class AbsInferno(AbsCallback):\n",
    "    def __init__(self, n:int, mu_scan:Tensor, true_mu:int, n_steps:int=100, lr:float=0.1):\n",
    "        super().__init__()\n",
    "        store_attr()\n",
    "        \n",
    "    def on_train_begin(self) -> None:\n",
    "        r'''\n",
    "        Fake loss function, callback computes loss in `on_forwards_end`\n",
    "        '''\n",
    "        self.wrapper.loss_func = lambda x,y: None\n",
    "        self.profiler = partialler(calc_profile, n=self.n, mu_scan=to_device(self.mu_scan, self.wrapper.device), true_mu=self.true_mu,\n",
    "                                   n_steps=self.n_steps, lr=self.lr, verbose=False)\n",
    "        \n",
    "    @staticmethod\n",
    "    def _to_shape(p:Tensor) -> Tensor:\n",
    "        f = p.sum(0)\n",
    "        f = f + 1e-7\n",
    "        f = f/f.sum()\n",
    "        return f\n",
    "    \n",
    "    @abstractmethod\n",
    "    def _get_up_down(self, x:Tensor) -> Tuple[Tensor,Tensor]: pass\n",
    "        \n",
    "    def _get_diff_width(self, nll:Tensor) -> Tensor:\n",
    "        def lin_root(nll0,nll1,mu0,mu1):\n",
    "            a = (nll1-nll0)/(mu1-mu0)\n",
    "            b = nll1-(a*mu1)\n",
    "            return -b/a\n",
    "\n",
    "        u,r,last_mu,last_nll = True,torch.zeros((2)),self.mu_scan[0],nll[0]\n",
    "        for mu,l in zip(self.mu_scan[1:],nll[1:]):\n",
    "            if u and l < 0:\n",
    "                r[0] = lin_root(last_nll,l,last_mu,mu)\n",
    "                u = False\n",
    "            elif not u and l > 0:\n",
    "                r[1] = lin_root(last_nll,l,last_mu,mu)\n",
    "                break\n",
    "            if l == l: last_mu,last_nll = mu,l\n",
    "        return r[1]-r[0]\n",
    "        \n",
    "    def on_forwards_end(self) -> None:\n",
    "        # Get sig. & bkg. shapes\n",
    "        b = self.wrapper.y.squeeze()==0\n",
    "        f_s = self._to_shape(self.wrapper.y_pred[~b])\n",
    "        f_b = self._to_shape(self.wrapper.y_pred[b])\n",
    "        f_b_up,f_b_dw = self._get_up_down(self.wrapper.x[b])\n",
    "        \n",
    "        # Compute nll\n",
    "        nll,_ = self.profiler(f_s=f_s, f_b_nom=f_b, f_b_up=f_b_up, f_b_dw=f_b_dw)\n",
    "        try: nll = nll-nll[nll==nll].min()-0.5\n",
    "        except RuntimeError: print(nll, self.wrapper.y_pred)\n",
    "        w = self._get_diff_width(nll)\n",
    "        print(w)\n",
    "        print(self.wrapper.model[4].weight)\n",
    "        self.wrapper.loss_val = torch.clamp_min(w, 0)"
   ]
  },
  {
   "cell_type": "markdown",
   "metadata": {},
   "source": [
    "class PaperInferno(AbsInferno):\n",
    "    def __init__(self, n:int=1050, mu_scan:Tensor=torch.linspace(20,80,61), true_mu:int=50, n_steps:int=100, lr:float=0.1):\n",
    "        super().__init__(n=n, mu_scan=mu_scan, true_mu=true_mu, n_steps=n_steps, lr=lr)\n",
    "    \n",
    "    def _get_up_down(self, x:Tensor) -> Tuple[Tensor,Tensor]:\n",
    "        with torch.no_grad():\n",
    "            u,d = [],[]\n",
    "            x[:,0] += 0.2\n",
    "            u.append(self._to_shape(self.wrapper.model(x)))\n",
    "            x[:,0] -= 0.2\n",
    "            x[:,2] *= 3.5/3\n",
    "            u.append(self._to_shape(self.wrapper.model(x)))\n",
    "            x[:,2] /= 3.5/3\n",
    "            x[:,0] -= 0.2\n",
    "            d.append(self._to_shape(self.wrapper.model(x)))\n",
    "            x[:,0] += 0.2\n",
    "            x[:,2] *= 2.5/3\n",
    "            d.append(self._to_shape(self.wrapper.model(x)))\n",
    "            x[:,2] /= 2.5/3\n",
    "            return torch.stack(u),torch.stack(d)"
   ]
  },
  {
   "cell_type": "markdown",
   "metadata": {},
   "source": [
    "net = nn.Sequential(nn.Linear(3,100),  nn.ReLU(),\n",
    "                    nn.Linear(100,100),nn.ReLU(),\n",
    "                    nn.Linear(100,10), VariableSoftmax(0.1))\n",
    "init_net(net)\n",
    "model = ModelWrapper(net)\n",
    "model.fit(200, data=data, opt=partialler(optim.SGD,lr=1e-6), loss=nn.BCELoss(),\n",
    "          cbs=[PaperInferno(),LossTracker(),EarlyStopping(5),GradClip(1e-5)])\n",
    "\n",
    "model.save('weights/Inferno_Test.h5')"
   ]
  },
  {
   "cell_type": "markdown",
   "metadata": {},
   "source": [
    "## Fisher"
   ]
  },
  {
   "cell_type": "markdown",
   "metadata": {},
   "source": [
    "### Newton opt"
   ]
  },
  {
   "cell_type": "code",
   "execution_count": null,
   "metadata": {},
   "outputs": [],
   "source": [
    "# export\n",
    "class AbsInferno(AbsCallback):\n",
    "    def __init__(self, n:int, mu_scan:Tensor, true_mu:float, n_steps:int=100, lr:float=0.1):\n",
    "        super().__init__()\n",
    "        store_attr()\n",
    "        \n",
    "    def on_train_begin(self) -> None:\n",
    "        self.wrapper.loss_func = None  # Ensure loss function is skipped, callback computes loss value in `on_forwards_end`\n",
    "        for c in self.wrapper.cbs:\n",
    "            if hasattr(c, 'loss_is_meaned'): c.loss_is_meaned = False  # Ensure that average losses are correct\n",
    "        \n",
    "    @staticmethod\n",
    "    def _to_shape(p:Tensor) -> Tensor:\n",
    "        f = p.sum(0)+1e-7\n",
    "        return f/f.sum()\n",
    "    \n",
    "    @abstractmethod\n",
    "    def _get_up_down(self, x:Tensor) -> Tuple[Tensor,Tensor]: pass\n",
    "    \n",
    "    def get_ikk(self, f_s:Tensor, f_b_nom:Tensor, f_b_up:Tensor, f_b_dw:Tensor) -> Tensor:\n",
    "        def get_ghs(nll, p):\n",
    "            g,h = calc_grad_hesse(nll, p)\n",
    "            s = torch.clamp(self.lr*g.detach()/(h+1e-7), -100, 100)\n",
    "            return g,h,s\n",
    "        \n",
    "#         alpha = torch.zeros((1,f_b_up.shape[0]), requires_grad=True, device=f_b_nom.device)\n",
    "#         mu = torch.tensor([float(self.true_mu)], requires_grad=True, device=f_b_nom.device)\n",
    "        alpha = torch.randn((1,f_b_up.shape[0]), requires_grad=True, device=f_b_nom.device)/10\n",
    "        mu = self.true_mu+torch.randn((1), requires_grad=True, device=f_b_nom.device)/10\n",
    "        get_nll = partialler(calc_nll, s_true=self.true_mu, b_true=self.n-self.true_mu,\n",
    "                             f_s=f_s, f_b_nom=f_b_nom[None,:], f_b_up=f_b_up, f_b_dw=f_b_dw)\n",
    "        for i in range(self.n_steps):  # Newton optimise nuisances & mu\n",
    "            nll = get_nll(s_exp=mu, alpha=alpha)\n",
    "#             print(i, 'nll', nll.data.item(), 'mu', mu.data.item(), 'alpha',  alpha.data)\n",
    "            g,h,s = get_ghs(nll,alpha)\n",
    "            alpha = alpha-s\n",
    "            g,h,s = get_ghs(nll,mu)\n",
    "            mu = mu-s\n",
    "#             print(i, 'mu hessian', h.data)\n",
    "        return h\n",
    "        \n",
    "    def on_forwards_end(self) -> None:\n",
    "        b = self.wrapper.y.squeeze()==0\n",
    "        f_s = self._to_shape(self.wrapper.y_pred[~b])\n",
    "        f_b = self._to_shape(self.wrapper.y_pred[b])\n",
    "        f_b_up,f_b_dw = self._get_up_down(self.wrapper.x[b])\n",
    "        self.wrapper.loss_val = 1/self.get_ikk(f_s=f_s, f_b_nom=f_b, f_b_up=f_b_up, f_b_dw=f_b_dw)"
   ]
  },
  {
   "cell_type": "code",
   "execution_count": null,
   "metadata": {},
   "outputs": [],
   "source": [
    "# export\n",
    "class PaperInferno(AbsInferno):\n",
    "    def __init__(self, r_mods:Optional[Tuple[float,float]]=(-0.2,0.2), l_mods:Optional[Tuple[float,float]]=(2.5,3.5), l_init:float=3,\n",
    "                 n:int=1050, mu_scan:Tensor=torch.linspace(20,80,61), true_mu:int=50, n_steps:int=100, lr:float=0.1):\n",
    "        super().__init__(n=n, mu_scan=mu_scan, true_mu=true_mu, n_steps=n_steps, lr=lr)\n",
    "        self.r_mods,self.l_mods,self.l_init = r_mods,l_mods,l_init\n",
    "        \n",
    "    def on_train_begin(self) -> None:\n",
    "        if self.r_mods is not None:\n",
    "            self.r_mod_t = (torch.zeros(1,3, device=self.wrapper.device),torch.zeros(1,3, device=self.wrapper.device))\n",
    "            self.r_mod_t[0][0,0] = self.r_mods[0]\n",
    "            self.r_mod_t[1][0,0] = self.r_mods[1]\n",
    "        if self.l_mods is not None:\n",
    "            self.l_mod_t = (torch.ones(1,3, device=self.wrapper.device),torch.ones(1,3, device=self.wrapper.device))\n",
    "            self.l_mod_t[0][0,2] = self.l_mods[0]/self.l_init\n",
    "            self.l_mod_t[1][0,2] = self.l_mods[1]/self.l_init\n",
    "    \n",
    "    def _get_up_down(self, x:Tensor) -> Tuple[Tensor,Tensor]:\n",
    "        u,d = [],[]\n",
    "        if self.r_mods is not None:\n",
    "            x = x+self.r_mod_t[0]\n",
    "            d.append(self._to_shape(self.wrapper.model(x)))\n",
    "            x = x+self.r_mod_t[1]-self.r_mod_t[0]\n",
    "            u.append(self._to_shape(self.wrapper.model(x)))\n",
    "            x = x-self.r_mod_t[1]\n",
    "        if self.l_mods is not None:\n",
    "            x = x*self.l_mod_t[0]\n",
    "            d.append(self._to_shape(self.wrapper.model(x)))\n",
    "            x = x*self.l_mod_t[1]/self.l_mod_t[0]\n",
    "            u.append(self._to_shape(self.wrapper.model(x)))\n",
    "            x = x/self.l_mod_t[1]\n",
    "        return torch.stack(u),torch.stack(d)"
   ]
  },
  {
   "cell_type": "markdown",
   "metadata": {},
   "source": [
    "### No opt"
   ]
  },
  {
   "cell_type": "code",
   "execution_count": null,
   "metadata": {},
   "outputs": [],
   "source": [
    "class AbsInferno(AbsCallback):\n",
    "    def __init__(self, n:int, mu_scan:Tensor, true_mu:float, n_steps:int=100, lr:float=0.1):\n",
    "        super().__init__()\n",
    "        store_attr()\n",
    "        self.true_b = self.n-self.true_mu\n",
    "        \n",
    "    def on_train_begin(self) -> None:\n",
    "        self.wrapper.loss_func = None  # Ensure loss function is skipped, callback computes loss value in `on_forwards_end`\n",
    "        for c in self.wrapper.cbs:\n",
    "            if hasattr(c, 'loss_is_meaned'): c.loss_is_meaned = False  # Ensure that average losses are correct\n",
    "        self.alpha = torch.zeros((2), requires_grad=True, device=self.wrapper.device)\n",
    "        self.mu = torch.tensor([float(self.true_mu)], requires_grad=True, device=self.wrapper.device)\n",
    "                \n",
    "    def on_batch_begin(self) -> None: self.aug_data(self.wrapper.x)\n",
    "        \n",
    "    @staticmethod\n",
    "    def _to_shape(p:Tensor) -> Tensor:\n",
    "        f = p.sum(0)+1e-7\n",
    "        return f/f.sum()\n",
    "    \n",
    "    @abstractmethod\n",
    "    def aug_data(self, x:Tensor) -> Tuple[Tensor,Tensor]: pass\n",
    "    \n",
    "    def get_inv_ikk(self, f_s:Tensor, f_b:Tensor) -> Tensor:\n",
    "        t_exp = (self.mu*f_s)+(self.true_b*f_b)\n",
    "        asimov = t_exp.detach()\n",
    "        p = torch.distributions.Poisson(t_exp)\n",
    "        nll = -p.log_prob(asimov).sum()\n",
    "        _, h_mu = calc_grad_hesse(nll, self.mu)\n",
    "        _, h_a = calc_grad_hesse(nll, self.alpha)\n",
    "        print('h_mu', h_mu.data, 'h_a', h_a.data)\n",
    "        h = torch.cat((h_mu,h_a), 0)\n",
    "        print('h_cat', h.data)\n",
    "        h = torch.diag_embed(h)\n",
    "        print('diag h', h.data)\n",
    "        i = torch.inverse(h)\n",
    "        print('inv_h', i.data, 'ikk', i[0,0], 'ihmu', 1/h_mu)\n",
    "        return i[0,0]\n",
    "        \n",
    "    def on_forwards_end(self) -> None:\n",
    "        b = self.wrapper.y.squeeze()==0\n",
    "        f_s = self._to_shape(self.wrapper.y_pred[~b])\n",
    "        f_b = self._to_shape(self.wrapper.y_pred[b])\n",
    "        self.wrapper.loss_val = self.get_inv_ikk(f_s=f_s, f_b=f_b)"
   ]
  },
  {
   "cell_type": "code",
   "execution_count": null,
   "metadata": {},
   "outputs": [],
   "source": [
    "class PaperInferno(AbsInferno):\n",
    "    def __init__(self,\n",
    "                 n:int=1050, mu_scan:Tensor=torch.linspace(20,80,61), true_mu:int=50, n_steps:int=100, lr:float=0.1):\n",
    "        super().__init__(n=n, mu_scan=mu_scan, true_mu=true_mu, n_steps=n_steps, lr=lr)\n",
    "        \n",
    "    def aug_data(self, x:Tensor) -> Tuple[Tensor,Tensor]:\n",
    "        x[:,0] += self.alpha[0]\n",
    "        x[:,2] *= self.alpha[1]/3"
   ]
  },
  {
   "cell_type": "markdown",
   "metadata": {},
   "source": [
    "# Test"
   ]
  },
  {
   "cell_type": "code",
   "execution_count": null,
   "metadata": {},
   "outputs": [
    {
     "data": {
      "text/html": [
       "\n",
       "    <div>\n",
       "        <style>\n",
       "            /* Turns off some styling */\n",
       "            progress {\n",
       "                /* gets rid of default border in Firefox and Opera. */\n",
       "                border: none;\n",
       "                /* Needs to be in here for Safari polyfill so background images work as expected. */\n",
       "                background-size: auto;\n",
       "            }\n",
       "            .progress-bar-interrupted, .progress-bar-interrupted::-webkit-progress-bar {\n",
       "                background: #F44336;\n",
       "            }\n",
       "        </style>\n",
       "      <progress value='0' class='' max='200', style='width:300px; height:20px; vertical-align: middle;'></progress>\n",
       "      0.00% [0/200 00:00<00:00]\n",
       "    </div>\n",
       "    \n",
       "\n",
       "\n",
       "    <div>\n",
       "        <style>\n",
       "            /* Turns off some styling */\n",
       "            progress {\n",
       "                /* gets rid of default border in Firefox and Opera. */\n",
       "                border: none;\n",
       "                /* Needs to be in here for Safari polyfill so background images work as expected. */\n",
       "                background-size: auto;\n",
       "            }\n",
       "            .progress-bar-interrupted, .progress-bar-interrupted::-webkit-progress-bar {\n",
       "                background: #F44336;\n",
       "            }\n",
       "        </style>\n",
       "      <progress value='0' class='progress-bar-interrupted' max='100', style='width:300px; height:20px; vertical-align: middle;'></progress>\n",
       "      Interrupted\n",
       "    </div>\n",
       "    "
      ],
      "text/plain": [
       "<IPython.core.display.HTML object>"
      ]
     },
     "metadata": {},
     "output_type": "display_data"
    },
    {
     "name": "stdout",
     "output_type": "stream",
     "text": [
      "h_mu tensor([0.0017], device='cuda:0') h_a tensor([107.9590,  37.5149], device='cuda:0')\n",
      "h_cat tensor([1.7017e-03, 1.0796e+02, 3.7515e+01], device='cuda:0')\n",
      "diag h tensor([[1.7017e-03, 0.0000e+00, 0.0000e+00],\n",
      "        [0.0000e+00, 1.0796e+02, 0.0000e+00],\n",
      "        [0.0000e+00, 0.0000e+00, 3.7515e+01]], device='cuda:0')\n",
      "inv_h tensor([[5.8764e+02, 0.0000e+00, 0.0000e+00],\n",
      "        [0.0000e+00, 9.2628e-03, 0.0000e+00],\n",
      "        [0.0000e+00, 0.0000e+00, 2.6656e-02]], device='cuda:0') ikk tensor(587.6398, device='cuda:0', grad_fn=<SelectBackward>) ihmu tensor([587.6398], device='cuda:0', grad_fn=<MulBackward0>)\n",
      "h_mu tensor([0.0015], device='cuda:0') h_a tensor([109.8333,  26.9793], device='cuda:0')\n",
      "h_cat tensor([1.4759e-03, 1.0983e+02, 2.6979e+01], device='cuda:0')\n",
      "diag h tensor([[1.4759e-03, 0.0000e+00, 0.0000e+00],\n",
      "        [0.0000e+00, 1.0983e+02, 0.0000e+00],\n",
      "        [0.0000e+00, 0.0000e+00, 2.6979e+01]], device='cuda:0')\n",
      "inv_h tensor([[6.7756e+02, 0.0000e+00, 0.0000e+00],\n",
      "        [0.0000e+00, 9.1047e-03, 0.0000e+00],\n",
      "        [0.0000e+00, 0.0000e+00, 3.7065e-02]], device='cuda:0') ikk tensor(677.5599, device='cuda:0', grad_fn=<SelectBackward>) ihmu tensor([677.5599], device='cuda:0', grad_fn=<MulBackward0>)\n",
      "h_mu tensor([0.0016], device='cuda:0') h_a tensor([132.6998,  43.3095], device='cuda:0')\n",
      "h_cat tensor([1.6299e-03, 1.3270e+02, 4.3309e+01], device='cuda:0')\n",
      "diag h tensor([[1.6299e-03, 0.0000e+00, 0.0000e+00],\n",
      "        [0.0000e+00, 1.3270e+02, 0.0000e+00],\n",
      "        [0.0000e+00, 0.0000e+00, 4.3309e+01]], device='cuda:0')\n",
      "inv_h tensor([[6.1354e+02, 0.0000e+00, 0.0000e+00],\n",
      "        [0.0000e+00, 7.5358e-03, 0.0000e+00],\n",
      "        [0.0000e+00, 0.0000e+00, 2.3090e-02]], device='cuda:0') ikk tensor(613.5361, device='cuda:0', grad_fn=<SelectBackward>) ihmu tensor([613.5361], device='cuda:0', grad_fn=<MulBackward0>)\n",
      "h_mu tensor([0.0016], device='cuda:0') h_a tensor([146.9184,  24.4911], device='cuda:0')\n",
      "h_cat tensor([1.5978e-03, 1.4692e+02, 2.4491e+01], device='cuda:0')\n",
      "diag h tensor([[1.5978e-03, 0.0000e+00, 0.0000e+00],\n",
      "        [0.0000e+00, 1.4692e+02, 0.0000e+00],\n",
      "        [0.0000e+00, 0.0000e+00, 2.4491e+01]], device='cuda:0')\n",
      "inv_h tensor([[6.2588e+02, 0.0000e+00, 0.0000e+00],\n",
      "        [0.0000e+00, 6.8065e-03, 0.0000e+00],\n",
      "        [0.0000e+00, 0.0000e+00, 4.0831e-02]], device='cuda:0') ikk tensor(625.8798, device='cuda:0', grad_fn=<SelectBackward>) ihmu tensor([625.8798], device='cuda:0', grad_fn=<MulBackward0>)\n",
      "h_mu tensor([0.0015], device='cuda:0') h_a tensor([148.1882,  16.3695], device='cuda:0')\n",
      "h_cat tensor([1.5060e-03, 1.4819e+02, 1.6369e+01], device='cuda:0')\n",
      "diag h tensor([[1.5060e-03, 0.0000e+00, 0.0000e+00],\n",
      "        [0.0000e+00, 1.4819e+02, 0.0000e+00],\n",
      "        [0.0000e+00, 0.0000e+00, 1.6369e+01]], device='cuda:0')\n",
      "inv_h tensor([[6.6399e+02, 0.0000e+00, 0.0000e+00],\n",
      "        [0.0000e+00, 6.7482e-03, 0.0000e+00],\n",
      "        [0.0000e+00, 0.0000e+00, 6.1089e-02]], device='cuda:0') ikk tensor(663.9932, device='cuda:0', grad_fn=<SelectBackward>) ihmu tensor([663.9932], device='cuda:0', grad_fn=<MulBackward0>)\n",
      "h_mu tensor([0.0016], device='cuda:0') h_a tensor([104.8707,  26.6360], device='cuda:0')\n",
      "h_cat tensor([1.5711e-03, 1.0487e+02, 2.6636e+01], device='cuda:0')\n",
      "diag h tensor([[1.5711e-03, 0.0000e+00, 0.0000e+00],\n",
      "        [0.0000e+00, 1.0487e+02, 0.0000e+00],\n",
      "        [0.0000e+00, 0.0000e+00, 2.6636e+01]], device='cuda:0')\n",
      "inv_h tensor([[6.3652e+02, 0.0000e+00, 0.0000e+00],\n",
      "        [0.0000e+00, 9.5356e-03, 0.0000e+00],\n",
      "        [0.0000e+00, 0.0000e+00, 3.7543e-02]], device='cuda:0') ikk tensor(636.5158, device='cuda:0', grad_fn=<SelectBackward>) ihmu tensor([636.5158], device='cuda:0', grad_fn=<MulBackward0>)\n",
      "h_mu tensor([0.0016], device='cuda:0') h_a tensor([149.8979,  32.1690], device='cuda:0')\n",
      "h_cat tensor([1.6226e-03, 1.4990e+02, 3.2169e+01], device='cuda:0')\n",
      "diag h tensor([[1.6226e-03, 0.0000e+00, 0.0000e+00],\n",
      "        [0.0000e+00, 1.4990e+02, 0.0000e+00],\n",
      "        [0.0000e+00, 0.0000e+00, 3.2169e+01]], device='cuda:0')\n",
      "inv_h tensor([[6.1629e+02, 0.0000e+00, 0.0000e+00],\n",
      "        [0.0000e+00, 6.6712e-03, 0.0000e+00],\n",
      "        [0.0000e+00, 0.0000e+00, 3.1086e-02]], device='cuda:0') ikk tensor(616.2943, device='cuda:0', grad_fn=<SelectBackward>) ihmu tensor([616.2943], device='cuda:0', grad_fn=<MulBackward0>)\n",
      "h_mu tensor([0.0016], device='cuda:0') h_a tensor([131.7966,  50.7256], device='cuda:0')\n",
      "h_cat tensor([1.6193e-03, 1.3180e+02, 5.0726e+01], device='cuda:0')\n",
      "diag h tensor([[1.6193e-03, 0.0000e+00, 0.0000e+00],\n",
      "        [0.0000e+00, 1.3180e+02, 0.0000e+00],\n",
      "        [0.0000e+00, 0.0000e+00, 5.0726e+01]], device='cuda:0')\n",
      "inv_h tensor([[6.1757e+02, 0.0000e+00, 0.0000e+00],\n",
      "        [0.0000e+00, 7.5875e-03, 0.0000e+00],\n",
      "        [0.0000e+00, 0.0000e+00, 1.9714e-02]], device='cuda:0') ikk tensor(617.5696, device='cuda:0', grad_fn=<SelectBackward>) ihmu tensor([617.5696], device='cuda:0', grad_fn=<MulBackward0>)\n",
      "h_mu tensor([0.0016], device='cuda:0') h_a tensor([132.6169,  23.2484], device='cuda:0')\n",
      "h_cat tensor([1.6234e-03, 1.3262e+02, 2.3248e+01], device='cuda:0')\n",
      "diag h tensor([[1.6234e-03, 0.0000e+00, 0.0000e+00],\n",
      "        [0.0000e+00, 1.3262e+02, 0.0000e+00],\n",
      "        [0.0000e+00, 0.0000e+00, 2.3248e+01]], device='cuda:0')\n",
      "inv_h tensor([[6.1600e+02, 0.0000e+00, 0.0000e+00],\n",
      "        [0.0000e+00, 7.5405e-03, 0.0000e+00],\n",
      "        [0.0000e+00, 0.0000e+00, 4.3014e-02]], device='cuda:0') ikk tensor(615.9979, device='cuda:0', grad_fn=<SelectBackward>) ihmu tensor([615.9979], device='cuda:0', grad_fn=<MulBackward0>)\n",
      "h_mu tensor([0.0016], device='cuda:0') h_a tensor([151.8335,  24.9131], device='cuda:0')\n",
      "h_cat tensor([1.5711e-03, 1.5183e+02, 2.4913e+01], device='cuda:0')\n",
      "diag h tensor([[1.5711e-03, 0.0000e+00, 0.0000e+00],\n",
      "        [0.0000e+00, 1.5183e+02, 0.0000e+00],\n",
      "        [0.0000e+00, 0.0000e+00, 2.4913e+01]], device='cuda:0')\n",
      "inv_h tensor([[6.3651e+02, 0.0000e+00, 0.0000e+00],\n",
      "        [0.0000e+00, 6.5862e-03, 0.0000e+00],\n",
      "        [0.0000e+00, 0.0000e+00, 4.0139e-02]], device='cuda:0') ikk tensor(636.5063, device='cuda:0', grad_fn=<SelectBackward>) ihmu tensor([636.5063], device='cuda:0', grad_fn=<MulBackward0>)\n",
      "h_mu tensor([0.0016], device='cuda:0') h_a tensor([118.6496,  38.5966], device='cuda:0')\n",
      "h_cat tensor([1.5879e-03, 1.1865e+02, 3.8597e+01], device='cuda:0')\n",
      "diag h tensor([[1.5879e-03, 0.0000e+00, 0.0000e+00],\n",
      "        [0.0000e+00, 1.1865e+02, 0.0000e+00],\n",
      "        [0.0000e+00, 0.0000e+00, 3.8597e+01]], device='cuda:0')\n",
      "inv_h tensor([[6.2978e+02, 0.0000e+00, 0.0000e+00],\n",
      "        [0.0000e+00, 8.4282e-03, 0.0000e+00],\n",
      "        [0.0000e+00, 0.0000e+00, 2.5909e-02]], device='cuda:0') ikk tensor(629.7758, device='cuda:0', grad_fn=<SelectBackward>) ihmu tensor([629.7758], device='cuda:0', grad_fn=<MulBackward0>)\n",
      "h_mu tensor([0.0016], device='cuda:0') h_a tensor([114.9637,  18.8426], device='cuda:0')\n",
      "h_cat tensor([1.6171e-03, 1.1496e+02, 1.8843e+01], device='cuda:0')\n",
      "diag h tensor([[1.6171e-03, 0.0000e+00, 0.0000e+00],\n",
      "        [0.0000e+00, 1.1496e+02, 0.0000e+00],\n",
      "        [0.0000e+00, 0.0000e+00, 1.8843e+01]], device='cuda:0')\n",
      "inv_h tensor([[6.1840e+02, 0.0000e+00, 0.0000e+00],\n",
      "        [0.0000e+00, 8.6984e-03, 0.0000e+00],\n",
      "        [0.0000e+00, 0.0000e+00, 5.3071e-02]], device='cuda:0') ikk tensor(618.3962, device='cuda:0', grad_fn=<SelectBackward>) ihmu tensor([618.3962], device='cuda:0', grad_fn=<MulBackward0>)\n",
      "h_mu tensor([0.0016], device='cuda:0') h_a tensor([115.3428,  25.2270], device='cuda:0')\n",
      "h_cat tensor([1.5714e-03, 1.1534e+02, 2.5227e+01], device='cuda:0')\n",
      "diag h tensor([[1.5714e-03, 0.0000e+00, 0.0000e+00],\n",
      "        [0.0000e+00, 1.1534e+02, 0.0000e+00],\n",
      "        [0.0000e+00, 0.0000e+00, 2.5227e+01]], device='cuda:0')\n",
      "inv_h tensor([[6.3639e+02, 0.0000e+00, 0.0000e+00],\n",
      "        [0.0000e+00, 8.6698e-03, 0.0000e+00],\n",
      "        [0.0000e+00, 0.0000e+00, 3.9640e-02]], device='cuda:0') ikk tensor(636.3929, device='cuda:0', grad_fn=<SelectBackward>) ihmu tensor([636.3929], device='cuda:0', grad_fn=<MulBackward0>)\n",
      "h_mu tensor([0.0015], device='cuda:0') h_a tensor([119.5640,  24.2074], device='cuda:0')\n",
      "h_cat tensor([1.5200e-03, 1.1956e+02, 2.4207e+01], device='cuda:0')\n",
      "diag h tensor([[1.5200e-03, 0.0000e+00, 0.0000e+00],\n",
      "        [0.0000e+00, 1.1956e+02, 0.0000e+00],\n",
      "        [0.0000e+00, 0.0000e+00, 2.4207e+01]], device='cuda:0')\n"
     ]
    },
    {
     "name": "stdout",
     "output_type": "stream",
     "text": [
      "inv_h tensor([[6.5790e+02, 0.0000e+00, 0.0000e+00],\n",
      "        [0.0000e+00, 8.3637e-03, 0.0000e+00],\n",
      "        [0.0000e+00, 0.0000e+00, 4.1310e-02]], device='cuda:0') ikk tensor(657.9039, device='cuda:0', grad_fn=<SelectBackward>) ihmu tensor([657.9039], device='cuda:0', grad_fn=<MulBackward0>)\n",
      "h_mu tensor([0.0016], device='cuda:0') h_a tensor([133.8674,  35.2874], device='cuda:0')\n",
      "h_cat tensor([1.6384e-03, 1.3387e+02, 3.5287e+01], device='cuda:0')\n",
      "diag h tensor([[1.6384e-03, 0.0000e+00, 0.0000e+00],\n",
      "        [0.0000e+00, 1.3387e+02, 0.0000e+00],\n",
      "        [0.0000e+00, 0.0000e+00, 3.5287e+01]], device='cuda:0')\n",
      "inv_h tensor([[6.1035e+02, 0.0000e+00, 0.0000e+00],\n",
      "        [0.0000e+00, 7.4701e-03, 0.0000e+00],\n",
      "        [0.0000e+00, 0.0000e+00, 2.8339e-02]], device='cuda:0') ikk tensor(610.3488, device='cuda:0', grad_fn=<SelectBackward>) ihmu tensor([610.3488], device='cuda:0', grad_fn=<MulBackward0>)\n",
      "h_mu tensor([0.0016], device='cuda:0') h_a tensor([128.9610,  38.8268], device='cuda:0')\n",
      "h_cat tensor([1.5757e-03, 1.2896e+02, 3.8827e+01], device='cuda:0')\n",
      "diag h tensor([[1.5757e-03, 0.0000e+00, 0.0000e+00],\n",
      "        [0.0000e+00, 1.2896e+02, 0.0000e+00],\n",
      "        [0.0000e+00, 0.0000e+00, 3.8827e+01]], device='cuda:0')\n",
      "inv_h tensor([[6.3465e+02, 0.0000e+00, 0.0000e+00],\n",
      "        [0.0000e+00, 7.7543e-03, 0.0000e+00],\n",
      "        [0.0000e+00, 0.0000e+00, 2.5755e-02]], device='cuda:0') ikk tensor(634.6495, device='cuda:0', grad_fn=<SelectBackward>) ihmu tensor([634.6495], device='cuda:0', grad_fn=<MulBackward0>)\n",
      "h_mu tensor([0.0017], device='cuda:0') h_a tensor([122.3185,  19.2161], device='cuda:0')\n",
      "h_cat tensor([1.6797e-03, 1.2232e+02, 1.9216e+01], device='cuda:0')\n",
      "diag h tensor([[1.6797e-03, 0.0000e+00, 0.0000e+00],\n",
      "        [0.0000e+00, 1.2232e+02, 0.0000e+00],\n",
      "        [0.0000e+00, 0.0000e+00, 1.9216e+01]], device='cuda:0')\n",
      "inv_h tensor([[5.9535e+02, 0.0000e+00, 0.0000e+00],\n",
      "        [0.0000e+00, 8.1754e-03, 0.0000e+00],\n",
      "        [0.0000e+00, 0.0000e+00, 5.2040e-02]], device='cuda:0') ikk tensor(595.3534, device='cuda:0', grad_fn=<SelectBackward>) ihmu tensor([595.3534], device='cuda:0', grad_fn=<MulBackward0>)\n",
      "h_mu tensor([0.0016], device='cuda:0') h_a tensor([118.6877,  13.3646], device='cuda:0')\n",
      "h_cat tensor([1.6135e-03, 1.1869e+02, 1.3365e+01], device='cuda:0')\n",
      "diag h tensor([[1.6135e-03, 0.0000e+00, 0.0000e+00],\n",
      "        [0.0000e+00, 1.1869e+02, 0.0000e+00],\n",
      "        [0.0000e+00, 0.0000e+00, 1.3365e+01]], device='cuda:0')\n",
      "inv_h tensor([[6.1978e+02, 0.0000e+00, 0.0000e+00],\n",
      "        [0.0000e+00, 8.4255e-03, 0.0000e+00],\n",
      "        [0.0000e+00, 0.0000e+00, 7.4824e-02]], device='cuda:0') ikk tensor(619.7827, device='cuda:0', grad_fn=<SelectBackward>) ihmu tensor([619.7827], device='cuda:0', grad_fn=<MulBackward0>)\n",
      "h_mu tensor([0.0015], device='cuda:0') h_a tensor([112.7764,  23.5713], device='cuda:0')\n",
      "h_cat tensor([1.4811e-03, 1.1278e+02, 2.3571e+01], device='cuda:0')\n",
      "diag h tensor([[1.4811e-03, 0.0000e+00, 0.0000e+00],\n",
      "        [0.0000e+00, 1.1278e+02, 0.0000e+00],\n",
      "        [0.0000e+00, 0.0000e+00, 2.3571e+01]], device='cuda:0')\n",
      "inv_h tensor([[6.7519e+02, 0.0000e+00, 0.0000e+00],\n",
      "        [0.0000e+00, 8.8671e-03, 0.0000e+00],\n",
      "        [0.0000e+00, 0.0000e+00, 4.2425e-02]], device='cuda:0') ikk tensor(675.1942, device='cuda:0', grad_fn=<SelectBackward>) ihmu tensor([675.1942], device='cuda:0', grad_fn=<MulBackward0>)\n",
      "h_mu tensor([0.0016], device='cuda:0') h_a tensor([125.8978,  20.0154], device='cuda:0')\n",
      "h_cat tensor([1.5555e-03, 1.2590e+02, 2.0015e+01], device='cuda:0')\n",
      "diag h tensor([[1.5555e-03, 0.0000e+00, 0.0000e+00],\n",
      "        [0.0000e+00, 1.2590e+02, 0.0000e+00],\n",
      "        [0.0000e+00, 0.0000e+00, 2.0015e+01]], device='cuda:0')\n",
      "inv_h tensor([[6.4290e+02, 0.0000e+00, 0.0000e+00],\n",
      "        [0.0000e+00, 7.9430e-03, 0.0000e+00],\n",
      "        [0.0000e+00, 0.0000e+00, 4.9961e-02]], device='cuda:0') ikk tensor(642.8989, device='cuda:0', grad_fn=<SelectBackward>) ihmu tensor([642.8989], device='cuda:0', grad_fn=<MulBackward0>)\n",
      "h_mu tensor([0.0017], device='cuda:0') h_a tensor([104.7980,   5.5744], device='cuda:0')\n",
      "h_cat tensor([1.6663e-03, 1.0480e+02, 5.5744e+00], device='cuda:0')\n",
      "diag h tensor([[1.6663e-03, 0.0000e+00, 0.0000e+00],\n",
      "        [0.0000e+00, 1.0480e+02, 0.0000e+00],\n",
      "        [0.0000e+00, 0.0000e+00, 5.5744e+00]], device='cuda:0')\n",
      "inv_h tensor([[6.0013e+02, 0.0000e+00, 0.0000e+00],\n",
      "        [0.0000e+00, 9.5422e-03, 0.0000e+00],\n",
      "        [0.0000e+00, 0.0000e+00, 1.7939e-01]], device='cuda:0') ikk tensor(600.1255, device='cuda:0', grad_fn=<SelectBackward>) ihmu tensor([600.1255], device='cuda:0', grad_fn=<MulBackward0>)\n",
      "h_mu tensor([0.0016], device='cuda:0') h_a tensor([141.8562,  36.4243], device='cuda:0')\n",
      "h_cat tensor([1.6420e-03, 1.4186e+02, 3.6424e+01], device='cuda:0')\n",
      "diag h tensor([[1.6420e-03, 0.0000e+00, 0.0000e+00],\n",
      "        [0.0000e+00, 1.4186e+02, 0.0000e+00],\n",
      "        [0.0000e+00, 0.0000e+00, 3.6424e+01]], device='cuda:0')\n",
      "inv_h tensor([[6.0902e+02, 0.0000e+00, 0.0000e+00],\n",
      "        [0.0000e+00, 7.0494e-03, 0.0000e+00],\n",
      "        [0.0000e+00, 0.0000e+00, 2.7454e-02]], device='cuda:0') ikk tensor(609.0242, device='cuda:0', grad_fn=<SelectBackward>) ihmu tensor([609.0242], device='cuda:0', grad_fn=<MulBackward0>)\n",
      "h_mu tensor([0.0016], device='cuda:0') h_a tensor([126.6189,  31.2804], device='cuda:0')\n",
      "h_cat tensor([1.5803e-03, 1.2662e+02, 3.1280e+01], device='cuda:0')\n",
      "diag h tensor([[1.5803e-03, 0.0000e+00, 0.0000e+00],\n",
      "        [0.0000e+00, 1.2662e+02, 0.0000e+00],\n",
      "        [0.0000e+00, 0.0000e+00, 3.1280e+01]], device='cuda:0')\n",
      "inv_h tensor([[6.3278e+02, 0.0000e+00, 0.0000e+00],\n",
      "        [0.0000e+00, 7.8977e-03, 0.0000e+00],\n",
      "        [0.0000e+00, 0.0000e+00, 3.1969e-02]], device='cuda:0') ikk tensor(632.7831, device='cuda:0', grad_fn=<SelectBackward>) ihmu tensor([632.7831], device='cuda:0', grad_fn=<MulBackward0>)\n",
      "h_mu tensor([0.0016], device='cuda:0') h_a tensor([161.6338,  29.3014], device='cuda:0')\n",
      "h_cat tensor([1.5786e-03, 1.6163e+02, 2.9301e+01], device='cuda:0')\n",
      "diag h tensor([[1.5786e-03, 0.0000e+00, 0.0000e+00],\n",
      "        [0.0000e+00, 1.6163e+02, 0.0000e+00],\n",
      "        [0.0000e+00, 0.0000e+00, 2.9301e+01]], device='cuda:0')\n",
      "inv_h tensor([[6.3349e+02, 0.0000e+00, 0.0000e+00],\n",
      "        [0.0000e+00, 6.1868e-03, 0.0000e+00],\n",
      "        [0.0000e+00, 0.0000e+00, 3.4128e-02]], device='cuda:0') ikk tensor(633.4861, device='cuda:0', grad_fn=<SelectBackward>) ihmu tensor([633.4861], device='cuda:0', grad_fn=<MulBackward0>)\n",
      "h_mu tensor([0.0017], device='cuda:0') h_a tensor([91.5842, 41.8835], device='cuda:0')\n",
      "h_cat tensor([1.6932e-03, 9.1584e+01, 4.1883e+01], device='cuda:0')\n",
      "diag h tensor([[1.6932e-03, 0.0000e+00, 0.0000e+00],\n",
      "        [0.0000e+00, 9.1584e+01, 0.0000e+00],\n",
      "        [0.0000e+00, 0.0000e+00, 4.1883e+01]], device='cuda:0')\n",
      "inv_h tensor([[5.9060e+02, 0.0000e+00, 0.0000e+00],\n",
      "        [0.0000e+00, 1.0919e-02, 0.0000e+00],\n",
      "        [0.0000e+00, 0.0000e+00, 2.3876e-02]], device='cuda:0') ikk tensor(590.6022, device='cuda:0', grad_fn=<SelectBackward>) ihmu tensor([590.6022], device='cuda:0', grad_fn=<MulBackward0>)\n",
      "h_mu tensor([0.0016], device='cuda:0') h_a tensor([133.8407,  35.2164], device='cuda:0')\n",
      "h_cat tensor([1.6357e-03, 1.3384e+02, 3.5216e+01], device='cuda:0')\n",
      "diag h tensor([[1.6357e-03, 0.0000e+00, 0.0000e+00],\n",
      "        [0.0000e+00, 1.3384e+02, 0.0000e+00],\n",
      "        [0.0000e+00, 0.0000e+00, 3.5216e+01]], device='cuda:0')\n",
      "inv_h tensor([[6.1137e+02, 0.0000e+00, 0.0000e+00],\n",
      "        [0.0000e+00, 7.4716e-03, 0.0000e+00],\n",
      "        [0.0000e+00, 0.0000e+00, 2.8396e-02]], device='cuda:0') ikk tensor(611.3654, device='cuda:0', grad_fn=<SelectBackward>) ihmu tensor([611.3654], device='cuda:0', grad_fn=<MulBackward0>)\n",
      "h_mu tensor([0.0016], device='cuda:0') h_a tensor([142.0664,  24.0378], device='cuda:0')\n",
      "h_cat tensor([1.5674e-03, 1.4207e+02, 2.4038e+01], device='cuda:0')\n",
      "diag h tensor([[1.5674e-03, 0.0000e+00, 0.0000e+00],\n",
      "        [0.0000e+00, 1.4207e+02, 0.0000e+00],\n",
      "        [0.0000e+00, 0.0000e+00, 2.4038e+01]], device='cuda:0')\n",
      "inv_h tensor([[6.3800e+02, 0.0000e+00, 0.0000e+00],\n",
      "        [0.0000e+00, 7.0390e-03, 0.0000e+00],\n",
      "        [0.0000e+00, 0.0000e+00, 4.1601e-02]], device='cuda:0') ikk tensor(638.0042, device='cuda:0', grad_fn=<SelectBackward>) ihmu tensor([638.0042], device='cuda:0', grad_fn=<MulBackward0>)\n"
     ]
    },
    {
     "name": "stdout",
     "output_type": "stream",
     "text": [
      "h_mu tensor([0.0015], device='cuda:0') h_a tensor([132.2560,  21.5898], device='cuda:0')\n",
      "h_cat tensor([1.4825e-03, 1.3226e+02, 2.1590e+01], device='cuda:0')\n",
      "diag h tensor([[1.4825e-03, 0.0000e+00, 0.0000e+00],\n",
      "        [0.0000e+00, 1.3226e+02, 0.0000e+00],\n",
      "        [0.0000e+00, 0.0000e+00, 2.1590e+01]], device='cuda:0')\n",
      "inv_h tensor([[6.7455e+02, 0.0000e+00, 0.0000e+00],\n",
      "        [0.0000e+00, 7.5611e-03, 0.0000e+00],\n",
      "        [0.0000e+00, 0.0000e+00, 4.6318e-02]], device='cuda:0') ikk tensor(674.5451, device='cuda:0', grad_fn=<SelectBackward>) ihmu tensor([674.5451], device='cuda:0', grad_fn=<MulBackward0>)\n",
      "h_mu tensor([0.0016], device='cuda:0') h_a tensor([145.6692,  16.8317], device='cuda:0')\n",
      "h_cat tensor([1.6080e-03, 1.4567e+02, 1.6832e+01], device='cuda:0')\n",
      "diag h tensor([[1.6080e-03, 0.0000e+00, 0.0000e+00],\n",
      "        [0.0000e+00, 1.4567e+02, 0.0000e+00],\n",
      "        [0.0000e+00, 0.0000e+00, 1.6832e+01]], device='cuda:0')\n",
      "inv_h tensor([[6.2190e+02, 0.0000e+00, 0.0000e+00],\n",
      "        [0.0000e+00, 6.8649e-03, 0.0000e+00],\n",
      "        [0.0000e+00, 0.0000e+00, 5.9412e-02]], device='cuda:0') ikk tensor(621.9009, device='cuda:0', grad_fn=<SelectBackward>) ihmu tensor([621.9009], device='cuda:0', grad_fn=<MulBackward0>)\n",
      "h_mu tensor([0.0015], device='cuda:0') h_a tensor([132.9989,  11.4314], device='cuda:0')\n",
      "h_cat tensor([1.4758e-03, 1.3300e+02, 1.1431e+01], device='cuda:0')\n",
      "diag h tensor([[1.4758e-03, 0.0000e+00, 0.0000e+00],\n",
      "        [0.0000e+00, 1.3300e+02, 0.0000e+00],\n",
      "        [0.0000e+00, 0.0000e+00, 1.1431e+01]], device='cuda:0')\n",
      "inv_h tensor([[6.7761e+02, 0.0000e+00, 0.0000e+00],\n",
      "        [0.0000e+00, 7.5189e-03, 0.0000e+00],\n",
      "        [0.0000e+00, 0.0000e+00, 8.7478e-02]], device='cuda:0') ikk tensor(677.6112, device='cuda:0', grad_fn=<SelectBackward>) ihmu tensor([677.6112], device='cuda:0', grad_fn=<MulBackward0>)\n",
      "h_mu tensor([0.0017], device='cuda:0') h_a tensor([154.6973,  37.1592], device='cuda:0')\n",
      "h_cat tensor([1.6783e-03, 1.5470e+02, 3.7159e+01], device='cuda:0')\n",
      "diag h tensor([[1.6783e-03, 0.0000e+00, 0.0000e+00],\n",
      "        [0.0000e+00, 1.5470e+02, 0.0000e+00],\n",
      "        [0.0000e+00, 0.0000e+00, 3.7159e+01]], device='cuda:0')\n",
      "inv_h tensor([[5.9582e+02, 0.0000e+00, 0.0000e+00],\n",
      "        [0.0000e+00, 6.4642e-03, 0.0000e+00],\n",
      "        [0.0000e+00, 0.0000e+00, 2.6911e-02]], device='cuda:0') ikk tensor(595.8250, device='cuda:0', grad_fn=<SelectBackward>) ihmu tensor([595.8250], device='cuda:0', grad_fn=<MulBackward0>)\n",
      "h_mu tensor([0.0015], device='cuda:0') h_a tensor([157.9532,  19.9224], device='cuda:0')\n",
      "h_cat tensor([1.4649e-03, 1.5795e+02, 1.9922e+01], device='cuda:0')\n",
      "diag h tensor([[1.4649e-03, 0.0000e+00, 0.0000e+00],\n",
      "        [0.0000e+00, 1.5795e+02, 0.0000e+00],\n",
      "        [0.0000e+00, 0.0000e+00, 1.9922e+01]], device='cuda:0')\n",
      "inv_h tensor([[6.8266e+02, 0.0000e+00, 0.0000e+00],\n",
      "        [0.0000e+00, 6.3310e-03, 0.0000e+00],\n",
      "        [0.0000e+00, 0.0000e+00, 5.0195e-02]], device='cuda:0') ikk tensor(682.6578, device='cuda:0', grad_fn=<SelectBackward>) ihmu tensor([682.6578], device='cuda:0', grad_fn=<MulBackward0>)\n",
      "h_mu tensor([0.0017], device='cuda:0') h_a tensor([121.7421,  21.8555], device='cuda:0')\n",
      "h_cat tensor([1.6943e-03, 1.2174e+02, 2.1855e+01], device='cuda:0')\n",
      "diag h tensor([[1.6943e-03, 0.0000e+00, 0.0000e+00],\n",
      "        [0.0000e+00, 1.2174e+02, 0.0000e+00],\n",
      "        [0.0000e+00, 0.0000e+00, 2.1855e+01]], device='cuda:0')\n",
      "inv_h tensor([[5.9021e+02, 0.0000e+00, 0.0000e+00],\n",
      "        [0.0000e+00, 8.2141e-03, 0.0000e+00],\n",
      "        [0.0000e+00, 0.0000e+00, 4.5755e-02]], device='cuda:0') ikk tensor(590.2061, device='cuda:0', grad_fn=<SelectBackward>) ihmu tensor([590.2061], device='cuda:0', grad_fn=<MulBackward0>)\n",
      "h_mu tensor([0.0018], device='cuda:0') h_a tensor([125.9993,  20.4962], device='cuda:0')\n",
      "h_cat tensor([1.7892e-03, 1.2600e+02, 2.0496e+01], device='cuda:0')\n",
      "diag h tensor([[1.7892e-03, 0.0000e+00, 0.0000e+00],\n",
      "        [0.0000e+00, 1.2600e+02, 0.0000e+00],\n",
      "        [0.0000e+00, 0.0000e+00, 2.0496e+01]], device='cuda:0')\n",
      "inv_h tensor([[5.5890e+02, 0.0000e+00, 0.0000e+00],\n",
      "        [0.0000e+00, 7.9365e-03, 0.0000e+00],\n",
      "        [0.0000e+00, 0.0000e+00, 4.8790e-02]], device='cuda:0') ikk tensor(558.9047, device='cuda:0', grad_fn=<SelectBackward>) ihmu tensor([558.9047], device='cuda:0', grad_fn=<MulBackward0>)\n"
     ]
    },
    {
     "ename": "KeyboardInterrupt",
     "evalue": "",
     "output_type": "error",
     "traceback": [
      "\u001b[0;31m---------------------------------------------------------------------------\u001b[0m",
      "\u001b[0;31mKeyboardInterrupt\u001b[0m                         Traceback (most recent call last)",
      "\u001b[0;32m<ipython-input-225-1cec34f01cad>\u001b[0m in \u001b[0;36m<module>\u001b[0;34m()\u001b[0m\n\u001b[1;32m      5\u001b[0m \u001b[0mmodel\u001b[0m \u001b[0;34m=\u001b[0m \u001b[0mModelWrapper\u001b[0m\u001b[0;34m(\u001b[0m\u001b[0mnet\u001b[0m\u001b[0;34m)\u001b[0m\u001b[0;34m\u001b[0m\u001b[0m\n\u001b[1;32m      6\u001b[0m model.fit(200, data=data, opt=partialler(optim.Adam,lr=1e-6), loss=None,\n\u001b[0;32m----> 7\u001b[0;31m           cbs=[PaperInferno(n_steps=10),LossTracker(),SaveBest('weights/best.h5'),EarlyStopping(5)])\n\u001b[0m",
      "\u001b[0;32m~/cernbox/pytorch_inferno/pytorch_inferno/model_wrapper.py\u001b[0m in \u001b[0;36mfit\u001b[0;34m(self, n_epochs, data, opt, loss, cbs)\u001b[0m\n\u001b[1;32m     64\u001b[0m         \u001b[0mself\u001b[0m\u001b[0;34m.\u001b[0m\u001b[0mmb\u001b[0m \u001b[0;34m=\u001b[0m \u001b[0mmaster_bar\u001b[0m\u001b[0;34m(\u001b[0m\u001b[0mrange\u001b[0m\u001b[0;34m(\u001b[0m\u001b[0mself\u001b[0m\u001b[0;34m.\u001b[0m\u001b[0mn_epochs\u001b[0m\u001b[0;34m)\u001b[0m\u001b[0;34m)\u001b[0m\u001b[0;34m\u001b[0m\u001b[0m\n\u001b[1;32m     65\u001b[0m         \u001b[0;32mfor\u001b[0m \u001b[0me\u001b[0m \u001b[0;32min\u001b[0m \u001b[0mself\u001b[0m\u001b[0;34m.\u001b[0m\u001b[0mmb\u001b[0m\u001b[0;34m:\u001b[0m\u001b[0;34m\u001b[0m\u001b[0m\n\u001b[0;32m---> 66\u001b[0;31m             \u001b[0mfit_epoch\u001b[0m\u001b[0;34m(\u001b[0m\u001b[0me\u001b[0m\u001b[0;34m)\u001b[0m\u001b[0;34m\u001b[0m\u001b[0m\n\u001b[0m\u001b[1;32m     67\u001b[0m             \u001b[0;32mif\u001b[0m \u001b[0mself\u001b[0m\u001b[0;34m.\u001b[0m\u001b[0mstop\u001b[0m\u001b[0;34m:\u001b[0m \u001b[0;32mbreak\u001b[0m\u001b[0;34m\u001b[0m\u001b[0m\n\u001b[1;32m     68\u001b[0m         \u001b[0;32mfor\u001b[0m \u001b[0mc\u001b[0m \u001b[0;32min\u001b[0m \u001b[0mself\u001b[0m\u001b[0;34m.\u001b[0m\u001b[0mcbs\u001b[0m\u001b[0;34m:\u001b[0m \u001b[0mc\u001b[0m\u001b[0;34m.\u001b[0m\u001b[0mon_train_end\u001b[0m\u001b[0;34m(\u001b[0m\u001b[0;34m)\u001b[0m\u001b[0;34m\u001b[0m\u001b[0m\n",
      "\u001b[0;32m~/cernbox/pytorch_inferno/pytorch_inferno/model_wrapper.py\u001b[0m in \u001b[0;36mfit_epoch\u001b[0;34m(epoch)\u001b[0m\n\u001b[1;32m     47\u001b[0m             \u001b[0mself\u001b[0m\u001b[0;34m.\u001b[0m\u001b[0mepoch\u001b[0m \u001b[0;34m=\u001b[0m \u001b[0mepoch\u001b[0m\u001b[0;34m\u001b[0m\u001b[0m\n\u001b[1;32m     48\u001b[0m             \u001b[0;32mfor\u001b[0m \u001b[0mc\u001b[0m \u001b[0;32min\u001b[0m \u001b[0mself\u001b[0m\u001b[0;34m.\u001b[0m\u001b[0mcbs\u001b[0m\u001b[0;34m:\u001b[0m \u001b[0mc\u001b[0m\u001b[0;34m.\u001b[0m\u001b[0mon_epoch_begin\u001b[0m\u001b[0;34m(\u001b[0m\u001b[0;34m)\u001b[0m\u001b[0;34m\u001b[0m\u001b[0m\n\u001b[0;32m---> 49\u001b[0;31m             \u001b[0;32mfor\u001b[0m \u001b[0mb\u001b[0m \u001b[0;32min\u001b[0m \u001b[0mprogress_bar\u001b[0m\u001b[0;34m(\u001b[0m\u001b[0mself\u001b[0m\u001b[0;34m.\u001b[0m\u001b[0mdata\u001b[0m\u001b[0;34m.\u001b[0m\u001b[0mtrn_dl\u001b[0m\u001b[0;34m,\u001b[0m \u001b[0mparent\u001b[0m\u001b[0;34m=\u001b[0m\u001b[0mself\u001b[0m\u001b[0;34m.\u001b[0m\u001b[0mmb\u001b[0m\u001b[0;34m)\u001b[0m\u001b[0;34m:\u001b[0m \u001b[0mself\u001b[0m\u001b[0;34m.\u001b[0m\u001b[0m_fit_batch\u001b[0m\u001b[0;34m(\u001b[0m\u001b[0;34m*\u001b[0m\u001b[0mb\u001b[0m\u001b[0;34m)\u001b[0m\u001b[0;34m\u001b[0m\u001b[0m\n\u001b[0m\u001b[1;32m     50\u001b[0m             \u001b[0;32mfor\u001b[0m \u001b[0mc\u001b[0m \u001b[0;32min\u001b[0m \u001b[0mself\u001b[0m\u001b[0;34m.\u001b[0m\u001b[0mcbs\u001b[0m\u001b[0;34m:\u001b[0m \u001b[0mc\u001b[0m\u001b[0;34m.\u001b[0m\u001b[0mon_epoch_end\u001b[0m\u001b[0;34m(\u001b[0m\u001b[0;34m)\u001b[0m\u001b[0;34m\u001b[0m\u001b[0m\n\u001b[1;32m     51\u001b[0m \u001b[0;34m\u001b[0m\u001b[0m\n",
      "\u001b[0;32m~/cernbox/pytorch_inferno/pytorch_inferno/model_wrapper.py\u001b[0m in \u001b[0;36m_fit_batch\u001b[0;34m(self, x, y, w)\u001b[0m\n\u001b[1;32m     25\u001b[0m     \u001b[0;32mdef\u001b[0m \u001b[0m_fit_batch\u001b[0m\u001b[0;34m(\u001b[0m\u001b[0mself\u001b[0m\u001b[0;34m,\u001b[0m \u001b[0mx\u001b[0m\u001b[0;34m:\u001b[0m\u001b[0mTensor\u001b[0m\u001b[0;34m,\u001b[0m \u001b[0my\u001b[0m\u001b[0;34m:\u001b[0m\u001b[0mTensor\u001b[0m\u001b[0;34m,\u001b[0m \u001b[0mw\u001b[0m\u001b[0;34m:\u001b[0m\u001b[0mTensor\u001b[0m\u001b[0;34m)\u001b[0m \u001b[0;34m->\u001b[0m \u001b[0;32mNone\u001b[0m\u001b[0;34m:\u001b[0m\u001b[0;34m\u001b[0m\u001b[0m\n\u001b[1;32m     26\u001b[0m         \u001b[0mself\u001b[0m\u001b[0;34m.\u001b[0m\u001b[0mx\u001b[0m\u001b[0;34m,\u001b[0m\u001b[0mself\u001b[0m\u001b[0;34m.\u001b[0m\u001b[0my\u001b[0m\u001b[0;34m,\u001b[0m\u001b[0mself\u001b[0m\u001b[0;34m.\u001b[0m\u001b[0mw\u001b[0m \u001b[0;34m=\u001b[0m \u001b[0mto_device\u001b[0m\u001b[0;34m(\u001b[0m\u001b[0mx\u001b[0m\u001b[0;34m,\u001b[0m\u001b[0mself\u001b[0m\u001b[0;34m.\u001b[0m\u001b[0mdevice\u001b[0m\u001b[0;34m)\u001b[0m\u001b[0;34m,\u001b[0m\u001b[0mto_device\u001b[0m\u001b[0;34m(\u001b[0m\u001b[0my\u001b[0m\u001b[0;34m,\u001b[0m\u001b[0mself\u001b[0m\u001b[0;34m.\u001b[0m\u001b[0mdevice\u001b[0m\u001b[0;34m)\u001b[0m\u001b[0;34m,\u001b[0m\u001b[0mto_device\u001b[0m\u001b[0;34m(\u001b[0m\u001b[0mw\u001b[0m\u001b[0;34m,\u001b[0m\u001b[0mself\u001b[0m\u001b[0;34m.\u001b[0m\u001b[0mdevice\u001b[0m\u001b[0;34m)\u001b[0m\u001b[0;34m\u001b[0m\u001b[0m\n\u001b[0;32m---> 27\u001b[0;31m         \u001b[0;32mfor\u001b[0m \u001b[0mc\u001b[0m \u001b[0;32min\u001b[0m \u001b[0mself\u001b[0m\u001b[0;34m.\u001b[0m\u001b[0mcbs\u001b[0m\u001b[0;34m:\u001b[0m \u001b[0mc\u001b[0m\u001b[0;34m.\u001b[0m\u001b[0mon_batch_begin\u001b[0m\u001b[0;34m(\u001b[0m\u001b[0;34m)\u001b[0m\u001b[0;34m\u001b[0m\u001b[0m\n\u001b[0m\u001b[1;32m     28\u001b[0m         \u001b[0mself\u001b[0m\u001b[0;34m.\u001b[0m\u001b[0my_pred\u001b[0m \u001b[0;34m=\u001b[0m \u001b[0mself\u001b[0m\u001b[0;34m.\u001b[0m\u001b[0mmodel\u001b[0m\u001b[0;34m(\u001b[0m\u001b[0mself\u001b[0m\u001b[0;34m.\u001b[0m\u001b[0mx\u001b[0m\u001b[0;34m)\u001b[0m\u001b[0;34m\u001b[0m\u001b[0m\n\u001b[1;32m     29\u001b[0m         \u001b[0;32mif\u001b[0m \u001b[0mself\u001b[0m\u001b[0;34m.\u001b[0m\u001b[0mstate\u001b[0m \u001b[0;34m!=\u001b[0m \u001b[0;34m'test'\u001b[0m \u001b[0;32mand\u001b[0m \u001b[0mself\u001b[0m\u001b[0;34m.\u001b[0m\u001b[0mloss_func\u001b[0m \u001b[0;32mis\u001b[0m \u001b[0;32mnot\u001b[0m \u001b[0;32mNone\u001b[0m\u001b[0;34m:\u001b[0m\u001b[0;34m\u001b[0m\u001b[0m\n",
      "\u001b[0;32m<ipython-input-223-857e9f738eec>\u001b[0m in \u001b[0;36mon_batch_begin\u001b[0;34m(self)\u001b[0m\n\u001b[1;32m     12\u001b[0m         \u001b[0mself\u001b[0m\u001b[0;34m.\u001b[0m\u001b[0mmu\u001b[0m \u001b[0;34m=\u001b[0m \u001b[0mtorch\u001b[0m\u001b[0;34m.\u001b[0m\u001b[0mtensor\u001b[0m\u001b[0;34m(\u001b[0m\u001b[0;34m[\u001b[0m\u001b[0mfloat\u001b[0m\u001b[0;34m(\u001b[0m\u001b[0mself\u001b[0m\u001b[0;34m.\u001b[0m\u001b[0mtrue_mu\u001b[0m\u001b[0;34m)\u001b[0m\u001b[0;34m]\u001b[0m\u001b[0;34m,\u001b[0m \u001b[0mrequires_grad\u001b[0m\u001b[0;34m=\u001b[0m\u001b[0;32mTrue\u001b[0m\u001b[0;34m,\u001b[0m \u001b[0mdevice\u001b[0m\u001b[0;34m=\u001b[0m\u001b[0mself\u001b[0m\u001b[0;34m.\u001b[0m\u001b[0mwrapper\u001b[0m\u001b[0;34m.\u001b[0m\u001b[0mdevice\u001b[0m\u001b[0;34m)\u001b[0m\u001b[0;34m\u001b[0m\u001b[0m\n\u001b[1;32m     13\u001b[0m \u001b[0;34m\u001b[0m\u001b[0m\n\u001b[0;32m---> 14\u001b[0;31m     \u001b[0;32mdef\u001b[0m \u001b[0mon_batch_begin\u001b[0m\u001b[0;34m(\u001b[0m\u001b[0mself\u001b[0m\u001b[0;34m)\u001b[0m \u001b[0;34m->\u001b[0m \u001b[0;32mNone\u001b[0m\u001b[0;34m:\u001b[0m \u001b[0mself\u001b[0m\u001b[0;34m.\u001b[0m\u001b[0maug_data\u001b[0m\u001b[0;34m(\u001b[0m\u001b[0mself\u001b[0m\u001b[0;34m.\u001b[0m\u001b[0mwrapper\u001b[0m\u001b[0;34m.\u001b[0m\u001b[0mx\u001b[0m\u001b[0;34m)\u001b[0m\u001b[0;34m\u001b[0m\u001b[0m\n\u001b[0m\u001b[1;32m     15\u001b[0m \u001b[0;34m\u001b[0m\u001b[0m\n\u001b[1;32m     16\u001b[0m     \u001b[0;34m@\u001b[0m\u001b[0mstaticmethod\u001b[0m\u001b[0;34m\u001b[0m\u001b[0m\n",
      "\u001b[0;32m<ipython-input-224-d0464f846a54>\u001b[0m in \u001b[0;36maug_data\u001b[0;34m(self, x)\u001b[0m\n\u001b[1;32m      5\u001b[0m \u001b[0;34m\u001b[0m\u001b[0m\n\u001b[1;32m      6\u001b[0m     \u001b[0;32mdef\u001b[0m \u001b[0maug_data\u001b[0m\u001b[0;34m(\u001b[0m\u001b[0mself\u001b[0m\u001b[0;34m,\u001b[0m \u001b[0mx\u001b[0m\u001b[0;34m:\u001b[0m\u001b[0mTensor\u001b[0m\u001b[0;34m)\u001b[0m \u001b[0;34m->\u001b[0m \u001b[0mTuple\u001b[0m\u001b[0;34m[\u001b[0m\u001b[0mTensor\u001b[0m\u001b[0;34m,\u001b[0m\u001b[0mTensor\u001b[0m\u001b[0;34m]\u001b[0m\u001b[0;34m:\u001b[0m\u001b[0;34m\u001b[0m\u001b[0m\n\u001b[0;32m----> 7\u001b[0;31m         \u001b[0mx\u001b[0m\u001b[0;34m[\u001b[0m\u001b[0;34m:\u001b[0m\u001b[0;34m,\u001b[0m\u001b[0;36m0\u001b[0m\u001b[0;34m]\u001b[0m \u001b[0;34m+=\u001b[0m \u001b[0mself\u001b[0m\u001b[0;34m.\u001b[0m\u001b[0malpha\u001b[0m\u001b[0;34m[\u001b[0m\u001b[0;36m0\u001b[0m\u001b[0;34m]\u001b[0m\u001b[0;34m\u001b[0m\u001b[0m\n\u001b[0m\u001b[1;32m      8\u001b[0m         \u001b[0mx\u001b[0m\u001b[0;34m[\u001b[0m\u001b[0;34m:\u001b[0m\u001b[0;34m,\u001b[0m\u001b[0;36m2\u001b[0m\u001b[0;34m]\u001b[0m \u001b[0;34m*=\u001b[0m \u001b[0mself\u001b[0m\u001b[0;34m.\u001b[0m\u001b[0malpha\u001b[0m\u001b[0;34m[\u001b[0m\u001b[0;36m1\u001b[0m\u001b[0;34m]\u001b[0m\u001b[0;34m/\u001b[0m\u001b[0;36m3\u001b[0m\u001b[0;34m\u001b[0m\u001b[0m\n",
      "\u001b[0;31mKeyboardInterrupt\u001b[0m: "
     ]
    }
   ],
   "source": [
    "net = nn.Sequential(nn.Linear(3,100),  nn.ReLU(),\n",
    "                    nn.Linear(100,100),nn.ReLU(),\n",
    "                    nn.Linear(100,10), VariableSoftmax(0.1))\n",
    "init_net(net)\n",
    "model = ModelWrapper(net)\n",
    "model.fit(200, data=data, opt=partialler(optim.Adam,lr=1e-6), loss=None,\n",
    "          cbs=[PaperInferno(n_steps=10),LossTracker(),SaveBest('weights/best.h5'),EarlyStopping(5)])"
   ]
  },
  {
   "cell_type": "code",
   "execution_count": null,
   "metadata": {},
   "outputs": [],
   "source": [
    "model.load('weights/best.h5')"
   ]
  },
  {
   "cell_type": "code",
   "execution_count": null,
   "metadata": {},
   "outputs": [],
   "source": [
    "model.save('weights/Inferno_Test.h5')"
   ]
  },
  {
   "cell_type": "code",
   "execution_count": null,
   "metadata": {},
   "outputs": [],
   "source": [
    "net = nn.Sequential(nn.Linear(3,100),  nn.ReLU(),\n",
    "                    nn.Linear(100,100),nn.ReLU(),\n",
    "                    nn.Linear(100,10), VariableSoftmax(0.1))\n",
    "model = ModelWrapper(net)\n",
    "model.load('weights/Inferno_Test.h5')"
   ]
  },
  {
   "cell_type": "markdown",
   "metadata": {},
   "source": [
    "# Results"
   ]
  },
  {
   "cell_type": "code",
   "execution_count": null,
   "metadata": {},
   "outputs": [],
   "source": [
    "# export\n",
    "class InfernoPred(PredHandler):\n",
    "    def get_preds(self) -> np.ndarray: return np.argmax(self.preds, 1)#/len(self.wrapper.model[-2].weight)"
   ]
  },
  {
   "cell_type": "markdown",
   "metadata": {},
   "source": [
    "## BM 0"
   ]
  },
  {
   "cell_type": "code",
   "execution_count": null,
   "metadata": {},
   "outputs": [
    {
     "data": {
      "text/html": [
       "\n",
       "    <div>\n",
       "        <style>\n",
       "            /* Turns off some styling */\n",
       "            progress {\n",
       "                /* gets rid of default border in Firefox and Opera. */\n",
       "                border: none;\n",
       "                /* Needs to be in here for Safari polyfill so background images work as expected. */\n",
       "                background-size: auto;\n",
       "            }\n",
       "            .progress-bar-interrupted, .progress-bar-interrupted::-webkit-progress-bar {\n",
       "                background: #F44336;\n",
       "            }\n",
       "        </style>\n",
       "      <progress value='250' class='' max='250', style='width:300px; height:20px; vertical-align: middle;'></progress>\n",
       "      100.00% [250/250 00:10<00:00]\n",
       "    </div>\n",
       "    "
      ],
      "text/plain": [
       "<IPython.core.display.HTML object>"
      ]
     },
     "metadata": {},
     "output_type": "display_data"
    }
   ],
   "source": [
    "preds = model.predict(test, pred_cb=InfernoPred())"
   ]
  },
  {
   "cell_type": "code",
   "execution_count": null,
   "metadata": {},
   "outputs": [
    {
     "data": {
      "text/html": [
       "<div>\n",
       "<style scoped>\n",
       "    .dataframe tbody tr th:only-of-type {\n",
       "        vertical-align: middle;\n",
       "    }\n",
       "\n",
       "    .dataframe tbody tr th {\n",
       "        vertical-align: top;\n",
       "    }\n",
       "\n",
       "    .dataframe thead th {\n",
       "        text-align: right;\n",
       "    }\n",
       "</style>\n",
       "<table border=\"1\" class=\"dataframe\">\n",
       "  <thead>\n",
       "    <tr style=\"text-align: right;\">\n",
       "      <th></th>\n",
       "      <th>pred</th>\n",
       "      <th>gen_target</th>\n",
       "    </tr>\n",
       "  </thead>\n",
       "  <tbody>\n",
       "    <tr>\n",
       "      <td>0</td>\n",
       "      <td>0</td>\n",
       "      <td>1.0</td>\n",
       "    </tr>\n",
       "    <tr>\n",
       "      <td>1</td>\n",
       "      <td>3</td>\n",
       "      <td>1.0</td>\n",
       "    </tr>\n",
       "    <tr>\n",
       "      <td>2</td>\n",
       "      <td>3</td>\n",
       "      <td>1.0</td>\n",
       "    </tr>\n",
       "    <tr>\n",
       "      <td>3</td>\n",
       "      <td>3</td>\n",
       "      <td>1.0</td>\n",
       "    </tr>\n",
       "    <tr>\n",
       "      <td>4</td>\n",
       "      <td>2</td>\n",
       "      <td>1.0</td>\n",
       "    </tr>\n",
       "  </tbody>\n",
       "</table>\n",
       "</div>"
      ],
      "text/plain": [
       "   pred  gen_target\n",
       "0     0         1.0\n",
       "1     3         1.0\n",
       "2     3         1.0\n",
       "3     3         1.0\n",
       "4     2         1.0"
      ]
     },
     "execution_count": null,
     "metadata": {},
     "output_type": "execute_result"
    }
   ],
   "source": [
    "df = pd.DataFrame({'pred':preds})\n",
    "df['gen_target'] = test.dataset.y\n",
    "df.head()"
   ]
  },
  {
   "cell_type": "code",
   "execution_count": null,
   "metadata": {},
   "outputs": [
    {
     "data": {
      "image/png": "[encoded data removed]",
      "text/plain": [
       "<Figure size 1024x576 with 1 Axes>"
      ]
     },
     "metadata": {},
     "output_type": "display_data"
    }
   ],
   "source": [
    "plot_preds(df, bin_edges=np.linspace(0,10,11))"
   ]
  },
  {
   "cell_type": "code",
   "execution_count": null,
   "metadata": {},
   "outputs": [],
   "source": [
    "bin_preds(df)"
   ]
  },
  {
   "cell_type": "code",
   "execution_count": null,
   "metadata": {},
   "outputs": [
    {
     "data": {
      "text/html": [
       "<div>\n",
       "<style scoped>\n",
       "    .dataframe tbody tr th:only-of-type {\n",
       "        vertical-align: middle;\n",
       "    }\n",
       "\n",
       "    .dataframe tbody tr th {\n",
       "        vertical-align: top;\n",
       "    }\n",
       "\n",
       "    .dataframe thead th {\n",
       "        text-align: right;\n",
       "    }\n",
       "</style>\n",
       "<table border=\"1\" class=\"dataframe\">\n",
       "  <thead>\n",
       "    <tr style=\"text-align: right;\">\n",
       "      <th></th>\n",
       "      <th>pred</th>\n",
       "      <th>gen_target</th>\n",
       "      <th>pred_bin</th>\n",
       "    </tr>\n",
       "  </thead>\n",
       "  <tbody>\n",
       "    <tr>\n",
       "      <td>0</td>\n",
       "      <td>0</td>\n",
       "      <td>1.0</td>\n",
       "      <td>0</td>\n",
       "    </tr>\n",
       "    <tr>\n",
       "      <td>1</td>\n",
       "      <td>3</td>\n",
       "      <td>1.0</td>\n",
       "      <td>3</td>\n",
       "    </tr>\n",
       "    <tr>\n",
       "      <td>2</td>\n",
       "      <td>3</td>\n",
       "      <td>1.0</td>\n",
       "      <td>3</td>\n",
       "    </tr>\n",
       "    <tr>\n",
       "      <td>3</td>\n",
       "      <td>3</td>\n",
       "      <td>1.0</td>\n",
       "      <td>3</td>\n",
       "    </tr>\n",
       "    <tr>\n",
       "      <td>4</td>\n",
       "      <td>2</td>\n",
       "      <td>1.0</td>\n",
       "      <td>2</td>\n",
       "    </tr>\n",
       "  </tbody>\n",
       "</table>\n",
       "</div>"
      ],
      "text/plain": [
       "   pred  gen_target  pred_bin\n",
       "0     0         1.0         0\n",
       "1     3         1.0         3\n",
       "2     3         1.0         3\n",
       "3     3         1.0         3\n",
       "4     2         1.0         2"
      ]
     },
     "execution_count": null,
     "metadata": {},
     "output_type": "execute_result"
    }
   ],
   "source": [
    "df.head()"
   ]
  },
  {
   "cell_type": "code",
   "execution_count": null,
   "metadata": {},
   "outputs": [],
   "source": [
    "f_s,f_b = get_shape(df,1),get_shape(df,0)"
   ]
  },
  {
   "cell_type": "code",
   "execution_count": null,
   "metadata": {},
   "outputs": [
    {
     "data": {
      "text/plain": [
       "(tensor(1.), tensor(1.))"
      ]
     },
     "execution_count": null,
     "metadata": {},
     "output_type": "execute_result"
    }
   ],
   "source": [
    "f_s.sum(), f_b.sum()"
   ]
  },
  {
   "cell_type": "code",
   "execution_count": null,
   "metadata": {},
   "outputs": [
    {
     "data": {
      "text/plain": [
       "(tensor([1.4974e-01, 2.0076e-01, 6.4950e-01, 2.0000e-13, 2.0000e-13, 2.0000e-13,\n",
       "         2.0000e-13, 2.0000e-13, 2.0000e-13, 2.0000e-13]),\n",
       " tensor([3.4333e-01, 4.9477e-01, 1.6189e-01, 2.0000e-13, 2.0000e-13, 2.0000e-13,\n",
       "         2.0000e-13, 2.0000e-13, 2.0000e-13, 2.0000e-13]))"
      ]
     },
     "execution_count": null,
     "metadata": {},
     "output_type": "execute_result"
    }
   ],
   "source": [
    "f_s, f_b"
   ]
  },
  {
   "cell_type": "code",
   "execution_count": null,
   "metadata": {},
   "outputs": [],
   "source": [
    "asimov = (50*f_s)+(1000*f_b)"
   ]
  },
  {
   "cell_type": "code",
   "execution_count": null,
   "metadata": {},
   "outputs": [
    {
     "data": {
      "text/plain": [
       "(tensor([3.5082e+02, 5.0481e+02, 1.9437e+02, 2.1000e-10, 2.1000e-10, 2.1000e-10,\n",
       "         2.1000e-10, 2.1000e-10, 2.1000e-10, 2.1000e-10]), tensor(1050.))"
      ]
     },
     "execution_count": null,
     "metadata": {},
     "output_type": "execute_result"
    }
   ],
   "source": [
    "asimov, asimov.sum()"
   ]
  },
  {
   "cell_type": "code",
   "execution_count": null,
   "metadata": {},
   "outputs": [
    {
     "data": {
      "text/plain": [
       "array([12.54730225, 12.47229004, 12.39953613, 12.32952881, 12.26287842,\n",
       "       12.1987915 , 12.13726807, 12.07861328, 12.02215576, 11.96881104,\n",
       "       11.91827393, 11.87005615, 11.824646  , 11.78179932, 11.74139404,\n",
       "       11.70391846, 11.66851807, 11.63604736, 11.60571289, 11.578125  ,\n",
       "       11.55303955, 11.53045654, 11.5100708 , 11.49243164, 11.47717285,\n",
       "       11.46417236, 11.45349121, 11.44512939, 11.43933105, 11.43579102,\n",
       "       11.43487549, 11.43603516, 11.43951416, 11.44512939, 11.45300293,\n",
       "       11.46374512, 11.47576904, 11.49066162, 11.5078125 , 11.52679443,\n",
       "       11.54815674, 11.57202148, 11.59710693, 11.62506104, 11.6552124 ,\n",
       "       11.68713379, 11.72113037, 11.75799561, 11.79602051, 11.83660889,\n",
       "       11.87896729, 11.92358398, 11.97039795, 12.019104  , 12.06976318,\n",
       "       12.12231445, 12.17645264, 12.23345947, 12.29187012, 12.35247803,\n",
       "       12.41485596])"
      ]
     },
     "execution_count": null,
     "metadata": {},
     "output_type": "execute_result"
    }
   ],
   "source": [
    "n = 1050\n",
    "x = np.linspace(20,80,61)\n",
    "y = np.zeros_like(x)\n",
    "for i,m in enumerate(x):\n",
    "    pois = torch.distributions.Poisson((m*f_s)+(1000*f_b))\n",
    "    y[i] = -pois.log_prob(asimov).sum()\n",
    "y"
   ]
  },
  {
   "cell_type": "code",
   "execution_count": null,
   "metadata": {},
   "outputs": [],
   "source": [
    "y_tf2 = np.array([31.626238,31.466385,31.313095,31.166267,31.025808,30.891619,30.76361\n",
    ",30.641693,30.525778,30.415783,30.31162,30.213215,30.120483,30.033348\n",
    ",29.951736,29.875574,29.804789,29.739307,29.679066,29.623993,29.574026\n",
    ",29.5291,29.489151,29.454117,29.423939,29.398558,29.377914,29.361954\n",
    ",29.35062,29.343859,29.341618,29.343842,29.350483,29.36149,29.376812\n",
    ",29.396404,29.420216,29.448202,29.480318,29.516518,29.556757,29.600994\n",
    ",29.649185,29.70129,29.757267,29.817076,29.88068,29.948036,30.019108\n",
    ",30.093859,30.17225,30.25425,30.339819,30.42892,30.521524,30.617598\n",
    ",30.7171,30.820007,30.926281,31.035892,31.148808], dtype='float32')"
   ]
  },
  {
   "cell_type": "code",
   "execution_count": null,
   "metadata": {},
   "outputs": [
    {
     "data": {
      "text/plain": [
       "array([2.2846203e+00, 2.1247673e+00, 1.9714775e+00, 1.8246498e+00,\n",
       "       1.6841908e+00, 1.5500011e+00, 1.4219933e+00, 1.3000755e+00,\n",
       "       1.1841602e+00, 1.0741653e+00, 9.7000313e-01, 8.7159729e-01,\n",
       "       7.7886581e-01, 6.9173050e-01, 6.1011887e-01, 5.3395653e-01,\n",
       "       4.6317101e-01, 3.9768982e-01, 3.3744812e-01, 2.8237534e-01,\n",
       "       2.3240852e-01, 1.8748283e-01, 1.4753342e-01, 1.1249924e-01,\n",
       "       8.2321167e-02, 5.6940079e-02, 3.6296844e-02, 2.0336151e-02,\n",
       "       9.0026855e-03, 2.2411346e-03, 0.0000000e+00, 2.2239685e-03,\n",
       "       8.8653564e-03, 1.9872665e-02, 3.5194397e-02, 5.4786682e-02,\n",
       "       7.8598022e-02, 1.0658455e-01, 1.3870049e-01, 1.7490005e-01,\n",
       "       2.1513939e-01, 2.5937653e-01, 3.0756760e-01, 3.5967255e-01,\n",
       "       4.1564941e-01, 4.7545815e-01, 5.3906250e-01, 6.0641861e-01,\n",
       "       6.7749023e-01, 7.5224113e-01, 8.3063316e-01, 9.1263199e-01,\n",
       "       9.9820137e-01, 1.0873032e+00, 1.1799068e+00, 1.2759800e+00,\n",
       "       1.3754826e+00, 1.4783897e+00, 1.5846634e+00, 1.6942749e+00,\n",
       "       1.8071899e+00], dtype=float32)"
      ]
     },
     "execution_count": null,
     "metadata": {},
     "output_type": "execute_result"
    }
   ],
   "source": [
    "y_tf2-y_tf2.min()"
   ]
  },
  {
   "cell_type": "code",
   "execution_count": null,
   "metadata": {},
   "outputs": [
    {
     "data": {
      "image/png": "[encoded data removed]",
      "text/plain": [
       "<Figure size 1024x576 with 1 Axes>"
      ]
     },
     "metadata": {},
     "output_type": "display_data"
    }
   ],
   "source": [
    "plot_likelihood(y-y.min())"
   ]
  },
  {
   "cell_type": "code",
   "execution_count": null,
   "metadata": {},
   "outputs": [
    {
     "data": {
      "image/png": "[encoded data removed]",
      "text/plain": [
       "<Figure size 1024x576 with 1 Axes>"
      ]
     },
     "metadata": {},
     "output_type": "display_data"
    }
   ],
   "source": [
    "plot_likelihood(y_tf2-y_tf2.min())"
   ]
  },
  {
   "cell_type": "markdown",
   "metadata": {},
   "source": [
    "# Nuisances - via interpolation"
   ]
  },
  {
   "cell_type": "code",
   "execution_count": null,
   "metadata": {},
   "outputs": [],
   "source": [
    "bkg = test.dataset.x[test.dataset.y.squeeze() == 0]\n",
    "assert len(bkg) == 500000"
   ]
  },
  {
   "cell_type": "code",
   "execution_count": null,
   "metadata": {},
   "outputs": [
    {
     "name": "stdout",
     "output_type": "stream",
     "text": [
      "Running: r=-0.2\n"
     ]
    },
    {
     "data": {
      "text/html": [
       "\n",
       "    <div>\n",
       "        <style>\n",
       "            /* Turns off some styling */\n",
       "            progress {\n",
       "                /* gets rid of default border in Firefox and Opera. */\n",
       "                border: none;\n",
       "                /* Needs to be in here for Safari polyfill so background images work as expected. */\n",
       "                background-size: auto;\n",
       "            }\n",
       "            .progress-bar-interrupted, .progress-bar-interrupted::-webkit-progress-bar {\n",
       "                background: #F44336;\n",
       "            }\n",
       "        </style>\n",
       "      <progress value='1' class='' max='1', style='width:300px; height:20px; vertical-align: middle;'></progress>\n",
       "      100.00% [1/1 00:03<00:00]\n",
       "    </div>\n",
       "    "
      ],
      "text/plain": [
       "<IPython.core.display.HTML object>"
      ]
     },
     "metadata": {},
     "output_type": "display_data"
    },
    {
     "name": "stdout",
     "output_type": "stream",
     "text": [
      "Running: r=0\n"
     ]
    },
    {
     "data": {
      "text/html": [
       "\n",
       "    <div>\n",
       "        <style>\n",
       "            /* Turns off some styling */\n",
       "            progress {\n",
       "                /* gets rid of default border in Firefox and Opera. */\n",
       "                border: none;\n",
       "                /* Needs to be in here for Safari polyfill so background images work as expected. */\n",
       "                background-size: auto;\n",
       "            }\n",
       "            .progress-bar-interrupted, .progress-bar-interrupted::-webkit-progress-bar {\n",
       "                background: #F44336;\n",
       "            }\n",
       "        </style>\n",
       "      <progress value='1' class='' max='1', style='width:300px; height:20px; vertical-align: middle;'></progress>\n",
       "      100.00% [1/1 00:03<00:00]\n",
       "    </div>\n",
       "    "
      ],
      "text/plain": [
       "<IPython.core.display.HTML object>"
      ]
     },
     "metadata": {},
     "output_type": "display_data"
    },
    {
     "name": "stdout",
     "output_type": "stream",
     "text": [
      "Running: r=0.2\n"
     ]
    },
    {
     "data": {
      "text/html": [
       "\n",
       "    <div>\n",
       "        <style>\n",
       "            /* Turns off some styling */\n",
       "            progress {\n",
       "                /* gets rid of default border in Firefox and Opera. */\n",
       "                border: none;\n",
       "                /* Needs to be in here for Safari polyfill so background images work as expected. */\n",
       "                background-size: auto;\n",
       "            }\n",
       "            .progress-bar-interrupted, .progress-bar-interrupted::-webkit-progress-bar {\n",
       "                background: #F44336;\n",
       "            }\n",
       "        </style>\n",
       "      <progress value='1' class='' max='1', style='width:300px; height:20px; vertical-align: middle;'></progress>\n",
       "      100.00% [1/1 00:03<00:00]\n",
       "    </div>\n",
       "    "
      ],
      "text/plain": [
       "<IPython.core.display.HTML object>"
      ]
     },
     "metadata": {},
     "output_type": "display_data"
    },
    {
     "name": "stdout",
     "output_type": "stream",
     "text": [
      "Running: l=2.5\n"
     ]
    },
    {
     "data": {
      "text/html": [
       "\n",
       "    <div>\n",
       "        <style>\n",
       "            /* Turns off some styling */\n",
       "            progress {\n",
       "                /* gets rid of default border in Firefox and Opera. */\n",
       "                border: none;\n",
       "                /* Needs to be in here for Safari polyfill so background images work as expected. */\n",
       "                background-size: auto;\n",
       "            }\n",
       "            .progress-bar-interrupted, .progress-bar-interrupted::-webkit-progress-bar {\n",
       "                background: #F44336;\n",
       "            }\n",
       "        </style>\n",
       "      <progress value='1' class='' max='1', style='width:300px; height:20px; vertical-align: middle;'></progress>\n",
       "      100.00% [1/1 00:03<00:00]\n",
       "    </div>\n",
       "    "
      ],
      "text/plain": [
       "<IPython.core.display.HTML object>"
      ]
     },
     "metadata": {},
     "output_type": "display_data"
    },
    {
     "name": "stdout",
     "output_type": "stream",
     "text": [
      "Running: l=3\n"
     ]
    },
    {
     "data": {
      "text/html": [
       "\n",
       "    <div>\n",
       "        <style>\n",
       "            /* Turns off some styling */\n",
       "            progress {\n",
       "                /* gets rid of default border in Firefox and Opera. */\n",
       "                border: none;\n",
       "                /* Needs to be in here for Safari polyfill so background images work as expected. */\n",
       "                background-size: auto;\n",
       "            }\n",
       "            .progress-bar-interrupted, .progress-bar-interrupted::-webkit-progress-bar {\n",
       "                background: #F44336;\n",
       "            }\n",
       "        </style>\n",
       "      <progress value='1' class='' max='1', style='width:300px; height:20px; vertical-align: middle;'></progress>\n",
       "      100.00% [1/1 00:02<00:00]\n",
       "    </div>\n",
       "    "
      ],
      "text/plain": [
       "<IPython.core.display.HTML object>"
      ]
     },
     "metadata": {},
     "output_type": "display_data"
    },
    {
     "name": "stdout",
     "output_type": "stream",
     "text": [
      "Running: l=3.5\n"
     ]
    },
    {
     "data": {
      "text/html": [
       "\n",
       "    <div>\n",
       "        <style>\n",
       "            /* Turns off some styling */\n",
       "            progress {\n",
       "                /* gets rid of default border in Firefox and Opera. */\n",
       "                border: none;\n",
       "                /* Needs to be in here for Safari polyfill so background images work as expected. */\n",
       "                background-size: auto;\n",
       "            }\n",
       "            .progress-bar-interrupted, .progress-bar-interrupted::-webkit-progress-bar {\n",
       "                background: #F44336;\n",
       "            }\n",
       "        </style>\n",
       "      <progress value='1' class='' max='1', style='width:300px; height:20px; vertical-align: middle;'></progress>\n",
       "      100.00% [1/1 00:03<00:00]\n",
       "    </div>\n",
       "    "
      ],
      "text/plain": [
       "<IPython.core.display.HTML object>"
      ]
     },
     "metadata": {},
     "output_type": "display_data"
    }
   ],
   "source": [
    "b_shapes = get_paper_syst_shapes(bkg, df, model=model, pred_cb=InfernoPred())"
   ]
  },
  {
   "cell_type": "code",
   "execution_count": null,
   "metadata": {},
   "outputs": [
    {
     "data": {
      "text/html": [
       "<div>\n",
       "<style scoped>\n",
       "    .dataframe tbody tr th:only-of-type {\n",
       "        vertical-align: middle;\n",
       "    }\n",
       "\n",
       "    .dataframe tbody tr th {\n",
       "        vertical-align: top;\n",
       "    }\n",
       "\n",
       "    .dataframe thead th {\n",
       "        text-align: right;\n",
       "    }\n",
       "</style>\n",
       "<table border=\"1\" class=\"dataframe\">\n",
       "  <thead>\n",
       "    <tr style=\"text-align: right;\">\n",
       "      <th></th>\n",
       "      <th>pred</th>\n",
       "      <th>gen_target</th>\n",
       "      <th>pred_bin</th>\n",
       "      <th>pred_-0.2_3</th>\n",
       "      <th>pred_-0.2_3_bin</th>\n",
       "      <th>pred_0_3</th>\n",
       "      <th>pred_0_3_bin</th>\n",
       "      <th>pred_0.2_3</th>\n",
       "      <th>pred_0.2_3_bin</th>\n",
       "      <th>pred_0_2.5</th>\n",
       "      <th>pred_0_2.5_bin</th>\n",
       "      <th>pred_0_3.5</th>\n",
       "      <th>pred_0_3.5_bin</th>\n",
       "    </tr>\n",
       "  </thead>\n",
       "  <tbody>\n",
       "    <tr>\n",
       "      <td>0</td>\n",
       "      <td>4</td>\n",
       "      <td>1.0</td>\n",
       "      <td>4</td>\n",
       "      <td>4</td>\n",
       "      <td>4</td>\n",
       "      <td>4</td>\n",
       "      <td>4</td>\n",
       "      <td>4</td>\n",
       "      <td>4</td>\n",
       "      <td>4</td>\n",
       "      <td>4</td>\n",
       "      <td>4</td>\n",
       "      <td>4</td>\n",
       "    </tr>\n",
       "    <tr>\n",
       "      <td>1</td>\n",
       "      <td>0</td>\n",
       "      <td>1.0</td>\n",
       "      <td>0</td>\n",
       "      <td>0</td>\n",
       "      <td>0</td>\n",
       "      <td>0</td>\n",
       "      <td>0</td>\n",
       "      <td>0</td>\n",
       "      <td>0</td>\n",
       "      <td>0</td>\n",
       "      <td>0</td>\n",
       "      <td>0</td>\n",
       "      <td>0</td>\n",
       "    </tr>\n",
       "    <tr>\n",
       "      <td>2</td>\n",
       "      <td>8</td>\n",
       "      <td>1.0</td>\n",
       "      <td>8</td>\n",
       "      <td>8</td>\n",
       "      <td>8</td>\n",
       "      <td>8</td>\n",
       "      <td>8</td>\n",
       "      <td>8</td>\n",
       "      <td>8</td>\n",
       "      <td>8</td>\n",
       "      <td>8</td>\n",
       "      <td>8</td>\n",
       "      <td>8</td>\n",
       "    </tr>\n",
       "    <tr>\n",
       "      <td>3</td>\n",
       "      <td>3</td>\n",
       "      <td>1.0</td>\n",
       "      <td>3</td>\n",
       "      <td>3</td>\n",
       "      <td>3</td>\n",
       "      <td>3</td>\n",
       "      <td>3</td>\n",
       "      <td>3</td>\n",
       "      <td>3</td>\n",
       "      <td>3</td>\n",
       "      <td>3</td>\n",
       "      <td>3</td>\n",
       "      <td>3</td>\n",
       "    </tr>\n",
       "    <tr>\n",
       "      <td>4</td>\n",
       "      <td>1</td>\n",
       "      <td>1.0</td>\n",
       "      <td>1</td>\n",
       "      <td>1</td>\n",
       "      <td>1</td>\n",
       "      <td>1</td>\n",
       "      <td>1</td>\n",
       "      <td>1</td>\n",
       "      <td>1</td>\n",
       "      <td>1</td>\n",
       "      <td>1</td>\n",
       "      <td>1</td>\n",
       "      <td>1</td>\n",
       "    </tr>\n",
       "    <tr>\n",
       "      <td>...</td>\n",
       "      <td>...</td>\n",
       "      <td>...</td>\n",
       "      <td>...</td>\n",
       "      <td>...</td>\n",
       "      <td>...</td>\n",
       "      <td>...</td>\n",
       "      <td>...</td>\n",
       "      <td>...</td>\n",
       "      <td>...</td>\n",
       "      <td>...</td>\n",
       "      <td>...</td>\n",
       "      <td>...</td>\n",
       "      <td>...</td>\n",
       "    </tr>\n",
       "    <tr>\n",
       "      <td>999995</td>\n",
       "      <td>1</td>\n",
       "      <td>0.0</td>\n",
       "      <td>1</td>\n",
       "      <td>1</td>\n",
       "      <td>1</td>\n",
       "      <td>1</td>\n",
       "      <td>1</td>\n",
       "      <td>1</td>\n",
       "      <td>1</td>\n",
       "      <td>1</td>\n",
       "      <td>1</td>\n",
       "      <td>1</td>\n",
       "      <td>1</td>\n",
       "    </tr>\n",
       "    <tr>\n",
       "      <td>999996</td>\n",
       "      <td>1</td>\n",
       "      <td>0.0</td>\n",
       "      <td>1</td>\n",
       "      <td>1</td>\n",
       "      <td>1</td>\n",
       "      <td>1</td>\n",
       "      <td>1</td>\n",
       "      <td>1</td>\n",
       "      <td>1</td>\n",
       "      <td>1</td>\n",
       "      <td>1</td>\n",
       "      <td>1</td>\n",
       "      <td>1</td>\n",
       "    </tr>\n",
       "    <tr>\n",
       "      <td>999997</td>\n",
       "      <td>1</td>\n",
       "      <td>0.0</td>\n",
       "      <td>1</td>\n",
       "      <td>1</td>\n",
       "      <td>1</td>\n",
       "      <td>1</td>\n",
       "      <td>1</td>\n",
       "      <td>1</td>\n",
       "      <td>1</td>\n",
       "      <td>1</td>\n",
       "      <td>1</td>\n",
       "      <td>1</td>\n",
       "      <td>1</td>\n",
       "    </tr>\n",
       "    <tr>\n",
       "      <td>999998</td>\n",
       "      <td>1</td>\n",
       "      <td>0.0</td>\n",
       "      <td>1</td>\n",
       "      <td>1</td>\n",
       "      <td>1</td>\n",
       "      <td>1</td>\n",
       "      <td>1</td>\n",
       "      <td>1</td>\n",
       "      <td>1</td>\n",
       "      <td>1</td>\n",
       "      <td>1</td>\n",
       "      <td>1</td>\n",
       "      <td>1</td>\n",
       "    </tr>\n",
       "    <tr>\n",
       "      <td>999999</td>\n",
       "      <td>4</td>\n",
       "      <td>0.0</td>\n",
       "      <td>4</td>\n",
       "      <td>4</td>\n",
       "      <td>4</td>\n",
       "      <td>4</td>\n",
       "      <td>4</td>\n",
       "      <td>3</td>\n",
       "      <td>3</td>\n",
       "      <td>4</td>\n",
       "      <td>4</td>\n",
       "      <td>4</td>\n",
       "      <td>4</td>\n",
       "    </tr>\n",
       "  </tbody>\n",
       "</table>\n",
       "<p>1000000 rows × 13 columns</p>\n",
       "</div>"
      ],
      "text/plain": [
       "        pred  gen_target  pred_bin  pred_-0.2_3  pred_-0.2_3_bin  pred_0_3  \\\n",
       "0          4         1.0         4            4                4         4   \n",
       "1          0         1.0         0            0                0         0   \n",
       "2          8         1.0         8            8                8         8   \n",
       "3          3         1.0         3            3                3         3   \n",
       "4          1         1.0         1            1                1         1   \n",
       "...      ...         ...       ...          ...              ...       ...   \n",
       "999995     1         0.0         1            1                1         1   \n",
       "999996     1         0.0         1            1                1         1   \n",
       "999997     1         0.0         1            1                1         1   \n",
       "999998     1         0.0         1            1                1         1   \n",
       "999999     4         0.0         4            4                4         4   \n",
       "\n",
       "        pred_0_3_bin  pred_0.2_3  pred_0.2_3_bin  pred_0_2.5  pred_0_2.5_bin  \\\n",
       "0                  4           4               4           4               4   \n",
       "1                  0           0               0           0               0   \n",
       "2                  8           8               8           8               8   \n",
       "3                  3           3               3           3               3   \n",
       "4                  1           1               1           1               1   \n",
       "...              ...         ...             ...         ...             ...   \n",
       "999995             1           1               1           1               1   \n",
       "999996             1           1               1           1               1   \n",
       "999997             1           1               1           1               1   \n",
       "999998             1           1               1           1               1   \n",
       "999999             4           3               3           4               4   \n",
       "\n",
       "        pred_0_3.5  pred_0_3.5_bin  \n",
       "0                4               4  \n",
       "1                0               0  \n",
       "2                8               8  \n",
       "3                3               3  \n",
       "4                1               1  \n",
       "...            ...             ...  \n",
       "999995           1               1  \n",
       "999996           1               1  \n",
       "999997           1               1  \n",
       "999998           1               1  \n",
       "999999           4               4  \n",
       "\n",
       "[1000000 rows x 13 columns]"
      ]
     },
     "execution_count": null,
     "metadata": {},
     "output_type": "execute_result"
    }
   ],
   "source": [
    "df"
   ]
  },
  {
   "cell_type": "code",
   "execution_count": null,
   "metadata": {},
   "outputs": [
    {
     "data": {
      "image/png": "[encoded data removed]",
      "text/plain": [
       "<Figure size 1024x576 with 1 Axes>"
      ]
     },
     "metadata": {},
     "output_type": "display_data"
    }
   ],
   "source": [
    "plot_preds(df, pred_names=['pred', 'pred_-0.2_3', 'pred_0.2_3', 'pred_0_2.5', 'pred_0_3.5'], bin_edges=np.linspace(0,10,11))"
   ]
  },
  {
   "cell_type": "code",
   "execution_count": null,
   "metadata": {},
   "outputs": [
    {
     "name": "stdout",
     "output_type": "stream",
     "text": [
      "tensor([7.7674e-01, 2.4540e-03, 1.0775e-01, 5.4676e-02, 2.0000e-13, 2.0000e-13,\n",
      "        2.0448e-02, 3.7338e-02, 5.9000e-04, 2.0000e-13])\n",
      "tensor([7.7196e-01, 3.6920e-03, 1.0863e-01, 5.3870e-02, 2.0000e-13, 2.0000e-13,\n",
      "        2.1088e-02, 3.9564e-02, 1.1940e-03, 2.0000e-13])\n",
      "tensor([7.6737e-01, 5.3000e-03, 1.0936e-01, 5.2886e-02, 2.0000e-13, 2.0000e-13,\n",
      "        2.1768e-02, 4.1296e-02, 2.0240e-03, 2.0000e-13])\n",
      "tensor([7.9465e-01, 2.1800e-03, 1.0134e-01, 5.0578e-02, 2.0000e-13, 2.0000e-13,\n",
      "        1.6836e-02, 3.3912e-02, 4.9600e-04, 2.0000e-13])\n",
      "tensor([7.8987e-01, 3.4180e-03, 1.0222e-01, 4.9772e-02, 2.0000e-13, 2.0000e-13,\n",
      "        1.7476e-02, 3.6138e-02, 1.1000e-03, 2.0000e-13])\n",
      "tensor([7.8528e-01, 5.0260e-03, 1.0295e-01, 4.8788e-02, 2.0000e-13, 2.0000e-13,\n",
      "        1.8156e-02, 3.7870e-02, 1.9300e-03, 2.0000e-13])\n",
      "tensor([8.1203e-01, 1.9980e-03, 9.4956e-02, 4.6236e-02, 2.0000e-13, 2.0000e-13,\n",
      "        1.3762e-02, 3.0628e-02, 3.9000e-04, 2.0000e-13])\n",
      "tensor([8.0725e-01, 3.2360e-03, 9.5836e-02, 4.5430e-02, 2.0000e-13, 2.0000e-13,\n",
      "        1.4402e-02, 3.2854e-02, 9.9400e-04, 2.0000e-13])\n",
      "tensor([8.0265e-01, 4.8440e-03, 9.6564e-02, 4.4446e-02, 2.0000e-13, 2.0000e-13,\n",
      "        1.5082e-02, 3.4586e-02, 1.8240e-03, 2.0000e-13])\n"
     ]
    },
    {
     "data": {
      "text/plain": [
       "<matplotlib.legend.Legend at 0x7f5d797a2e48>"
      ]
     },
     "execution_count": null,
     "metadata": {},
     "output_type": "execute_result"
    },
    {
     "data": {
      "image/png": "[encoded data removed]",
      "text/plain": [
       "<Figure size 864x576 with 1 Axes>"
      ]
     },
     "metadata": {},
     "output_type": "display_data"
    }
   ],
   "source": [
    "fig = plt.figure(figsize=(12,8))\n",
    "for r in [-1,0,1]:\n",
    "    for l in [-1,0,1]:\n",
    "        alpha = Tensor((r,l))[None,:]\n",
    "        s = interp_shape(alpha, **b_shapes).squeeze()\n",
    "        print(s)\n",
    "        plt.plot(s, label=f'{r} {l}')\n",
    "plt.legend()"
   ]
  },
  {
   "cell_type": "markdown",
   "metadata": {},
   "source": [
    "# Newton"
   ]
  },
  {
   "cell_type": "code",
   "execution_count": null,
   "metadata": {},
   "outputs": [],
   "source": [
    "profiler = partialler(calc_profile, n=1050, mu_scan=torch.linspace(20,80,61), true_mu=50)"
   ]
  },
  {
   "cell_type": "markdown",
   "metadata": {},
   "source": [
    "## BM 1\n",
    "r free, l fixed"
   ]
  },
  {
   "cell_type": "code",
   "execution_count": null,
   "metadata": {},
   "outputs": [],
   "source": [
    "bm1_b_shapes = OrderedDict([('f_b_nom', b_shapes['f_b_nom']),\n",
    "                            ('f_b_up',  b_shapes['f_b_up'][0][None,:]),\n",
    "                            ('f_b_dw',  b_shapes['f_b_dw'][0][None,:])])"
   ]
  },
  {
   "cell_type": "code",
   "execution_count": null,
   "metadata": {},
   "outputs": [
    {
     "data": {
      "text/plain": [
       "torch.Size([1, 10])"
      ]
     },
     "execution_count": null,
     "metadata": {},
     "output_type": "execute_result"
    }
   ],
   "source": [
    "bm1_b_shapes['f_b_up'].shape"
   ]
  },
  {
   "cell_type": "code",
   "execution_count": null,
   "metadata": {},
   "outputs": [],
   "source": [
    "nll,_ = profiler(f_s=f_s, n_steps=100, **bm1_b_shapes)"
   ]
  },
  {
   "cell_type": "code",
   "execution_count": null,
   "metadata": {},
   "outputs": [],
   "source": [
    "nll = to_np(nll)"
   ]
  },
  {
   "cell_type": "code",
   "execution_count": null,
   "metadata": {},
   "outputs": [
    {
     "data": {
      "image/png": "[encoded data removed]",
      "text/plain": [
       "<Figure size 1024x576 with 1 Axes>"
      ]
     },
     "metadata": {},
     "output_type": "display_data"
    }
   ],
   "source": [
    "plot_likelihood(nll-nll.min())"
   ]
  },
  {
   "cell_type": "markdown",
   "metadata": {},
   "source": [
    "## BM 1l\n",
    "r fixed, l free"
   ]
  },
  {
   "cell_type": "code",
   "execution_count": null,
   "metadata": {},
   "outputs": [],
   "source": [
    "bm1l_b_shapes = OrderedDict([('f_b_nom', b_shapes['f_b_nom']),\n",
    "                             ('f_b_up',  b_shapes['f_b_up'][1][None,:]),\n",
    "                             ('f_b_dw',  b_shapes['f_b_dw'][1][None,:])])"
   ]
  },
  {
   "cell_type": "code",
   "execution_count": null,
   "metadata": {},
   "outputs": [],
   "source": [
    "nll,_ = profiler(f_s=f_s, n_steps=100, **bm1l_b_shapes)"
   ]
  },
  {
   "cell_type": "code",
   "execution_count": null,
   "metadata": {},
   "outputs": [],
   "source": [
    "nll = to_np(nll)"
   ]
  },
  {
   "cell_type": "code",
   "execution_count": null,
   "metadata": {},
   "outputs": [
    {
     "data": {
      "image/png": "[encoded data removed]",
      "text/plain": [
       "<Figure size 1024x576 with 1 Axes>"
      ]
     },
     "metadata": {},
     "output_type": "display_data"
    }
   ],
   "source": [
    "plot_likelihood(nll-nll.min())"
   ]
  },
  {
   "cell_type": "markdown",
   "metadata": {},
   "source": [
    "## BM 2"
   ]
  },
  {
   "cell_type": "code",
   "execution_count": null,
   "metadata": {},
   "outputs": [],
   "source": [
    "nll,_ = profiler(f_s=f_s, n_steps=100, **b_shapes)"
   ]
  },
  {
   "cell_type": "code",
   "execution_count": null,
   "metadata": {},
   "outputs": [],
   "source": [
    "nll = to_np(nll)"
   ]
  },
  {
   "cell_type": "code",
   "execution_count": null,
   "metadata": {},
   "outputs": [
    {
     "data": {
      "image/png": "[encoded data removed]",
      "text/plain": [
       "<Figure size 1024x576 with 1 Axes>"
      ]
     },
     "metadata": {},
     "output_type": "display_data"
    }
   ],
   "source": [
    "plot_likelihood(nll-nll.min())"
   ]
  },
  {
   "cell_type": "code",
   "execution_count": null,
   "metadata": {},
   "outputs": [],
   "source": []
  }
 ],
 "metadata": {
  "kernelspec": {
   "display_name": "Python 3",
   "language": "python",
   "name": "python3"
  }
 },
 "nbformat": 4,
 "nbformat_minor": 2
}
