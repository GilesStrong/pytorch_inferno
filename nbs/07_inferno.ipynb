{
 "cells": [
  {
   "cell_type": "code",
   "execution_count": null,
   "metadata": {},
   "outputs": [],
   "source": [
    "# default_exp inferno"
   ]
  },
  {
   "cell_type": "code",
   "execution_count": null,
   "metadata": {},
   "outputs": [],
   "source": [
    "%matplotlib inline\n",
    "%reload_ext autoreload\n",
    "%autoreload 2"
   ]
  },
  {
   "cell_type": "markdown",
   "metadata": {},
   "source": [
    "# INFERNO loss\n",
    "\n",
    "> API details."
   ]
  },
  {
   "cell_type": "code",
   "execution_count": null,
   "metadata": {},
   "outputs": [],
   "source": [
    "#hide\n",
    "from nbdev.showdoc import *"
   ]
  },
  {
   "cell_type": "code",
   "execution_count": null,
   "metadata": {},
   "outputs": [],
   "source": [
    "from pytorch_inferno.model_wrapper import ModelWrapper\n",
    "from pytorch_inferno.callback import *\n",
    "from pytorch_inferno.data import get_paper_data\n",
    "from pytorch_inferno.plotting import *\n",
    "from pytorch_inferno.inference import *\n",
    "from pytorch_inferno.utils import *\n",
    "\n",
    "from fastcore.all import partialler\n",
    "import pandas as pd\n",
    "import numpy as np\n",
    "import matplotlib.pyplot as plt\n",
    "import seaborn as sns\n",
    "import itertools\n",
    "from typing import *\n",
    "from collections import OrderedDict\n",
    "from fastcore.all import store_attr\n",
    "from abc import abstractmethod\n",
    "\n",
    "import torch.nn as nn\n",
    "import torch.nn.functional as F\n",
    "from torch import optim\n",
    "import torch\n",
    "from torch import Tensor\n",
    "from torch import autograd"
   ]
  },
  {
   "cell_type": "markdown",
   "metadata": {},
   "source": [
    "# Network"
   ]
  },
  {
   "cell_type": "code",
   "execution_count": null,
   "metadata": {},
   "outputs": [],
   "source": [
    "bs = 2000\n",
    "data, test = get_paper_data(200000, bm=0, bs=bs, n_test=1000000)"
   ]
  },
  {
   "cell_type": "code",
   "execution_count": null,
   "metadata": {},
   "outputs": [],
   "source": [
    "# export\n",
    "class VariableSoftmax(nn.Softmax):\n",
    "    def __init__(self, temp:float=1, dim:int=-1):\n",
    "        super().__init__(dim=dim)\n",
    "        self.temp = temp\n",
    "        \n",
    "    def forward(self, x:Tensor) -> Tensor: return super().forward(x/self.temp)"
   ]
  },
  {
   "cell_type": "code",
   "execution_count": null,
   "metadata": {},
   "outputs": [],
   "source": [
    "x = torch.randn((1,10))"
   ]
  },
  {
   "cell_type": "code",
   "execution_count": null,
   "metadata": {},
   "outputs": [
    {
     "data": {
      "text/plain": [
       "(tensor([[2.8165e-06, 5.6471e-03, 2.3061e-13, 9.8380e-01, 3.8285e-17, 7.5622e-04,\n",
       "          2.9185e-15, 9.7832e-03, 6.3891e-06, 3.6494e-09]]),\n",
       " tensor([[3.5602e-02, 1.6289e-01, 1.3618e-03, 4.5721e-01, 2.3886e-04, 1.0896e-01,\n",
       "          5.6828e-04, 1.8181e-01, 4.1939e-02, 9.4184e-03]]),\n",
       " tensor([[0.0785, 0.1680, 0.0154, 0.2814, 0.0064, 0.1374, 0.0099, 0.1774, 0.0852,\n",
       "          0.0404]]))"
      ]
     },
     "execution_count": null,
     "metadata": {},
     "output_type": "execute_result"
    }
   ],
   "source": [
    "VariableSoftmax(0.1)(x), VariableSoftmax(0.5)(x), VariableSoftmax(1)(x)"
   ]
  },
  {
   "cell_type": "code",
   "execution_count": null,
   "metadata": {},
   "outputs": [],
   "source": [
    "net = nn.Sequential(nn.Linear(3,100),  nn.ReLU(),\n",
    "                    nn.Linear(100,100),nn.ReLU(),\n",
    "                    nn.Linear(100,10), VariableSoftmax(0.1))\n",
    "init_net(net)"
   ]
  },
  {
   "cell_type": "markdown",
   "metadata": {},
   "source": [
    "# Loss"
   ]
  },
  {
   "cell_type": "code",
   "execution_count": null,
   "metadata": {},
   "outputs": [],
   "source": [
    "x,y,w = next(iter(data.trn_dl))\n",
    "preds = net(x)\n",
    "assert preds.shape == (bs,10)"
   ]
  },
  {
   "cell_type": "code",
   "execution_count": null,
   "metadata": {},
   "outputs": [],
   "source": [
    "def to_shape(p:Tensor) -> Tensor:\n",
    "    f = p.sum(0)\n",
    "    f = f/f.sum()\n",
    "    return f"
   ]
  },
  {
   "cell_type": "code",
   "execution_count": null,
   "metadata": {},
   "outputs": [],
   "source": [
    "m = y.squeeze()==0\n",
    "f_s = to_shape(preds[~m])\n",
    "f_b = to_shape(preds[m])"
   ]
  },
  {
   "cell_type": "code",
   "execution_count": null,
   "metadata": {},
   "outputs": [
    {
     "data": {
      "text/plain": [
       "[<matplotlib.lines.Line2D at 0x7fcef3a9dc18>]"
      ]
     },
     "execution_count": null,
     "metadata": {},
     "output_type": "execute_result"
    },
    {
     "data": {
      "image/png": "[encoded data removed]",
      "text/plain": [
       "<Figure size 432x288 with 1 Axes>"
      ]
     },
     "metadata": {},
     "output_type": "display_data"
    }
   ],
   "source": [
    "plt.plot(to_np(f_s))\n",
    "plt.plot(to_np(f_b))"
   ]
  },
  {
   "cell_type": "code",
   "execution_count": null,
   "metadata": {},
   "outputs": [],
   "source": [
    "with torch.no_grad():\n",
    "    u,d = [],[]\n",
    "    b = x[m]\n",
    "    b[:,0] += 0.2\n",
    "    u.append(to_shape(net(b)))\n",
    "    b[:,0] -= 0.2\n",
    "    b[:,2] *= 3.5/3\n",
    "    u.append(to_shape(net(b)))\n",
    "    b[:,2] /= 3.5/3\n",
    "    b[:,0] -= 0.2\n",
    "    d.append(to_shape(net(b)))\n",
    "    b[:,0] += 0.2\n",
    "    b[:,2] *= 2.5/3\n",
    "    d.append(to_shape(net(b)))\n",
    "    b[:,2] /= 2.5/3\n",
    "    b_up,b_dw = torch.stack(u),torch.stack(d)"
   ]
  },
  {
   "cell_type": "code",
   "execution_count": null,
   "metadata": {},
   "outputs": [],
   "source": [
    "nll,alpha = calc_profile(f_s=f_s, f_b_nom=f_b, f_b_up=b_up, f_b_dw=b_dw, verbose=False, n=1050, mu_scan=torch.linspace(20,80,61), true_mu=50)"
   ]
  },
  {
   "cell_type": "code",
   "execution_count": null,
   "metadata": {},
   "outputs": [
    {
     "data": {
      "text/plain": [
       "tensor([13.0937, 13.0649, 13.0363, 13.0095, 12.9839, 12.9579, 12.9341, 12.9106,\n",
       "        12.8893, 12.8680, 12.8480, 12.8286, 12.8108, 12.7937, 12.7773, 12.7620,\n",
       "        12.7482, 12.7352, 12.7232, 12.7118, 12.7011, 12.6919, 12.6834, 12.6759,\n",
       "        12.6692, 12.6640, 12.6595, 12.6562, 12.6537, 12.6523, 12.6517, 12.6524,\n",
       "        12.6537, 12.6559, 12.6594, 12.6647, 12.6703, 12.6768, 12.6846, 12.6938,\n",
       "        12.7034, 12.7147, 12.7269, 12.7400, 12.7540, 12.7689, 12.7856, 12.8031,\n",
       "        12.8215, 12.8409, 12.8616, 12.8833, 12.9061, 12.9290, 12.9541, 12.9802,\n",
       "        13.0066, 13.0344, 13.0630, 13.0930, 13.1239], grad_fn=<NegBackward>)"
      ]
     },
     "execution_count": null,
     "metadata": {},
     "output_type": "execute_result"
    }
   ],
   "source": [
    "nll"
   ]
  },
  {
   "cell_type": "code",
   "execution_count": null,
   "metadata": {},
   "outputs": [],
   "source": [
    "nll = nll-nll[nll==nll].min()-0.5"
   ]
  },
  {
   "cell_type": "code",
   "execution_count": null,
   "metadata": {},
   "outputs": [
    {
     "data": {
      "text/plain": [
       "tensor([-0.0579, -0.0868, -0.1154, -0.1421, -0.1678, -0.1937, -0.2175, -0.2410,\n",
       "        -0.2624, -0.2837, -0.3037, -0.3230, -0.3409, -0.3579, -0.3744, -0.3897,\n",
       "        -0.4034, -0.4165, -0.4285, -0.4399, -0.4506, -0.4598, -0.4683, -0.4758,\n",
       "        -0.4825, -0.4876, -0.4922, -0.4955, -0.4980, -0.4994, -0.5000, -0.4993,\n",
       "        -0.4979, -0.4958, -0.4923, -0.4869, -0.4813, -0.4749, -0.4670, -0.4579,\n",
       "        -0.4483, -0.4370, -0.4248, -0.4117, -0.3977, -0.3828, -0.3661, -0.3485,\n",
       "        -0.3301, -0.3108, -0.2900, -0.2684, -0.2456, -0.2227, -0.1975, -0.1715,\n",
       "        -0.1451, -0.1172, -0.0886, -0.0586, -0.0277], grad_fn=<SubBackward0>)"
      ]
     },
     "execution_count": null,
     "metadata": {},
     "output_type": "execute_result"
    }
   ],
   "source": [
    "nll"
   ]
  },
  {
   "cell_type": "code",
   "execution_count": null,
   "metadata": {},
   "outputs": [],
   "source": [
    "def get_diff_width(nll:Tensor, mu_scan:np.ndarray) -> Tensor:\n",
    "    def lin_root(nll0,nll1,mu0,mu1):\n",
    "        a = (nll1-nll0)/(mu1-mu0)\n",
    "        b = nll1-(a*mu1)\n",
    "        return -b/a\n",
    "    \n",
    "    u,r,last_mu,last_nll = True,torch.zeros((2)),mu_scan[0],nll[0]\n",
    "\n",
    "    for mu,l in zip(mu_scan[1:],nll[1:]):\n",
    "        if u and l < 0:\n",
    "            r[0] = lin_root(last_nll,l,last_mu,mu)\n",
    "            u = False\n",
    "        elif not u and l > 0:\n",
    "            r[1] = lin_root(last_nll,l,last_mu,mu)\n",
    "            break\n",
    "        if l == l: last_mu,last_nll = mu,l\n",
    "    return r[1]-r[0]"
   ]
  },
  {
   "cell_type": "code",
   "execution_count": null,
   "metadata": {},
   "outputs": [
    {
     "data": {
      "text/plain": [
       "tensor(-17.9897, grad_fn=<SubBackward0>)"
      ]
     },
     "execution_count": null,
     "metadata": {},
     "output_type": "execute_result"
    }
   ],
   "source": [
    "w = get_diff_width(nll, mu_scan=np.linspace(20,80,61)); w"
   ]
  },
  {
   "cell_type": "code",
   "execution_count": null,
   "metadata": {},
   "outputs": [],
   "source": [
    "# export\n",
    "class AbsInferno(AbsCallback):\n",
    "    def __init__(self, n:int, mu_scan:Tensor, true_mu:int, n_steps:int=100, lr:float=0.1):\n",
    "        super().__init__()\n",
    "        store_attr()\n",
    "        \n",
    "    def on_train_begin(self) -> None:\n",
    "        r'''\n",
    "        Fake loss function, callback computes loss in `on_forwards_end`\n",
    "        '''\n",
    "        self.wrapper.loss_func = lambda x,y: None\n",
    "        self.profiler = partialler(calc_profile, n=self.n, mu_scan=to_device(self.mu_scan, self.wrapper.device), true_mu=self.true_mu,\n",
    "                                   n_steps=self.n_steps, lr=self.lr, verbose=False)\n",
    "        \n",
    "    @staticmethod\n",
    "    def _to_shape(p:Tensor) -> Tensor:\n",
    "        f = p.sum(0)\n",
    "        f = f + 1e-7\n",
    "        f = f/f.sum()\n",
    "        return f\n",
    "    \n",
    "    @abstractmethod\n",
    "    def _get_up_down(self, x:Tensor) -> Tuple[Tensor,Tensor]: pass\n",
    "        \n",
    "    def _get_diff_width(self, nll:Tensor) -> Tensor:\n",
    "        def lin_root(nll0,nll1,mu0,mu1):\n",
    "            a = (nll1-nll0)/(mu1-mu0)\n",
    "            b = nll1-(a*mu1)\n",
    "            return -b/a\n",
    "\n",
    "        u,r,last_mu,last_nll = True,torch.zeros((2)),self.mu_scan[0],nll[0]\n",
    "        for mu,l in zip(self.mu_scan[1:],nll[1:]):\n",
    "            if u and l < 0:\n",
    "                r[0] = lin_root(last_nll,l,last_mu,mu)\n",
    "                u = False\n",
    "            elif not u and l > 0:\n",
    "                r[1] = lin_root(last_nll,l,last_mu,mu)\n",
    "                break\n",
    "            if l == l: last_mu,last_nll = mu,l\n",
    "        return r[1]-r[0]\n",
    "        \n",
    "    def on_forwards_end(self) -> None:\n",
    "        # Get sig. & bkg. shapes\n",
    "        b = self.wrapper.y.squeeze()==0\n",
    "        f_s = self._to_shape(self.wrapper.y_pred[~b])\n",
    "        f_b = self._to_shape(self.wrapper.y_pred[b])\n",
    "        f_b_up,f_b_dw = self._get_up_down(self.wrapper.x[b])\n",
    "        \n",
    "        # Compute nll\n",
    "        nll,_ = self.profiler(f_s=f_s, f_b_nom=f_b, f_b_up=f_b_up, f_b_dw=f_b_dw)\n",
    "        try: nll = nll-nll[nll==nll].min()-0.5\n",
    "        except RuntimeError: print(nll, self.wrapper.y_pred)\n",
    "        w = self._get_diff_width(nll)\n",
    "        self.wrapper.loss_val = torch.clamp_min(w, 0)"
   ]
  },
  {
   "cell_type": "code",
   "execution_count": null,
   "metadata": {},
   "outputs": [],
   "source": [
    "# export\n",
    "class PaperInferno(AbsInferno):\n",
    "    def __init__(self, n:int=1050, mu_scan:Tensor=torch.linspace(20,80,61), true_mu:int=50, n_steps:int=100, lr:float=0.1):\n",
    "        super().__init__(n=n, mu_scan=mu_scan, true_mu=true_mu, n_steps=n_steps, lr=lr)\n",
    "    \n",
    "    def _get_up_down(self, x:Tensor) -> Tuple[Tensor,Tensor]:\n",
    "        with torch.no_grad():\n",
    "            u,d = [],[]\n",
    "            x[:,0] += 0.2\n",
    "            u.append(self._to_shape(self.wrapper.model(x)))\n",
    "            x[:,0] -= 0.2\n",
    "            x[:,2] *= 3.5/3\n",
    "            u.append(self._to_shape(self.wrapper.model(x)))\n",
    "            x[:,2] /= 3.5/3\n",
    "            x[:,0] -= 0.2\n",
    "            d.append(self._to_shape(self.wrapper.model(x)))\n",
    "            x[:,0] += 0.2\n",
    "            x[:,2] *= 2.5/3\n",
    "            d.append(self._to_shape(self.wrapper.model(x)))\n",
    "            x[:,2] /= 2.5/3\n",
    "            return torch.stack(u),torch.stack(d)"
   ]
  },
  {
   "cell_type": "markdown",
   "metadata": {},
   "source": [
    "# Test"
   ]
  },
  {
   "cell_type": "code",
   "execution_count": null,
   "metadata": {},
   "outputs": [
    {
     "data": {
      "text/html": [
       "\n",
       "    <div>\n",
       "        <style>\n",
       "            /* Turns off some styling */\n",
       "            progress {\n",
       "                /* gets rid of default border in Firefox and Opera. */\n",
       "                border: none;\n",
       "                /* Needs to be in here for Safari polyfill so background images work as expected. */\n",
       "                background-size: auto;\n",
       "            }\n",
       "            .progress-bar-interrupted, .progress-bar-interrupted::-webkit-progress-bar {\n",
       "                background: #F44336;\n",
       "            }\n",
       "        </style>\n",
       "      <progress value='1' class='' max='200', style='width:300px; height:20px; vertical-align: middle;'></progress>\n",
       "      0.50% [1/200 00:38<2:06:54]\n",
       "    </div>\n",
       "    \n",
       "\n",
       "\n",
       "    <div>\n",
       "        <style>\n",
       "            /* Turns off some styling */\n",
       "            progress {\n",
       "                /* gets rid of default border in Firefox and Opera. */\n",
       "                border: none;\n",
       "                /* Needs to be in here for Safari polyfill so background images work as expected. */\n",
       "                background-size: auto;\n",
       "            }\n",
       "            .progress-bar-interrupted, .progress-bar-interrupted::-webkit-progress-bar {\n",
       "                background: #F44336;\n",
       "            }\n",
       "        </style>\n",
       "      <progress value='0' class='progress-bar-interrupted' max='100', style='width:300px; height:20px; vertical-align: middle;'></progress>\n",
       "      Interrupted\n",
       "    </div>\n",
       "    "
      ],
      "text/plain": [
       "<IPython.core.display.HTML object>"
      ]
     },
     "metadata": {},
     "output_type": "display_data"
    },
    {
     "name": "stdout",
     "output_type": "stream",
     "text": [
      "Train: 5.862639656066895 Valid: 34.12641174316406\n",
      "tensor([nan, nan, nan, nan, nan, nan, nan, nan, nan, nan, nan, nan, nan, nan, nan, nan, nan, nan, nan, nan, nan, nan, nan, nan,\n",
      "        nan, nan, nan, nan, nan, nan, nan, nan, nan, nan, nan, nan, nan, nan, nan, nan, nan, nan, nan, nan, nan, nan, nan, nan,\n",
      "        nan, nan, nan, nan, nan, nan, nan, nan, nan, nan, nan, nan, nan],\n",
      "       device='cuda:0', grad_fn=<NegBackward>) tensor([[nan, nan, nan,  ..., nan, nan, nan],\n",
      "        [nan, nan, nan,  ..., nan, nan, nan],\n",
      "        [nan, nan, nan,  ..., nan, nan, nan],\n",
      "        ...,\n",
      "        [nan, nan, nan,  ..., nan, nan, nan],\n",
      "        [nan, nan, nan,  ..., nan, nan, nan],\n",
      "        [nan, nan, nan,  ..., nan, nan, nan]], device='cuda:0',\n",
      "       grad_fn=<SoftmaxBackward>)\n"
     ]
    },
    {
     "ename": "RuntimeError",
     "evalue": "element 0 of tensors does not require grad and does not have a grad_fn",
     "output_type": "error",
     "traceback": [
      "\u001b[0;31m---------------------------------------------------------------------------\u001b[0m",
      "\u001b[0;31mRuntimeError\u001b[0m                              Traceback (most recent call last)",
      "\u001b[0;32m<ipython-input-32-5157f568ad20>\u001b[0m in \u001b[0;36m<module>\u001b[0;34m()\u001b[0m\n\u001b[1;32m      5\u001b[0m \u001b[0mmodel\u001b[0m \u001b[0;34m=\u001b[0m \u001b[0mModelWrapper\u001b[0m\u001b[0;34m(\u001b[0m\u001b[0mnet\u001b[0m\u001b[0;34m)\u001b[0m\u001b[0;34m\u001b[0m\u001b[0m\n\u001b[1;32m      6\u001b[0m model.fit(200, data=data, opt=partialler(optim.SGD,lr=1e-6), loss=nn.BCELoss(),\n\u001b[0;32m----> 7\u001b[0;31m           cbs=[PaperInferno(),LossTracker(),EarlyStopping(5),GradClip(1e-5)])\n\u001b[0m\u001b[1;32m      8\u001b[0m \u001b[0;34m\u001b[0m\u001b[0m\n\u001b[1;32m      9\u001b[0m \u001b[0mmodel\u001b[0m\u001b[0;34m.\u001b[0m\u001b[0msave\u001b[0m\u001b[0;34m(\u001b[0m\u001b[0;34m'weights/BCE_Test.h5'\u001b[0m\u001b[0;34m)\u001b[0m\u001b[0;34m\u001b[0m\u001b[0m\n",
      "\u001b[0;32m~/cernbox/pytorch_inferno/pytorch_inferno/model_wrapper.py\u001b[0m in \u001b[0;36mfit\u001b[0;34m(self, n_epochs, data, opt, loss, cbs)\u001b[0m\n\u001b[1;32m     65\u001b[0m         \u001b[0mself\u001b[0m\u001b[0;34m.\u001b[0m\u001b[0mmb\u001b[0m \u001b[0;34m=\u001b[0m \u001b[0mmaster_bar\u001b[0m\u001b[0;34m(\u001b[0m\u001b[0mrange\u001b[0m\u001b[0;34m(\u001b[0m\u001b[0mself\u001b[0m\u001b[0;34m.\u001b[0m\u001b[0mn_epochs\u001b[0m\u001b[0;34m)\u001b[0m\u001b[0;34m)\u001b[0m\u001b[0;34m\u001b[0m\u001b[0m\n\u001b[1;32m     66\u001b[0m         \u001b[0;32mfor\u001b[0m \u001b[0me\u001b[0m \u001b[0;32min\u001b[0m \u001b[0mself\u001b[0m\u001b[0;34m.\u001b[0m\u001b[0mmb\u001b[0m\u001b[0;34m:\u001b[0m\u001b[0;34m\u001b[0m\u001b[0m\n\u001b[0;32m---> 67\u001b[0;31m             \u001b[0mfit_epoch\u001b[0m\u001b[0;34m(\u001b[0m\u001b[0me\u001b[0m\u001b[0;34m)\u001b[0m\u001b[0;34m\u001b[0m\u001b[0m\n\u001b[0m\u001b[1;32m     68\u001b[0m             \u001b[0;32mif\u001b[0m \u001b[0mself\u001b[0m\u001b[0;34m.\u001b[0m\u001b[0mstop\u001b[0m\u001b[0;34m:\u001b[0m \u001b[0;32mbreak\u001b[0m\u001b[0;34m\u001b[0m\u001b[0m\n\u001b[1;32m     69\u001b[0m         \u001b[0;32mfor\u001b[0m \u001b[0mc\u001b[0m \u001b[0;32min\u001b[0m \u001b[0mself\u001b[0m\u001b[0;34m.\u001b[0m\u001b[0mcbs\u001b[0m\u001b[0;34m:\u001b[0m \u001b[0mc\u001b[0m\u001b[0;34m.\u001b[0m\u001b[0mon_train_end\u001b[0m\u001b[0;34m(\u001b[0m\u001b[0;34m)\u001b[0m\u001b[0;34m\u001b[0m\u001b[0m\n",
      "\u001b[0;32m~/cernbox/pytorch_inferno/pytorch_inferno/model_wrapper.py\u001b[0m in \u001b[0;36mfit_epoch\u001b[0;34m(epoch)\u001b[0m\n\u001b[1;32m     47\u001b[0m             \u001b[0mself\u001b[0m\u001b[0;34m.\u001b[0m\u001b[0mepoch\u001b[0m \u001b[0;34m=\u001b[0m \u001b[0mepoch\u001b[0m\u001b[0;34m\u001b[0m\u001b[0m\n\u001b[1;32m     48\u001b[0m             \u001b[0;32mfor\u001b[0m \u001b[0mc\u001b[0m \u001b[0;32min\u001b[0m \u001b[0mself\u001b[0m\u001b[0;34m.\u001b[0m\u001b[0mcbs\u001b[0m\u001b[0;34m:\u001b[0m \u001b[0mc\u001b[0m\u001b[0;34m.\u001b[0m\u001b[0mon_epoch_begin\u001b[0m\u001b[0;34m(\u001b[0m\u001b[0;34m)\u001b[0m\u001b[0;34m\u001b[0m\u001b[0m\n\u001b[0;32m---> 49\u001b[0;31m             \u001b[0;32mfor\u001b[0m \u001b[0mb\u001b[0m \u001b[0;32min\u001b[0m \u001b[0mprogress_bar\u001b[0m\u001b[0;34m(\u001b[0m\u001b[0mself\u001b[0m\u001b[0;34m.\u001b[0m\u001b[0mdata\u001b[0m\u001b[0;34m.\u001b[0m\u001b[0mtrn_dl\u001b[0m\u001b[0;34m,\u001b[0m \u001b[0mparent\u001b[0m\u001b[0;34m=\u001b[0m\u001b[0mself\u001b[0m\u001b[0;34m.\u001b[0m\u001b[0mmb\u001b[0m\u001b[0;34m)\u001b[0m\u001b[0;34m:\u001b[0m \u001b[0mself\u001b[0m\u001b[0;34m.\u001b[0m\u001b[0m_fit_batch\u001b[0m\u001b[0;34m(\u001b[0m\u001b[0;34m*\u001b[0m\u001b[0mb\u001b[0m\u001b[0;34m)\u001b[0m\u001b[0;34m\u001b[0m\u001b[0m\n\u001b[0m\u001b[1;32m     50\u001b[0m             \u001b[0;32mfor\u001b[0m \u001b[0mc\u001b[0m \u001b[0;32min\u001b[0m \u001b[0mself\u001b[0m\u001b[0;34m.\u001b[0m\u001b[0mcbs\u001b[0m\u001b[0;34m:\u001b[0m \u001b[0mc\u001b[0m\u001b[0;34m.\u001b[0m\u001b[0mon_epoch_end\u001b[0m\u001b[0;34m(\u001b[0m\u001b[0;34m)\u001b[0m\u001b[0;34m\u001b[0m\u001b[0m\n\u001b[1;32m     51\u001b[0m \u001b[0;34m\u001b[0m\u001b[0m\n",
      "\u001b[0;32m~/cernbox/pytorch_inferno/pytorch_inferno/model_wrapper.py\u001b[0m in \u001b[0;36m_fit_batch\u001b[0;34m(self, x, y, w)\u001b[0m\n\u001b[1;32m     35\u001b[0m         \u001b[0mself\u001b[0m\u001b[0;34m.\u001b[0m\u001b[0mopt\u001b[0m\u001b[0;34m.\u001b[0m\u001b[0mzero_grad\u001b[0m\u001b[0;34m(\u001b[0m\u001b[0;34m)\u001b[0m\u001b[0;34m\u001b[0m\u001b[0m\n\u001b[1;32m     36\u001b[0m         \u001b[0;32mfor\u001b[0m \u001b[0mc\u001b[0m \u001b[0;32min\u001b[0m \u001b[0mself\u001b[0m\u001b[0;34m.\u001b[0m\u001b[0mcbs\u001b[0m\u001b[0;34m:\u001b[0m \u001b[0mc\u001b[0m\u001b[0;34m.\u001b[0m\u001b[0mon_backwards_begin\u001b[0m\u001b[0;34m(\u001b[0m\u001b[0;34m)\u001b[0m\u001b[0;34m\u001b[0m\u001b[0m\n\u001b[0;32m---> 37\u001b[0;31m         \u001b[0mself\u001b[0m\u001b[0;34m.\u001b[0m\u001b[0mloss_val\u001b[0m\u001b[0;34m.\u001b[0m\u001b[0mbackward\u001b[0m\u001b[0;34m(\u001b[0m\u001b[0;34m)\u001b[0m\u001b[0;34m\u001b[0m\u001b[0m\n\u001b[0m\u001b[1;32m     38\u001b[0m         \u001b[0;32mfor\u001b[0m \u001b[0mc\u001b[0m \u001b[0;32min\u001b[0m \u001b[0mself\u001b[0m\u001b[0;34m.\u001b[0m\u001b[0mcbs\u001b[0m\u001b[0;34m:\u001b[0m \u001b[0mc\u001b[0m\u001b[0;34m.\u001b[0m\u001b[0mon_backwards_end\u001b[0m\u001b[0;34m(\u001b[0m\u001b[0;34m)\u001b[0m\u001b[0;34m\u001b[0m\u001b[0m\n\u001b[1;32m     39\u001b[0m         \u001b[0mself\u001b[0m\u001b[0;34m.\u001b[0m\u001b[0mopt\u001b[0m\u001b[0;34m.\u001b[0m\u001b[0mstep\u001b[0m\u001b[0;34m(\u001b[0m\u001b[0;34m)\u001b[0m\u001b[0;34m\u001b[0m\u001b[0m\n",
      "\u001b[0;32m~/anaconda3/lib/python3.6/site-packages/torch/tensor.py\u001b[0m in \u001b[0;36mbackward\u001b[0;34m(self, gradient, retain_graph, create_graph)\u001b[0m\n\u001b[1;32m    183\u001b[0m                 \u001b[0mproducts\u001b[0m\u001b[0;34m.\u001b[0m \u001b[0mDefaults\u001b[0m \u001b[0mto\u001b[0m\u001b[0;31m \u001b[0m\u001b[0;31m`\u001b[0m\u001b[0;31m`\u001b[0m\u001b[0;32mFalse\u001b[0m\u001b[0;31m`\u001b[0m\u001b[0;31m`\u001b[0m\u001b[0;34m.\u001b[0m\u001b[0;34m\u001b[0m\u001b[0m\n\u001b[1;32m    184\u001b[0m         \"\"\"\n\u001b[0;32m--> 185\u001b[0;31m         \u001b[0mtorch\u001b[0m\u001b[0;34m.\u001b[0m\u001b[0mautograd\u001b[0m\u001b[0;34m.\u001b[0m\u001b[0mbackward\u001b[0m\u001b[0;34m(\u001b[0m\u001b[0mself\u001b[0m\u001b[0;34m,\u001b[0m \u001b[0mgradient\u001b[0m\u001b[0;34m,\u001b[0m \u001b[0mretain_graph\u001b[0m\u001b[0;34m,\u001b[0m \u001b[0mcreate_graph\u001b[0m\u001b[0;34m)\u001b[0m\u001b[0;34m\u001b[0m\u001b[0m\n\u001b[0m\u001b[1;32m    186\u001b[0m \u001b[0;34m\u001b[0m\u001b[0m\n\u001b[1;32m    187\u001b[0m     \u001b[0;32mdef\u001b[0m \u001b[0mregister_hook\u001b[0m\u001b[0;34m(\u001b[0m\u001b[0mself\u001b[0m\u001b[0;34m,\u001b[0m \u001b[0mhook\u001b[0m\u001b[0;34m)\u001b[0m\u001b[0;34m:\u001b[0m\u001b[0;34m\u001b[0m\u001b[0m\n",
      "\u001b[0;32m~/anaconda3/lib/python3.6/site-packages/torch/autograd/__init__.py\u001b[0m in \u001b[0;36mbackward\u001b[0;34m(tensors, grad_tensors, retain_graph, create_graph, grad_variables)\u001b[0m\n\u001b[1;32m    125\u001b[0m     Variable._execution_engine.run_backward(\n\u001b[1;32m    126\u001b[0m         \u001b[0mtensors\u001b[0m\u001b[0;34m,\u001b[0m \u001b[0mgrad_tensors\u001b[0m\u001b[0;34m,\u001b[0m \u001b[0mretain_graph\u001b[0m\u001b[0;34m,\u001b[0m \u001b[0mcreate_graph\u001b[0m\u001b[0;34m,\u001b[0m\u001b[0;34m\u001b[0m\u001b[0m\n\u001b[0;32m--> 127\u001b[0;31m         allow_unreachable=True)  # allow_unreachable flag\n\u001b[0m\u001b[1;32m    128\u001b[0m \u001b[0;34m\u001b[0m\u001b[0m\n\u001b[1;32m    129\u001b[0m \u001b[0;34m\u001b[0m\u001b[0m\n",
      "\u001b[0;31mRuntimeError\u001b[0m: element 0 of tensors does not require grad and does not have a grad_fn"
     ]
    }
   ],
   "source": [
    "net = nn.Sequential(nn.Linear(3,100),  nn.ReLU(),\n",
    "                    nn.Linear(100,100),nn.ReLU(),\n",
    "                    nn.Linear(100,10), VariableSoftmax(0.1))\n",
    "init_net(net)\n",
    "model = ModelWrapper(net)\n",
    "model.fit(200, data=data, opt=partialler(optim.SGD,lr=1e-6), loss=nn.BCELoss(),\n",
    "          cbs=[PaperInferno(),LossTracker(),EarlyStopping(5),GradClip(1e-5)])\n",
    "\n",
    "model.save('weights/BCE_Test.h5')"
   ]
  },
  {
   "cell_type": "code",
   "execution_count": null,
   "metadata": {},
   "outputs": [],
   "source": []
  },
  {
   "cell_type": "code",
   "execution_count": null,
   "metadata": {},
   "outputs": [],
   "source": []
  }
 ],
 "metadata": {
  "kernelspec": {
   "display_name": "Python 3",
   "language": "python",
   "name": "python3"
  }
 },
 "nbformat": 4,
 "nbformat_minor": 2
}
