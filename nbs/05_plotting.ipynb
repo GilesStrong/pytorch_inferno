{
 "cells": [
  {
   "cell_type": "code",
   "execution_count": null,
   "metadata": {},
   "outputs": [],
   "source": [
    "# default_exp plotting"
   ]
  },
  {
   "cell_type": "code",
   "execution_count": null,
   "metadata": {},
   "outputs": [],
   "source": [
    "%matplotlib inline\n",
    "%reload_ext autoreload\n",
    "%autoreload 2"
   ]
  },
  {
   "cell_type": "markdown",
   "metadata": {},
   "source": [
    "# Plotting\n",
    "\n",
    "Collection of plotting functions for results"
   ]
  },
  {
   "cell_type": "code",
   "execution_count": null,
   "metadata": {},
   "outputs": [],
   "source": [
    "# export\n",
    "from pytorch_inferno.inference import get_likelihood_width\n",
    "\n",
    "import pandas as pd\n",
    "import numpy as np\n",
    "import matplotlib.pyplot as plt\n",
    "import seaborn as sns\n",
    "from typing import Optional, Union, List, Dict\n",
    "import numpy as np\n",
    "\n",
    "from torch import Tensor\n",
    "\n",
    "from fastcore.all import is_listy"
   ]
  },
  {
   "cell_type": "code",
   "execution_count": null,
   "metadata": {},
   "outputs": [],
   "source": [
    "# export\n",
    "plt_style    = {'style':'whitegrid', 'rc':{'patch.edgecolor':'none'}}\n",
    "plt_sz       = 8\n",
    "plt_cat_pal  = 'tab10'\n",
    "plt_tk_sz    = 16     \n",
    "plt_lbl_sz   = 24\n",
    "plt_title_sz = 26 \n",
    "plt_leg_sz   = 16"
   ]
  },
  {
   "cell_type": "markdown",
   "metadata": {},
   "source": [
    "## Prediction histograms"
   ]
  },
  {
   "cell_type": "code",
   "execution_count": null,
   "metadata": {},
   "outputs": [],
   "source": [
    "# export\n",
    "def plot_preds(df:pd.DataFrame, bin_edges:np.ndarray=np.linspace(0.,1.,11), pred_names:Union[List[str],str]='pred') -> None:\n",
    "    r'''Plots predictions and background variations'''\n",
    "    if not is_listy(pred_names): pred_names = [pred_names]\n",
    "    with sns.axes_style(**plt_style), sns.color_palette(plt_cat_pal) as palette:\n",
    "        plt.figure(figsize=(plt_sz*16/9, plt_sz))\n",
    "        for t,n in ((1,'Signal'),(0,'Background')):\n",
    "            cut = (df['gen_target'] == t)\n",
    "            hist_kws = {} if 'gen_weight' not in df.columns else {'weights':wgt_scale*df.loc[cut, 'gen_weight']}\n",
    "            if t == 0:\n",
    "                for i,p in enumerate(pred_names):\n",
    "                    d = df.loc[cut, p]\n",
    "                    sns.distplot(d, bins=bin_edges, label=f'{n}_{p}' if i > 0 else n, norm_hist=True, kde=False,\n",
    "                                 hist_kws={'fill':not i > 0, 'edgecolor':palette[i+1] if i > 0 else None,\n",
    "                                           'linewidth':2 if i > 0 else 1, **hist_kws})\n",
    "            else:\n",
    "                sns.distplot(df.loc[cut, pred_names[0]], bins=bin_edges, label=f'{n}', hist_kws=hist_kws, norm_hist=True, kde=False)\n",
    "        plt.legend(fontsize=plt_leg_sz)\n",
    "        plt.xlabel(\"Class prediction\", fontsize=plt_lbl_sz)\n",
    "        plt.ylabel(r\"$\\frac{1}{N}\\ \\frac{dN}{dp}$\", fontsize=plt_lbl_sz)\n",
    "        plt.xticks(fontsize=plt_tk_sz)\n",
    "        plt.yticks(fontsize=plt_tk_sz)\n",
    "        plt.show() "
   ]
  },
  {
   "cell_type": "code",
   "execution_count": null,
   "metadata": {},
   "outputs": [],
   "source": [
    "s,b = np.random.normal(1,0.5,1000),np.random.normal(0,0.5,1000)\n",
    "s,b = s[(s<1)&(s>0)][:,None],b[(b<1)&(b>0)][:,None]\n",
    "s,b = np.hstack((s,np.ones_like(s))),np.hstack((b,np.zeros_like(b)))\n",
    "d = np.vstack((s,b))\n",
    "df = pd.DataFrame({'pred':d[:,0],'gen_target':d[:,1]})"
   ]
  },
  {
   "cell_type": "code",
   "execution_count": null,
   "metadata": {},
   "outputs": [
    {
     "data": {
      "text/html": [
       "<div>\n",
       "<style scoped>\n",
       "    .dataframe tbody tr th:only-of-type {\n",
       "        vertical-align: middle;\n",
       "    }\n",
       "\n",
       "    .dataframe tbody tr th {\n",
       "        vertical-align: top;\n",
       "    }\n",
       "\n",
       "    .dataframe thead th {\n",
       "        text-align: right;\n",
       "    }\n",
       "</style>\n",
       "<table border=\"1\" class=\"dataframe\">\n",
       "  <thead>\n",
       "    <tr style=\"text-align: right;\">\n",
       "      <th></th>\n",
       "      <th>pred</th>\n",
       "      <th>gen_target</th>\n",
       "    </tr>\n",
       "  </thead>\n",
       "  <tbody>\n",
       "    <tr>\n",
       "      <th>0</th>\n",
       "      <td>0.756887</td>\n",
       "      <td>1.0</td>\n",
       "    </tr>\n",
       "    <tr>\n",
       "      <th>1</th>\n",
       "      <td>0.960147</td>\n",
       "      <td>1.0</td>\n",
       "    </tr>\n",
       "    <tr>\n",
       "      <th>2</th>\n",
       "      <td>0.328800</td>\n",
       "      <td>1.0</td>\n",
       "    </tr>\n",
       "    <tr>\n",
       "      <th>3</th>\n",
       "      <td>0.693620</td>\n",
       "      <td>1.0</td>\n",
       "    </tr>\n",
       "    <tr>\n",
       "      <th>4</th>\n",
       "      <td>0.510816</td>\n",
       "      <td>1.0</td>\n",
       "    </tr>\n",
       "  </tbody>\n",
       "</table>\n",
       "</div>"
      ],
      "text/plain": [
       "       pred  gen_target\n",
       "0  0.756887         1.0\n",
       "1  0.960147         1.0\n",
       "2  0.328800         1.0\n",
       "3  0.693620         1.0\n",
       "4  0.510816         1.0"
      ]
     },
     "execution_count": null,
     "metadata": {},
     "output_type": "execute_result"
    }
   ],
   "source": [
    "df.head()"
   ]
  },
  {
   "cell_type": "code",
   "execution_count": null,
   "metadata": {},
   "outputs": [
    {
     "data": {
      "image/png": "[encoded data removed]",
      "text/plain": [
       "<Figure size 1024x576 with 1 Axes>"
      ]
     },
     "metadata": {},
     "output_type": "display_data"
    }
   ],
   "source": [
    "plot_preds(df)"
   ]
  },
  {
   "cell_type": "markdown",
   "metadata": {},
   "source": [
    "## Inference plots"
   ]
  },
  {
   "cell_type": "code",
   "execution_count": null,
   "metadata": {},
   "outputs": [],
   "source": [
    "# export\n",
    "def plot_likelihood(nlls:Union[Dict[str,Tensor],List[Tensor]], mu_scan:Tensor, labels:Optional[List[str]]=None) -> List[float]:\n",
    "    if isinstance(nlls, dict):\n",
    "        labels = list(nlls.keys())\n",
    "        nlls = [nlls[k] for k in nlls]\n",
    "    if not is_listy(nlls): nlls = [nlls]\n",
    "    if labels is None: labels = ['' for _ in nlls]\n",
    "    elif not is_listy(labels): labels = [labels]\n",
    "    \n",
    "    widths = []\n",
    "    with sns.axes_style(**plt_style), sns.color_palette(plt_cat_pal) as palette:\n",
    "        plt.figure(figsize=(plt_sz*16/9, plt_sz))\n",
    "        plt.plot(mu_scan,0.5*np.ones_like(mu_scan), linestyle='--', color='black')\n",
    "        for nll,lbl in zip(nlls,labels):\n",
    "            dnll = nll-nll.min()  # Shift nll to zero\n",
    "            try:               widths.append(get_likelihood_width(nll, mu_scan=mu_scan))\n",
    "            except ValueError: widths.append(np.NaN)\n",
    "            m = mu_scan[np.argmin(nll)]\n",
    "            plt.plot(mu_scan, dnll, label=fr'{lbl} $\\mu={mu_scan[np.argmin(nll)]}\\pm{widths[-1]:.2f}$')\n",
    "        plt.legend(fontsize=plt_leg_sz)\n",
    "        plt.xlabel(r\"$\\mu$\", fontsize=plt_lbl_sz)\n",
    "        plt.ylabel(r\"Profiled $\\Delta\\left(-L\\right)$\", fontsize=plt_lbl_sz)\n",
    "        plt.xticks(fontsize=plt_tk_sz)\n",
    "        plt.yticks(fontsize=plt_tk_sz)\n",
    "        plt.show()\n",
    "\n",
    "        return widths"
   ]
  },
  {
   "cell_type": "code",
   "execution_count": null,
   "metadata": {},
   "outputs": [],
   "source": []
  }
 ],
 "metadata": {
  "kernelspec": {
   "display_name": "Python 3",
   "language": "python",
   "name": "python3"
  }
 },
 "nbformat": 4,
 "nbformat_minor": 2
}
