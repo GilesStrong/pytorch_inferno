{
 "cells": [
  {
   "cell_type": "code",
   "execution_count": 1,
   "metadata": {},
   "outputs": [],
   "source": [
    "# default_exp inferno"
   ]
  },
  {
   "cell_type": "code",
   "execution_count": 2,
   "metadata": {},
   "outputs": [],
   "source": [
    "%matplotlib inline\n",
    "%reload_ext autoreload\n",
    "%autoreload 2"
   ]
  },
  {
   "cell_type": "markdown",
   "metadata": {},
   "source": [
    "# INFERNO loss\n",
    "\n",
    "> API details."
   ]
  },
  {
   "cell_type": "code",
   "execution_count": 3,
   "metadata": {},
   "outputs": [],
   "source": [
    "#hide\n",
    "from nbdev.showdoc import *"
   ]
  },
  {
   "cell_type": "code",
   "execution_count": 4,
   "metadata": {},
   "outputs": [],
   "source": [
    "from pytorch_inferno.model_wrapper import ModelWrapper\n",
    "from pytorch_inferno.callback import *\n",
    "from pytorch_inferno.data import get_paper_data\n",
    "from pytorch_inferno.plotting import *\n",
    "from pytorch_inferno.inference import *\n",
    "from pytorch_inferno.utils import *\n",
    "from pytorch_inferno.inferno import *\n",
    "\n",
    "from fastcore.all import partialler\n",
    "import pandas as pd\n",
    "import numpy as np\n",
    "import matplotlib.pyplot as plt\n",
    "import seaborn as sns\n",
    "import itertools\n",
    "from typing import *\n",
    "from collections import OrderedDict\n",
    "from fastcore.all import store_attr\n",
    "from abc import abstractmethod\n",
    "\n",
    "import torch.nn.functional as F\n",
    "from torch import optim, autograd, nn, Tensor\n",
    "import torch\n",
    "from torch.distributions import Normal"
   ]
  },
  {
   "cell_type": "code",
   "execution_count": 5,
   "metadata": {},
   "outputs": [],
   "source": [
    "bs = 2000\n",
    "data, test = get_paper_data(200000, bs=bs, n_test=1000000)"
   ]
  },
  {
   "cell_type": "code",
   "execution_count": 6,
   "metadata": {},
   "outputs": [],
   "source": [
    "net = nn.Sequential(nn.Linear(3,100),  nn.ReLU(),\n",
    "                    nn.Linear(100,100),nn.ReLU(),\n",
    "                    nn.Linear(100,10), VariableSoftmax(0.1))\n",
    "init_net(net)\n",
    "model = ModelWrapper(net)"
   ]
  },
  {
   "cell_type": "code",
   "execution_count": null,
   "metadata": {},
   "outputs": [
    {
     "data": {
      "text/html": [
       "\n",
       "    <div>\n",
       "        <style>\n",
       "            /* Turns off some styling */\n",
       "            progress {\n",
       "                /* gets rid of default border in Firefox and Opera. */\n",
       "                border: none;\n",
       "                /* Needs to be in here for Safari polyfill so background images work as expected. */\n",
       "                background-size: auto;\n",
       "            }\n",
       "            .progress-bar-interrupted, .progress-bar-interrupted::-webkit-progress-bar {\n",
       "                background: #F44336;\n",
       "            }\n",
       "        </style>\n",
       "      <progress value='64' class='' max='200', style='width:300px; height:20px; vertical-align: middle;'></progress>\n",
       "      32.00% [64/200 22:33<47:56]\n",
       "    </div>\n",
       "    \n",
       "\n",
       "\n",
       "    <div>\n",
       "        <style>\n",
       "            /* Turns off some styling */\n",
       "            progress {\n",
       "                /* gets rid of default border in Firefox and Opera. */\n",
       "                border: none;\n",
       "                /* Needs to be in here for Safari polyfill so background images work as expected. */\n",
       "                background-size: auto;\n",
       "            }\n",
       "            .progress-bar-interrupted, .progress-bar-interrupted::-webkit-progress-bar {\n",
       "                background: #F44336;\n",
       "            }\n",
       "        </style>\n",
       "      <progress value='60' class='' max='100', style='width:300px; height:20px; vertical-align: middle;'></progress>\n",
       "      60.00% [60/100 00:07<00:05]\n",
       "    </div>\n",
       "    "
      ],
      "text/plain": [
       "<IPython.core.display.HTML object>"
      ]
     },
     "metadata": {},
     "output_type": "display_data"
    },
    {
     "name": "stdout",
     "output_type": "stream",
     "text": [
      "1: Train=1655.936137084961 Valid=971.9936413574219\n",
      "2: Train=759.7977899169922 Valid=685.628374633789\n",
      "3: Train=676.5568557739258 Valid=770.0616033935547\n",
      "4: Train=616.5499044799805 Valid=612.3249523925781\n",
      "5: Train=577.2624838256836 Valid=596.5664288330078\n",
      "6: Train=560.8420623779297 Valid=565.7110998535156\n",
      "7: Train=548.3731503295899 Valid=559.9101647949219\n",
      "8: Train=514.2079681396484 Valid=558.5456134033203\n",
      "9: Train=518.2867294311524 Valid=529.9420764160157\n",
      "10: Train=511.2441650390625 Valid=524.2600451660156\n",
      "11: Train=502.26902099609373 Valid=506.7028521728516\n",
      "12: Train=483.35285614013674 Valid=489.73298706054686\n",
      "13: Train=496.1157257080078 Valid=486.9799993896484\n",
      "14: Train=464.79114227294923 Valid=471.14662841796877\n",
      "15: Train=455.9293603515625 Valid=480.18162536621094\n",
      "16: Train=447.44385986328126 Valid=457.1601885986328\n",
      "17: Train=439.6057748413086 Valid=459.266572265625\n",
      "18: Train=439.7900717163086 Valid=439.43915283203125\n",
      "19: Train=434.8647869873047 Valid=435.0459729003906\n",
      "20: Train=423.9577212524414 Valid=432.46262634277343\n",
      "21: Train=418.9447717285156 Valid=433.13575256347656\n",
      "22: Train=411.15733642578124 Valid=433.7659216308594\n",
      "23: Train=415.78753356933595 Valid=420.7864068603516\n",
      "24: Train=410.8004995727539 Valid=421.9945513916016\n",
      "25: Train=410.6194564819336 Valid=415.5269482421875\n",
      "26: Train=406.02652069091795 Valid=415.720283203125\n",
      "27: Train=403.6827084350586 Valid=407.1769677734375\n",
      "28: Train=394.27019470214844 Valid=406.1019842529297\n",
      "29: Train=395.1148324584961 Valid=406.9448797607422\n",
      "30: Train=389.4833093261719 Valid=401.6350653076172\n",
      "31: Train=391.548369140625 Valid=415.68295715332033\n",
      "32: Train=385.9777563476562 Valid=399.4778057861328\n",
      "33: Train=381.678913269043 Valid=399.86567749023436\n",
      "34: Train=380.0688757324219 Valid=401.46410278320315\n",
      "35: Train=382.76546142578127 Valid=401.72164428710937\n",
      "36: Train=381.9252990722656 Valid=398.5299499511719\n",
      "37: Train=378.2272088623047 Valid=400.90675964355466\n",
      "38: Train=381.8699087524414 Valid=399.64386657714846\n",
      "39: Train=375.2957467651367 Valid=397.18796813964843\n",
      "40: Train=378.256123046875 Valid=393.83962158203127\n",
      "41: Train=376.34082290649417 Valid=393.0769744873047\n",
      "42: Train=376.1932568359375 Valid=393.91587524414064\n",
      "43: Train=380.69060668945315 Valid=398.70025817871095\n",
      "44: Train=373.6987622070312 Valid=389.8838494873047\n",
      "45: Train=374.94965423583983 Valid=393.95396118164064\n",
      "46: Train=371.9837002563477 Valid=387.8451971435547\n",
      "47: Train=372.7364633178711 Valid=382.9336920166016\n",
      "48: Train=372.1606170654297 Valid=384.34531982421873\n",
      "49: Train=365.165334777832 Valid=383.78163940429687\n",
      "50: Train=364.674938659668 Valid=386.26415954589845\n",
      "51: Train=364.15671691894534 Valid=379.19097412109375\n",
      "52: Train=366.7707858276367 Valid=382.5128460693359\n",
      "53: Train=366.6020916748047 Valid=380.1521942138672\n",
      "54: Train=362.77980163574216 Valid=377.6644580078125\n",
      "55: Train=363.8561181640625 Valid=380.7861535644531\n",
      "56: Train=361.5132501220703 Valid=377.67046020507814\n",
      "57: Train=362.86034698486327 Valid=376.479609375\n",
      "58: Train=357.05033142089843 Valid=374.9919183349609\n",
      "59: Train=360.3548291015625 Valid=371.4234600830078\n",
      "60: Train=358.44498275756837 Valid=372.20392333984375\n",
      "61: Train=360.0708413696289 Valid=380.1870513916016\n",
      "62: Train=358.8009619140625 Valid=369.61675354003904\n",
      "63: Train=354.8477523803711 Valid=373.3885400390625\n",
      "64: Train=355.4594674682617 Valid=370.48827575683595\n"
     ]
    }
   ],
   "source": [
    "%%time\n",
    "model.fit(200, data=data, opt=partialler(optim.SGD,lr=1e-6), loss=None,\n",
    "          cbs=[PaperInferno(float_r=True, float_l=True, alpha_aux=[Normal(0,2), Normal(0,2)], float_b=True, b_aux=Normal(1000,100)),\n",
    "               LossTracker(),SaveBest('weights/best_ie4.h5'),EarlyStopping(10)])"
   ]
  },
  {
   "cell_type": "code",
   "execution_count": 8,
   "metadata": {},
   "outputs": [],
   "source": [
    "model.save('weights/Inferno_Test_exact_bm4.h5')"
   ]
  },
  {
   "cell_type": "code",
   "execution_count": 9,
   "metadata": {},
   "outputs": [],
   "source": [
    "model.load('weights/Inferno_Test_exact_bm4.h5')"
   ]
  },
  {
   "cell_type": "markdown",
   "metadata": {},
   "source": [
    "# Results"
   ]
  },
  {
   "cell_type": "markdown",
   "metadata": {},
   "source": [
    "## BM 0"
   ]
  },
  {
   "cell_type": "code",
   "execution_count": null,
   "metadata": {},
   "outputs": [
    {
     "data": {
      "text/html": [
       "\n",
       "    <div>\n",
       "        <style>\n",
       "            /* Turns off some styling */\n",
       "            progress {\n",
       "                /* gets rid of default border in Firefox and Opera. */\n",
       "                border: none;\n",
       "                /* Needs to be in here for Safari polyfill so background images work as expected. */\n",
       "                background-size: auto;\n",
       "            }\n",
       "            .progress-bar-interrupted, .progress-bar-interrupted::-webkit-progress-bar {\n",
       "                background: #F44336;\n",
       "            }\n",
       "        </style>\n",
       "      <progress value='15' class='' max='250', style='width:300px; height:20px; vertical-align: middle;'></progress>\n",
       "      6.00% [15/250 00:01<00:17]\n",
       "    </div>\n",
       "    "
      ],
      "text/plain": [
       "<IPython.core.display.HTML object>"
      ]
     },
     "metadata": {},
     "output_type": "display_data"
    }
   ],
   "source": [
    "preds = model._predict_dl(test, pred_cb=InfernoPred())"
   ]
  },
  {
   "cell_type": "code",
   "execution_count": null,
   "metadata": {},
   "outputs": [],
   "source": [
    "df = pd.DataFrame({'pred':preds})\n",
    "df['gen_target'] = test.dataset.y\n",
    "df.head()"
   ]
  },
  {
   "cell_type": "code",
   "execution_count": null,
   "metadata": {},
   "outputs": [],
   "source": [
    "plot_preds(df, bin_edges=np.linspace(0,10,11))"
   ]
  },
  {
   "cell_type": "code",
   "execution_count": null,
   "metadata": {},
   "outputs": [],
   "source": [
    "bin_preds(df)"
   ]
  },
  {
   "cell_type": "code",
   "execution_count": null,
   "metadata": {},
   "outputs": [],
   "source": [
    "df.head()"
   ]
  },
  {
   "cell_type": "code",
   "execution_count": null,
   "metadata": {},
   "outputs": [],
   "source": [
    "f_s,f_b = get_shape(df,1),get_shape(df,0)"
   ]
  },
  {
   "cell_type": "code",
   "execution_count": null,
   "metadata": {},
   "outputs": [],
   "source": [
    "f_s.sum(), f_b.sum()"
   ]
  },
  {
   "cell_type": "code",
   "execution_count": null,
   "metadata": {},
   "outputs": [],
   "source": [
    "f_s, f_b"
   ]
  },
  {
   "cell_type": "code",
   "execution_count": null,
   "metadata": {},
   "outputs": [],
   "source": [
    "asimov = (50*f_s)+(1000*f_b)"
   ]
  },
  {
   "cell_type": "code",
   "execution_count": null,
   "metadata": {},
   "outputs": [],
   "source": [
    "asimov, asimov.sum()"
   ]
  },
  {
   "cell_type": "code",
   "execution_count": null,
   "metadata": {},
   "outputs": [],
   "source": [
    "n = 1050\n",
    "x = np.linspace(20,80,61)\n",
    "y = np.zeros_like(x)\n",
    "for i,m in enumerate(x):\n",
    "    pois = torch.distributions.Poisson((m*f_s)+(1000*f_b))\n",
    "    y[i] = -pois.log_prob(asimov).sum()\n",
    "y"
   ]
  },
  {
   "cell_type": "code",
   "execution_count": null,
   "metadata": {},
   "outputs": [],
   "source": [
    "y_tf2 = np.array([31.626238,31.466385,31.313095,31.166267,31.025808,30.891619,30.76361\n",
    ",30.641693,30.525778,30.415783,30.31162,30.213215,30.120483,30.033348\n",
    ",29.951736,29.875574,29.804789,29.739307,29.679066,29.623993,29.574026\n",
    ",29.5291,29.489151,29.454117,29.423939,29.398558,29.377914,29.361954\n",
    ",29.35062,29.343859,29.341618,29.343842,29.350483,29.36149,29.376812\n",
    ",29.396404,29.420216,29.448202,29.480318,29.516518,29.556757,29.600994\n",
    ",29.649185,29.70129,29.757267,29.817076,29.88068,29.948036,30.019108\n",
    ",30.093859,30.17225,30.25425,30.339819,30.42892,30.521524,30.617598\n",
    ",30.7171,30.820007,30.926281,31.035892,31.148808], dtype='float32')"
   ]
  },
  {
   "cell_type": "code",
   "execution_count": null,
   "metadata": {},
   "outputs": [],
   "source": [
    "y_tf2-y_tf2.min()"
   ]
  },
  {
   "cell_type": "code",
   "execution_count": null,
   "metadata": {
    "scrolled": false
   },
   "outputs": [],
   "source": [
    "plot_likelihood(y-y.min())"
   ]
  },
  {
   "cell_type": "code",
   "execution_count": null,
   "metadata": {
    "scrolled": false
   },
   "outputs": [],
   "source": [
    "plot_likelihood(y_tf2-y_tf2.min())"
   ]
  },
  {
   "cell_type": "markdown",
   "metadata": {},
   "source": [
    "# Nuisances - via interpolation"
   ]
  },
  {
   "cell_type": "code",
   "execution_count": null,
   "metadata": {},
   "outputs": [],
   "source": [
    "bkg = test.dataset.x[test.dataset.y.squeeze() == 0]\n",
    "assert len(bkg) == 500000"
   ]
  },
  {
   "cell_type": "code",
   "execution_count": null,
   "metadata": {},
   "outputs": [],
   "source": [
    "b_shapes = get_paper_syst_shapes(bkg, df, model=model, pred_cb=InfernoPred())"
   ]
  },
  {
   "cell_type": "code",
   "execution_count": null,
   "metadata": {},
   "outputs": [],
   "source": [
    "df"
   ]
  },
  {
   "cell_type": "code",
   "execution_count": null,
   "metadata": {},
   "outputs": [],
   "source": [
    "plot_preds(df, pred_names=['pred', 'pred_-0.2_3', 'pred_0.2_3', 'pred_0_2.5', 'pred_0_3.5'], bin_edges=np.linspace(0,10,11))"
   ]
  },
  {
   "cell_type": "code",
   "execution_count": null,
   "metadata": {},
   "outputs": [],
   "source": [
    "fig = plt.figure(figsize=(12,8))\n",
    "for r in [-1,0,1]:\n",
    "    for l in [-1,0,1]:\n",
    "        alpha = Tensor((r,l))[None,:]\n",
    "        s = interp_shape(alpha, **b_shapes).squeeze()\n",
    "        print(s)\n",
    "        plt.plot(s, label=f'{r} {l}')\n",
    "plt.legend()"
   ]
  },
  {
   "cell_type": "markdown",
   "metadata": {},
   "source": [
    "# Newton"
   ]
  },
  {
   "cell_type": "code",
   "execution_count": null,
   "metadata": {},
   "outputs": [],
   "source": [
    "profiler = partialler(calc_profile, n=1050, mu_scan=torch.linspace(20,80,61), true_mu=50)"
   ]
  },
  {
   "cell_type": "markdown",
   "metadata": {},
   "source": [
    "## BM 1\n",
    "r free, l fixed"
   ]
  },
  {
   "cell_type": "code",
   "execution_count": null,
   "metadata": {},
   "outputs": [],
   "source": [
    "bm1_b_shapes = OrderedDict([('f_b_nom', b_shapes['f_b_nom']),\n",
    "                            ('f_b_up',  b_shapes['f_b_up'][0][None,:]),\n",
    "                            ('f_b_dw',  b_shapes['f_b_dw'][0][None,:])])"
   ]
  },
  {
   "cell_type": "code",
   "execution_count": null,
   "metadata": {},
   "outputs": [],
   "source": [
    "bm1_b_shapes['f_b_up'].shape"
   ]
  },
  {
   "cell_type": "code",
   "execution_count": null,
   "metadata": {},
   "outputs": [],
   "source": [
    "nll = profiler(f_s=f_s, n_steps=100, **bm1_b_shapes)"
   ]
  },
  {
   "cell_type": "code",
   "execution_count": null,
   "metadata": {},
   "outputs": [],
   "source": [
    "nll = to_np(nll)"
   ]
  },
  {
   "cell_type": "code",
   "execution_count": null,
   "metadata": {},
   "outputs": [],
   "source": [
    "plot_likelihood(nll-nll.min())"
   ]
  },
  {
   "cell_type": "markdown",
   "metadata": {},
   "source": [
    "## BM 1l\n",
    "r fixed, l free"
   ]
  },
  {
   "cell_type": "code",
   "execution_count": null,
   "metadata": {},
   "outputs": [],
   "source": [
    "bm1l_b_shapes = OrderedDict([('f_b_nom', b_shapes['f_b_nom']),\n",
    "                             ('f_b_up',  b_shapes['f_b_up'][1][None,:]),\n",
    "                             ('f_b_dw',  b_shapes['f_b_dw'][1][None,:])])"
   ]
  },
  {
   "cell_type": "code",
   "execution_count": null,
   "metadata": {},
   "outputs": [],
   "source": [
    "nll = profiler(f_s=f_s, n_steps=100, **bm1l_b_shapes)"
   ]
  },
  {
   "cell_type": "code",
   "execution_count": null,
   "metadata": {},
   "outputs": [],
   "source": [
    "nll = to_np(nll)"
   ]
  },
  {
   "cell_type": "code",
   "execution_count": null,
   "metadata": {},
   "outputs": [],
   "source": [
    "plot_likelihood(nll-nll.min())"
   ]
  },
  {
   "cell_type": "markdown",
   "metadata": {},
   "source": [
    "## BM 2"
   ]
  },
  {
   "cell_type": "code",
   "execution_count": null,
   "metadata": {},
   "outputs": [],
   "source": [
    "nll = profiler(f_s=f_s, n_steps=100, **b_shapes)"
   ]
  },
  {
   "cell_type": "code",
   "execution_count": null,
   "metadata": {},
   "outputs": [],
   "source": [
    "nll = to_np(nll)"
   ]
  },
  {
   "cell_type": "code",
   "execution_count": null,
   "metadata": {},
   "outputs": [],
   "source": [
    "plot_likelihood(nll-nll.min())"
   ]
  },
  {
   "cell_type": "markdown",
   "metadata": {},
   "source": [
    "## BM 3"
   ]
  },
  {
   "cell_type": "code",
   "execution_count": null,
   "metadata": {},
   "outputs": [],
   "source": [
    "alpha_aux = [Normal(0,2), Normal(0,2)]"
   ]
  },
  {
   "cell_type": "code",
   "execution_count": null,
   "metadata": {},
   "outputs": [],
   "source": [
    "nll = profiler(f_s=f_s, n_steps=100, alpha_aux=alpha_aux, **b_shapes)"
   ]
  },
  {
   "cell_type": "code",
   "execution_count": null,
   "metadata": {},
   "outputs": [],
   "source": [
    "nll = to_np(nll)"
   ]
  },
  {
   "cell_type": "code",
   "execution_count": null,
   "metadata": {},
   "outputs": [],
   "source": [
    "plot_likelihood(nll-nll.min())"
   ]
  },
  {
   "cell_type": "markdown",
   "metadata": {},
   "source": [
    "## BM 4"
   ]
  },
  {
   "cell_type": "code",
   "execution_count": null,
   "metadata": {},
   "outputs": [],
   "source": [
    "alpha_aux = [Normal(0,2), Normal(0,2)]"
   ]
  },
  {
   "cell_type": "code",
   "execution_count": null,
   "metadata": {},
   "outputs": [],
   "source": [
    "nll = profiler(f_s=f_s, n_steps=100, alpha_aux=alpha_aux, float_b=True, b_aux=Normal(1000,100), **b_shapes)"
   ]
  },
  {
   "cell_type": "code",
   "execution_count": null,
   "metadata": {},
   "outputs": [],
   "source": [
    "nll = to_np(nll)"
   ]
  },
  {
   "cell_type": "code",
   "execution_count": null,
   "metadata": {},
   "outputs": [],
   "source": [
    "plot_likelihood(nll-nll.min())"
   ]
  },
  {
   "cell_type": "code",
   "execution_count": null,
   "metadata": {},
   "outputs": [],
   "source": []
  }
 ],
 "metadata": {
  "kernelspec": {
   "display_name": "Python 3",
   "language": "python",
   "name": "python3"
  },
  "language_info": {
   "codemirror_mode": {
    "name": "ipython",
    "version": 3
   },
   "file_extension": ".py",
   "mimetype": "text/x-python",
   "name": "python",
   "nbconvert_exporter": "python",
   "pygments_lexer": "ipython3",
   "version": "3.6.5"
  },
  "toc": {
   "base_numbering": 1,
   "nav_menu": {},
   "number_sections": true,
   "sideBar": true,
   "skip_h1_title": false,
   "title_cell": "Table of Contents",
   "title_sidebar": "Contents",
   "toc_cell": false,
   "toc_position": {},
   "toc_section_display": true,
   "toc_window_display": false
  }
 },
 "nbformat": 4,
 "nbformat_minor": 2
}
